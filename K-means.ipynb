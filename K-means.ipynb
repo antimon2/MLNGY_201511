{
 "cells": [
  {
   "cell_type": "markdown",
   "metadata": {
    "slideshow": {
     "slide_type": "slide"
    }
   },
   "source": [
    "# K-means 実習<br><small>ハンズオン資料</small>"
   ]
  },
  {
   "cell_type": "markdown",
   "metadata": {},
   "source": [
    "<p style=\"text-align:center;font-size:150%;line-height:150%\">2015/11/28 機械学習 名古屋 第2回勉強会</p>"
   ]
  },
  {
   "cell_type": "markdown",
   "metadata": {
    "slideshow": {
     "slide_type": "subslide"
    }
   },
   "source": [
    "## はじめに"
   ]
  },
  {
   "cell_type": "markdown",
   "metadata": {},
   "source": [
    "この資料は、K-means 法（以降、単に K-means と記述）を用いて、教師なし学習（クラスタリング）を実行するプログラムを作成・実行することを目的とするものです。"
   ]
  },
  {
   "cell_type": "markdown",
   "metadata": {
    "slideshow": {
     "slide_type": "subslide"
    }
   },
   "source": [
    "## 目標"
   ]
  },
  {
   "cell_type": "markdown",
   "metadata": {},
   "source": [
    "+ 簡単なサンプルデータを用いて、自力で K-means によるクラスタリングが実装出来るようになる。\n",
    "+ 自分の組んだ K-means が正しくクラスタリングを実施できているか確認できる（オプション）。\n",
    "+ K-means の使い道を考える（オプション、もしくは宿題）。"
   ]
  },
  {
   "cell_type": "markdown",
   "metadata": {
    "slideshow": {
     "slide_type": "subslide"
    }
   },
   "source": [
    "## 環境等"
   ]
  },
  {
   "cell_type": "markdown",
   "metadata": {},
   "source": [
    "以下の環境を前提とします。\n",
    "\n",
    "+ Python（必須）（2.7.x / 3.x どちらでもOK）\n",
    "+ numpy（任意、あると便利）\n",
    "+ matplotlib（任意ですが、データや学習結果を確認するのに必要）\n",
    "+ IPython（任意）"
   ]
  },
  {
   "cell_type": "markdown",
   "metadata": {
    "slideshow": {
     "slide_type": "slide"
    }
   },
   "source": [
    "## K-means"
   ]
  },
  {
   "cell_type": "markdown",
   "metadata": {
    "slideshow": {
     "slide_type": "subslide"
    }
   },
   "source": [
    "K-means は、以下の2つのステップを繰り返し行う：\n",
    "\n",
    "+ クラスタ割り付け\n",
    "+ 重心移動"
   ]
  },
  {
   "cell_type": "markdown",
   "metadata": {
    "slideshow": {
     "slide_type": "slide"
    }
   },
   "source": [
    "### クラスタ割り付け"
   ]
  },
  {
   "cell_type": "markdown",
   "metadata": {
    "slideshow": {
     "slide_type": "fragment"
    }
   },
   "source": [
    "+ データセットの各点を、どのクラスタに属するか判定して割り付けていく。\n",
    "+ 具体的には、用意された K個 の「クラスタ重心 (centorids)」のうち、どれに一番「近いか」で判定。"
   ]
  },
  {
   "cell_type": "markdown",
   "metadata": {
    "slideshow": {
     "slide_type": "slide"
    }
   },
   "source": [
    "### 重心移動"
   ]
  },
  {
   "cell_type": "markdown",
   "metadata": {
    "slideshow": {
     "slide_type": "fragment"
    }
   },
   "source": [
    "+ 各クラスタに属する点の集合から、その重心を算出する。\n",
    "+ 計算した重心を新しい「クラスタ重心 (centroids)」とする（置き換える）。"
   ]
  },
  {
   "cell_type": "markdown",
   "metadata": {
    "collapsed": true,
    "slideshow": {
     "slide_type": "slide"
    }
   },
   "source": [
    "## K-means のアルゴリズム"
   ]
  },
  {
   "cell_type": "markdown",
   "metadata": {
    "slideshow": {
     "slide_type": "subslide"
    }
   },
   "source": [
    "0. 前準備：\n",
    "  1. データを読み込む。\n",
    "  2. クラスタ数 K を与える。\n",
    "1. K個 の「クラスタ重心 (centroids)」を乱択する。\n",
    "2. 以下のループを実施：\n",
    "  1. クラスタ割り付けステップ\n",
    "  2. 重心移動ステップ\n",
    "3. 結果表示"
   ]
  },
  {
   "cell_type": "markdown",
   "metadata": {
    "collapsed": true,
    "slideshow": {
     "slide_type": "slide"
    }
   },
   "source": [
    "## 1. 前準備"
   ]
  },
  {
   "cell_type": "code",
   "execution_count": 1,
   "metadata": {
    "collapsed": true,
    "slideshow": {
     "slide_type": "notes"
    }
   },
   "outputs": [],
   "source": [
    "%matplotlib inline\n",
    "%config InlineBackend.figure_format = 'svg'\n",
    "import matplotlib.pyplot as plt\n",
    "import numpy as np"
   ]
  },
  {
   "cell_type": "markdown",
   "metadata": {
    "collapsed": true,
    "slideshow": {
     "slide_type": "subslide"
    }
   },
   "source": [
    "### 1-A. データを読み込む。"
   ]
  },
  {
   "cell_type": "markdown",
   "metadata": {},
   "source": [
    "※用意したサンプルデータは、1行に小数点付きの数値 (0.0〜20.0) が半角空白区切で2つ、それが100行くらい含まれています。"
   ]
  },
  {
   "cell_type": "markdown",
   "metadata": {
    "slideshow": {
     "slide_type": "subslide"
    }
   },
   "source": [
    "#### Python 標準関数のみを使用する方法"
   ]
  },
  {
   "cell_type": "markdown",
   "metadata": {},
   "source": [
    "※入力後のデータは、「リストのリスト」になります。"
   ]
  },
  {
   "cell_type": "code",
   "execution_count": null,
   "metadata": {
    "collapsed": true,
    "slideshow": {
     "slide_type": "fragment"
    }
   },
   "outputs": [],
   "source": [
    "data = []\n",
    "with open('CodeIQ_data.txt', 'r') as f:\n",
    "    data = [[float(n) for n in line.strip().split()] for line in f.readlines()]\n",
    "\n",
    "# i番目のデータ（i≧0）を取り出す方法：\n",
    "# data[i]\n",
    "# x成分（1列目）・y成分（2列目）をそれぞれ取り出す方法：\n",
    "# data_x, data_y = map(list, zip(*data))\n"
   ]
  },
  {
   "cell_type": "markdown",
   "metadata": {
    "slideshow": {
     "slide_type": "subslide"
    }
   },
   "source": [
    "#### numpy を利用する方法"
   ]
  },
  {
   "cell_type": "markdown",
   "metadata": {},
   "source": [
    "※入力後のデータは、`numpy.ndarray` になります。"
   ]
  },
  {
   "cell_type": "code",
   "execution_count": 2,
   "metadata": {
    "collapsed": true,
    "slideshow": {
     "slide_type": "fragment"
    }
   },
   "outputs": [],
   "source": [
    "import numpy as np\n",
    "data = np.loadtxt('CodeIQ_data.txt', delimiter=' ')\n",
    "\n",
    "# i番目のデータ（i≧0）を取り出す方法：\n",
    "# data[i] または data[i, :]\n",
    "# x成分（1列目）・y成分（2列目）をそれぞれ取り出す方法：\n",
    "# data_x = data[:, 0]\n",
    "# data_y = data[:, 1]\n"
   ]
  },
  {
   "cell_type": "markdown",
   "metadata": {
    "collapsed": true,
    "slideshow": {
     "slide_type": "subslide"
    }
   },
   "source": [
    "### 1-B. クラスタ数 K を与える。"
   ]
  },
  {
   "cell_type": "markdown",
   "metadata": {
    "slideshow": {
     "slide_type": "fragment"
    }
   },
   "source": [
    "<big style=\"display:block;font-size:300%;font-style:bold;line-height:150%;text-align:center\">目視で！</big>"
   ]
  },
  {
   "cell_type": "code",
   "execution_count": 4,
   "metadata": {
    "collapsed": false,
    "scrolled": false,
    "slideshow": {
     "slide_type": "subslide"
    }
   },
   "outputs": [
    {
     "data": {
      "text/plain": [
       "<matplotlib.collections.PathCollection at 0x10aba1450>"
      ]
     },
     "execution_count": 4,
     "metadata": {},
     "output_type": "execute_result"
    },
    {
     "data": {
      "image/svg+xml": [
       "<?xml version=\"1.0\" encoding=\"utf-8\" standalone=\"no\"?>\n",
       "<!DOCTYPE svg PUBLIC \"-//W3C//DTD SVG 1.1//EN\"\n",
       "  \"http://www.w3.org/Graphics/SVG/1.1/DTD/svg11.dtd\">\n",
       "<!-- Created with matplotlib (http://matplotlib.org/) -->\n",
       "<svg height=\"256pt\" version=\"1.1\" viewBox=\"0 0 370 256\" width=\"370pt\" xmlns=\"http://www.w3.org/2000/svg\" xmlns:xlink=\"http://www.w3.org/1999/xlink\">\n",
       " <defs>\n",
       "  <style type=\"text/css\">\n",
       "*{stroke-linecap:butt;stroke-linejoin:round;}\n",
       "  </style>\n",
       " </defs>\n",
       " <g id=\"figure_1\">\n",
       "  <g id=\"patch_1\">\n",
       "   <path d=\"\n",
       "M3.55271e-15 256.117\n",
       "L370.192 256.117\n",
       "L370.192 0\n",
       "L3.55271e-15 0\n",
       "L3.55271e-15 256.117\" style=\"fill:none;\"/>\n",
       "  </g>\n",
       "  <g id=\"axes_1\">\n",
       "   <g id=\"patch_2\">\n",
       "    <path d=\"\n",
       "M22.5281 235.239\n",
       "L357.328 235.239\n",
       "L357.328 12.0391\n",
       "L22.5281 12.0391\n",
       "z\n",
       "\" style=\"fill:#ffffff;\"/>\n",
       "   </g>\n",
       "   <g id=\"PathCollection_1\">\n",
       "    <defs>\n",
       "     <path d=\"\n",
       "M0 2.23607\n",
       "C0.593012 2.23607 1.16182 2.00046 1.58114 1.58114\n",
       "C2.00046 1.16182 2.23607 0.593012 2.23607 0\n",
       "C2.23607 -0.593012 2.00046 -1.16182 1.58114 -1.58114\n",
       "C1.16182 -2.00046 0.593012 -2.23607 0 -2.23607\n",
       "C-0.593012 -2.23607 -1.16182 -2.00046 -1.58114 -1.58114\n",
       "C-2.00046 -1.16182 -2.23607 -0.593012 -2.23607 0\n",
       "C-2.23607 0.593012 -2.00046 1.16182 -1.58114 1.58114\n",
       "C-1.16182 2.00046 -0.593012 2.23607 0 2.23607\n",
       "z\n",
       "\" id=\"m892ea4c8d5\" style=\"stroke:#000000;\"/>\n",
       "    </defs>\n",
       "    <g clip-path=\"url(#pc21bb65674)\">\n",
       "     <use style=\"fill:#0000ff;stroke:#000000;\" x=\"239.143725\" xlink:href=\"#m892ea4c8d5\" y=\"194.8398625\"/>\n",
       "     <use style=\"fill:#0000ff;stroke:#000000;\" x=\"96.351525\" xlink:href=\"#m892ea4c8d5\" y=\"139.7094625\"/>\n",
       "     <use style=\"fill:#0000ff;stroke:#000000;\" x=\"249.187725\" xlink:href=\"#m892ea4c8d5\" y=\"49.6482625\"/>\n",
       "     <use style=\"fill:#0000ff;stroke:#000000;\" x=\"131.840325\" xlink:href=\"#m892ea4c8d5\" y=\"194.8398625\"/>\n",
       "     <use style=\"fill:#0000ff;stroke:#000000;\" x=\"194.113125\" xlink:href=\"#m892ea4c8d5\" y=\"201.5358625\"/>\n",
       "     <use style=\"fill:#0000ff;stroke:#000000;\" x=\"102.043125\" xlink:href=\"#m892ea4c8d5\" y=\"87.3690625\"/>\n",
       "     <use style=\"fill:#0000ff;stroke:#000000;\" x=\"156.113325\" xlink:href=\"#m892ea4c8d5\" y=\"194.3934625\"/>\n",
       "     <use style=\"fill:#0000ff;stroke:#000000;\" x=\"204.491925\" xlink:href=\"#m892ea4c8d5\" y=\"185.3538625\"/>\n",
       "     <use style=\"fill:#0000ff;stroke:#000000;\" x=\"60.695325\" xlink:href=\"#m892ea4c8d5\" y=\"105.5598625\"/>\n",
       "     <use style=\"fill:#0000ff;stroke:#000000;\" x=\"276.139125\" xlink:href=\"#m892ea4c8d5\" y=\"49.4250625\"/>\n",
       "     <use style=\"fill:#0000ff;stroke:#000000;\" x=\"67.056525\" xlink:href=\"#m892ea4c8d5\" y=\"77.7714625\"/>\n",
       "     <use style=\"fill:#0000ff;stroke:#000000;\" x=\"304.931925\" xlink:href=\"#m892ea4c8d5\" y=\"79.1106625\"/>\n",
       "     <use style=\"fill:#0000ff;stroke:#000000;\" x=\"128.324925\" xlink:href=\"#m892ea4c8d5\" y=\"113.1486625\"/>\n",
       "     <use style=\"fill:#0000ff;stroke:#000000;\" x=\"121.294125\" xlink:href=\"#m892ea4c8d5\" y=\"116.4966625\"/>\n",
       "     <use style=\"fill:#0000ff;stroke:#000000;\" x=\"227.760525\" xlink:href=\"#m892ea4c8d5\" y=\"221.0658625\"/>\n",
       "     <use style=\"fill:#0000ff;stroke:#000000;\" x=\"171.514125\" xlink:href=\"#m892ea4c8d5\" y=\"198.0762625\"/>\n",
       "     <use style=\"fill:#0000ff;stroke:#000000;\" x=\"208.509525\" xlink:href=\"#m892ea4c8d5\" y=\"87.1458625\"/>\n",
       "     <use style=\"fill:#0000ff;stroke:#000000;\" x=\"207.672525\" xlink:href=\"#m892ea4c8d5\" y=\"209.2362625\"/>\n",
       "     <use style=\"fill:#0000ff;stroke:#000000;\" x=\"139.540725\" xlink:href=\"#m892ea4c8d5\" y=\"62.8170625\"/>\n",
       "     <use style=\"fill:#0000ff;stroke:#000000;\" x=\"300.746925\" xlink:href=\"#m892ea4c8d5\" y=\"49.2018625\"/>\n",
       "     <use style=\"fill:#0000ff;stroke:#000000;\" x=\"183.232125\" xlink:href=\"#m892ea4c8d5\" y=\"191.6034625\"/>\n",
       "     <use style=\"fill:#0000ff;stroke:#000000;\" x=\"219.055725\" xlink:href=\"#m892ea4c8d5\" y=\"198.0762625\"/>\n",
       "     <use style=\"fill:#0000ff;stroke:#000000;\" x=\"337.909725\" xlink:href=\"#m892ea4c8d5\" y=\"51.0990625\"/>\n",
       "     <use style=\"fill:#0000ff;stroke:#000000;\" x=\"56.510325\" xlink:href=\"#m892ea4c8d5\" y=\"135.0222625\"/>\n",
       "     <use style=\"fill:#0000ff;stroke:#000000;\" x=\"277.143525\" xlink:href=\"#m892ea4c8d5\" y=\"68.1738625\"/>\n",
       "     <use style=\"fill:#0000ff;stroke:#000000;\" x=\"67.056525\" xlink:href=\"#m892ea4c8d5\" y=\"144.8430625\"/>\n",
       "     <use style=\"fill:#0000ff;stroke:#000000;\" x=\"82.792125\" xlink:href=\"#m892ea4c8d5\" y=\"106.8990625\"/>\n",
       "     <use style=\"fill:#0000ff;stroke:#000000;\" x=\"43.118325\" xlink:href=\"#m892ea4c8d5\" y=\"116.1618625\"/>\n",
       "     <use style=\"fill:#0000ff;stroke:#000000;\" x=\"263.416725\" xlink:href=\"#m892ea4c8d5\" y=\"83.6862625\"/>\n",
       "     <use style=\"fill:#0000ff;stroke:#000000;\" x=\"254.879325\" xlink:href=\"#m892ea4c8d5\" y=\"95.2926625\"/>\n",
       "     <use style=\"fill:#0000ff;stroke:#000000;\" x=\"141.549525\" xlink:href=\"#m892ea4c8d5\" y=\"74.3118625\"/>\n",
       "     <use style=\"fill:#0000ff;stroke:#000000;\" x=\"242.826525\" xlink:href=\"#m892ea4c8d5\" y=\"109.8006625\"/>\n",
       "     <use style=\"fill:#0000ff;stroke:#000000;\" x=\"264.421125\" xlink:href=\"#m892ea4c8d5\" y=\"74.6466625\"/>\n",
       "     <use style=\"fill:#0000ff;stroke:#000000;\" x=\"205.496325\" xlink:href=\"#m892ea4c8d5\" y=\"221.9586625\"/>\n",
       "     <use style=\"fill:#0000ff;stroke:#000000;\" x=\"156.448125\" xlink:href=\"#m892ea4c8d5\" y=\"205.5534625\"/>\n",
       "     <use style=\"fill:#0000ff;stroke:#000000;\" x=\"205.496325\" xlink:href=\"#m892ea4c8d5\" y=\"213.9234625\"/>\n",
       "     <use style=\"fill:#0000ff;stroke:#000000;\" x=\"175.029525\" xlink:href=\"#m892ea4c8d5\" y=\"187.1394625\"/>\n",
       "     <use style=\"fill:#0000ff;stroke:#000000;\" x=\"201.478725\" xlink:href=\"#m892ea4c8d5\" y=\"190.4874625\"/>\n",
       "     <use style=\"fill:#0000ff;stroke:#000000;\" x=\"85.805325\" xlink:href=\"#m892ea4c8d5\" y=\"109.5774625\"/>\n",
       "     <use style=\"fill:#0000ff;stroke:#000000;\" x=\"225.919125\" xlink:href=\"#m892ea4c8d5\" y=\"85.8066625\"/>\n",
       "     <use style=\"fill:#0000ff;stroke:#000000;\" x=\"149.417325\" xlink:href=\"#m892ea4c8d5\" y=\"204.9954625\"/>\n",
       "     <use style=\"fill:#0000ff;stroke:#000000;\" x=\"82.792125\" xlink:href=\"#m892ea4c8d5\" y=\"104.3322625\"/>\n",
       "     <use style=\"fill:#0000ff;stroke:#000000;\" x=\"148.078125\" xlink:href=\"#m892ea4c8d5\" y=\"202.0938625\"/>\n",
       "     <use style=\"fill:#0000ff;stroke:#000000;\" x=\"245.170125\" xlink:href=\"#m892ea4c8d5\" y=\"92.3910625\"/>\n",
       "     <use style=\"fill:#0000ff;stroke:#000000;\" x=\"89.822925\" xlink:href=\"#m892ea4c8d5\" y=\"95.5158625\"/>\n",
       "     <use style=\"fill:#0000ff;stroke:#000000;\" x=\"82.624725\" xlink:href=\"#m892ea4c8d5\" y=\"99.3102625\"/>\n",
       "     <use style=\"fill:#0000ff;stroke:#000000;\" x=\"182.395125\" xlink:href=\"#m892ea4c8d5\" y=\"213.7002625\"/>\n",
       "     <use style=\"fill:#0000ff;stroke:#000000;\" x=\"282.835125\" xlink:href=\"#m892ea4c8d5\" y=\"100.5378625\"/>\n",
       "     <use style=\"fill:#0000ff;stroke:#000000;\" x=\"191.267325\" xlink:href=\"#m892ea4c8d5\" y=\"216.2670625\"/>\n",
       "     <use style=\"fill:#0000ff;stroke:#000000;\" x=\"225.082125\" xlink:href=\"#m892ea4c8d5\" y=\"125.2014625\"/>\n",
       "     <use style=\"fill:#0000ff;stroke:#000000;\" x=\"57.849525\" xlink:href=\"#m892ea4c8d5\" y=\"146.7402625\"/>\n",
       "     <use style=\"fill:#0000ff;stroke:#000000;\" x=\"271.954125\" xlink:href=\"#m892ea4c8d5\" y=\"42.9522625\"/>\n",
       "     <use style=\"fill:#0000ff;stroke:#000000;\" x=\"81.285525\" xlink:href=\"#m892ea4c8d5\" y=\"110.4702625\"/>\n",
       "     <use style=\"fill:#0000ff;stroke:#000000;\" x=\"161.135325\" xlink:href=\"#m892ea4c8d5\" y=\"217.4946625\"/>\n",
       "     <use style=\"fill:#0000ff;stroke:#000000;\" x=\"193.778325\" xlink:href=\"#m892ea4c8d5\" y=\"205.1070625\"/>\n",
       "     <use style=\"fill:#0000ff;stroke:#000000;\" x=\"93.338325\" xlink:href=\"#m892ea4c8d5\" y=\"131.7858625\"/>\n",
       "     <use style=\"fill:#0000ff;stroke:#000000;\" x=\"202.817925\" xlink:href=\"#m892ea4c8d5\" y=\"183.6798625\"/>\n",
       "     <use style=\"fill:#0000ff;stroke:#000000;\" x=\"298.738125\" xlink:href=\"#m892ea4c8d5\" y=\"75.4278625\"/>\n",
       "     <use style=\"fill:#0000ff;stroke:#000000;\" x=\"93.673125\" xlink:href=\"#m892ea4c8d5\" y=\"144.1734625\"/>\n",
       "     <use style=\"fill:#0000ff;stroke:#000000;\" x=\"254.879325\" xlink:href=\"#m892ea4c8d5\" y=\"104.5554625\"/>\n",
       "     <use style=\"fill:#0000ff;stroke:#000000;\" x=\"178.210125\" xlink:href=\"#m892ea4c8d5\" y=\"188.3670625\"/>\n",
       "     <use style=\"fill:#0000ff;stroke:#000000;\" x=\"167.663925\" xlink:href=\"#m892ea4c8d5\" y=\"196.4022625\"/>\n",
       "     <use style=\"fill:#0000ff;stroke:#000000;\" x=\"108.404325\" xlink:href=\"#m892ea4c8d5\" y=\"125.6478625\"/>\n",
       "     <use style=\"fill:#0000ff;stroke:#000000;\" x=\"285.848325\" xlink:href=\"#m892ea4c8d5\" y=\"67.1694625\"/>\n",
       "     <use style=\"fill:#0000ff;stroke:#000000;\" x=\"226.253925\" xlink:href=\"#m892ea4c8d5\" y=\"84.6906625\"/>\n",
       "     <use style=\"fill:#0000ff;stroke:#000000;\" x=\"101.540925\" xlink:href=\"#m892ea4c8d5\" y=\"99.8682625\"/>\n",
       "     <use style=\"fill:#0000ff;stroke:#000000;\" x=\"211.690125\" xlink:href=\"#m892ea4c8d5\" y=\"205.8882625\"/>\n",
       "     <use style=\"fill:#0000ff;stroke:#000000;\" x=\"192.941325\" xlink:href=\"#m892ea4c8d5\" y=\"212.2494625\"/>\n",
       "     <use style=\"fill:#0000ff;stroke:#000000;\" x=\"197.461125\" xlink:href=\"#m892ea4c8d5\" y=\"107.3454625\"/>\n",
       "     <use style=\"fill:#0000ff;stroke:#000000;\" x=\"174.192525\" xlink:href=\"#m892ea4c8d5\" y=\"206.4462625\"/>\n",
       "     <use style=\"fill:#0000ff;stroke:#000000;\" x=\"215.205525\" xlink:href=\"#m892ea4c8d5\" y=\"73.0842625\"/>\n",
       "     <use style=\"fill:#0000ff;stroke:#000000;\" x=\"196.624125\" xlink:href=\"#m892ea4c8d5\" y=\"221.9586625\"/>\n",
       "     <use style=\"fill:#0000ff;stroke:#000000;\" x=\"75.593925\" xlink:href=\"#m892ea4c8d5\" y=\"113.9298625\"/>\n",
       "     <use style=\"fill:#0000ff;stroke:#000000;\" x=\"213.531525\" xlink:href=\"#m892ea4c8d5\" y=\"204.5490625\"/>\n",
       "     <use style=\"fill:#0000ff;stroke:#000000;\" x=\"282.165525\" xlink:href=\"#m892ea4c8d5\" y=\"42.7290625\"/>\n",
       "     <use style=\"fill:#0000ff;stroke:#000000;\" x=\"109.910925\" xlink:href=\"#m892ea4c8d5\" y=\"113.8182625\"/>\n",
       "     <use style=\"fill:#0000ff;stroke:#000000;\" x=\"238.139325\" xlink:href=\"#m892ea4c8d5\" y=\"206.4462625\"/>\n",
       "     <use style=\"fill:#0000ff;stroke:#000000;\" x=\"89.655525\" xlink:href=\"#m892ea4c8d5\" y=\"127.3218625\"/>\n",
       "     <use style=\"fill:#0000ff;stroke:#000000;\" x=\"287.857125\" xlink:href=\"#m892ea4c8d5\" y=\"46.6350625\"/>\n",
       "     <use style=\"fill:#0000ff;stroke:#000000;\" x=\"267.601725\" xlink:href=\"#m892ea4c8d5\" y=\"73.0842625\"/>\n",
       "     <use style=\"fill:#0000ff;stroke:#000000;\" x=\"242.156925\" xlink:href=\"#m892ea4c8d5\" y=\"91.4982625\"/>\n",
       "     <use style=\"fill:#0000ff;stroke:#000000;\" x=\"217.716525\" xlink:href=\"#m892ea4c8d5\" y=\"113.5950625\"/>\n",
       "     <use style=\"fill:#0000ff;stroke:#000000;\" x=\"283.169925\" xlink:href=\"#m892ea4c8d5\" y=\"93.8418625\"/>\n",
       "     <use style=\"fill:#0000ff;stroke:#000000;\" x=\"74.254725\" xlink:href=\"#m892ea4c8d5\" y=\"125.6478625\"/>\n",
       "     <use style=\"fill:#0000ff;stroke:#000000;\" x=\"105.558525\" xlink:href=\"#m892ea4c8d5\" y=\"114.5994625\"/>\n",
       "     <use style=\"fill:#0000ff;stroke:#000000;\" x=\"64.880325\" xlink:href=\"#m892ea4c8d5\" y=\"94.1766625\"/>\n",
       "     <use style=\"fill:#0000ff;stroke:#000000;\" x=\"179.549325\" xlink:href=\"#m892ea4c8d5\" y=\"197.2950625\"/>\n",
       "     <use style=\"fill:#0000ff;stroke:#000000;\" x=\"79.444125\" xlink:href=\"#m892ea4c8d5\" y=\"123.0810625\"/>\n",
       "     <use style=\"fill:#0000ff;stroke:#000000;\" x=\"205.831125\" xlink:href=\"#m892ea4c8d5\" y=\"207.3390625\"/>\n",
       "     <use style=\"fill:#0000ff;stroke:#000000;\" x=\"232.615125\" xlink:href=\"#m892ea4c8d5\" y=\"180.7782625\"/>\n",
       "     <use style=\"fill:#0000ff;stroke:#000000;\" x=\"296.227125\" xlink:href=\"#m892ea4c8d5\" y=\"59.8038625\"/>\n",
       "     <use style=\"fill:#0000ff;stroke:#000000;\" x=\"68.730525\" xlink:href=\"#m892ea4c8d5\" y=\"98.9754625\"/>\n",
       "     <use style=\"fill:#0000ff;stroke:#000000;\" x=\"109.576125\" xlink:href=\"#m892ea4c8d5\" y=\"116.8314625\"/>\n",
       "     <use style=\"fill:#0000ff;stroke:#000000;\" x=\"216.209925\" xlink:href=\"#m892ea4c8d5\" y=\"216.9366625\"/>\n",
       "     <use style=\"fill:#0000ff;stroke:#000000;\" x=\"225.751725\" xlink:href=\"#m892ea4c8d5\" y=\"115.7154625\"/>\n",
       "     <use style=\"fill:#0000ff;stroke:#000000;\" x=\"59.021325\" xlink:href=\"#m892ea4c8d5\" y=\"71.4102625\"/>\n",
       "    </g>\n",
       "   </g>\n",
       "   <g id=\"patch_3\">\n",
       "    <path d=\"\n",
       "M22.5281 12.0391\n",
       "L357.328 12.0391\" style=\"fill:none;stroke:#000000;stroke-linecap:square;stroke-linejoin:miter;\"/>\n",
       "   </g>\n",
       "   <g id=\"patch_4\">\n",
       "    <path d=\"\n",
       "M357.328 235.239\n",
       "L357.328 12.0391\" style=\"fill:none;stroke:#000000;stroke-linecap:square;stroke-linejoin:miter;\"/>\n",
       "   </g>\n",
       "   <g id=\"patch_5\">\n",
       "    <path d=\"\n",
       "M22.5281 235.239\n",
       "L357.328 235.239\" style=\"fill:none;stroke:#000000;stroke-linecap:square;stroke-linejoin:miter;\"/>\n",
       "   </g>\n",
       "   <g id=\"patch_6\">\n",
       "    <path d=\"\n",
       "M22.5281 235.239\n",
       "L22.5281 12.0391\" style=\"fill:none;stroke:#000000;stroke-linecap:square;stroke-linejoin:miter;\"/>\n",
       "   </g>\n",
       "   <g id=\"matplotlib.axis_1\">\n",
       "    <g id=\"xtick_1\">\n",
       "     <g id=\"line2d_1\">\n",
       "      <defs>\n",
       "       <path d=\"\n",
       "M0 0\n",
       "L0 -4\" id=\"m93b0483c22\" style=\"stroke:#000000;stroke-width:0.5;\"/>\n",
       "      </defs>\n",
       "      <g>\n",
       "       <use style=\"stroke:#000000;stroke-width:0.5;\" x=\"22.528125\" xlink:href=\"#m93b0483c22\" y=\"235.2390625\"/>\n",
       "      </g>\n",
       "     </g>\n",
       "     <g id=\"line2d_2\">\n",
       "      <defs>\n",
       "       <path d=\"\n",
       "M0 0\n",
       "L0 4\" id=\"m741efc42ff\" style=\"stroke:#000000;stroke-width:0.5;\"/>\n",
       "      </defs>\n",
       "      <g>\n",
       "       <use style=\"stroke:#000000;stroke-width:0.5;\" x=\"22.528125\" xlink:href=\"#m741efc42ff\" y=\"12.0390625\"/>\n",
       "      </g>\n",
       "     </g>\n",
       "     <g id=\"text_1\">\n",
       "      <!-- 0 -->\n",
       "      <defs>\n",
       "       <path d=\"\n",
       "M31.7812 66.4062\n",
       "Q24.1719 66.4062 20.3281 58.9062\n",
       "Q16.5 51.4219 16.5 36.375\n",
       "Q16.5 21.3906 20.3281 13.8906\n",
       "Q24.1719 6.39062 31.7812 6.39062\n",
       "Q39.4531 6.39062 43.2812 13.8906\n",
       "Q47.125 21.3906 47.125 36.375\n",
       "Q47.125 51.4219 43.2812 58.9062\n",
       "Q39.4531 66.4062 31.7812 66.4062\n",
       "M31.7812 74.2188\n",
       "Q44.0469 74.2188 50.5156 64.5156\n",
       "Q56.9844 54.8281 56.9844 36.375\n",
       "Q56.9844 17.9688 50.5156 8.26562\n",
       "Q44.0469 -1.42188 31.7812 -1.42188\n",
       "Q19.5312 -1.42188 13.0625 8.26562\n",
       "Q6.59375 17.9688 6.59375 36.375\n",
       "Q6.59375 54.8281 13.0625 64.5156\n",
       "Q19.5312 74.2188 31.7812 74.2188\" id=\"BitstreamVeraSans-Roman-30\"/>\n",
       "      </defs>\n",
       "      <g transform=\"translate(20.00859375 246.8375)scale(0.1 -0.1)\">\n",
       "       <use xlink:href=\"#BitstreamVeraSans-Roman-30\"/>\n",
       "      </g>\n",
       "     </g>\n",
       "    </g>\n",
       "    <g id=\"xtick_2\">\n",
       "     <g id=\"line2d_3\">\n",
       "      <g>\n",
       "       <use style=\"stroke:#000000;stroke-width:0.5;\" x=\"106.228125\" xlink:href=\"#m93b0483c22\" y=\"235.2390625\"/>\n",
       "      </g>\n",
       "     </g>\n",
       "     <g id=\"line2d_4\">\n",
       "      <g>\n",
       "       <use style=\"stroke:#000000;stroke-width:0.5;\" x=\"106.228125\" xlink:href=\"#m741efc42ff\" y=\"12.0390625\"/>\n",
       "      </g>\n",
       "     </g>\n",
       "     <g id=\"text_2\">\n",
       "      <!-- 5 -->\n",
       "      <defs>\n",
       "       <path d=\"\n",
       "M10.7969 72.9062\n",
       "L49.5156 72.9062\n",
       "L49.5156 64.5938\n",
       "L19.8281 64.5938\n",
       "L19.8281 46.7344\n",
       "Q21.9688 47.4688 24.1094 47.8281\n",
       "Q26.2656 48.1875 28.4219 48.1875\n",
       "Q40.625 48.1875 47.75 41.5\n",
       "Q54.8906 34.8125 54.8906 23.3906\n",
       "Q54.8906 11.625 47.5625 5.09375\n",
       "Q40.2344 -1.42188 26.9062 -1.42188\n",
       "Q22.3125 -1.42188 17.5469 -0.640625\n",
       "Q12.7969 0.140625 7.71875 1.70312\n",
       "L7.71875 11.625\n",
       "Q12.1094 9.23438 16.7969 8.0625\n",
       "Q21.4844 6.89062 26.7031 6.89062\n",
       "Q35.1562 6.89062 40.0781 11.3281\n",
       "Q45.0156 15.7656 45.0156 23.3906\n",
       "Q45.0156 31 40.0781 35.4375\n",
       "Q35.1562 39.8906 26.7031 39.8906\n",
       "Q22.75 39.8906 18.8125 39.0156\n",
       "Q14.8906 38.1406 10.7969 36.2812\n",
       "z\n",
       "\" id=\"BitstreamVeraSans-Roman-35\"/>\n",
       "      </defs>\n",
       "      <g transform=\"translate(103.86953125 246.8375)scale(0.1 -0.1)\">\n",
       "       <use xlink:href=\"#BitstreamVeraSans-Roman-35\"/>\n",
       "      </g>\n",
       "     </g>\n",
       "    </g>\n",
       "    <g id=\"xtick_3\">\n",
       "     <g id=\"line2d_5\">\n",
       "      <g>\n",
       "       <use style=\"stroke:#000000;stroke-width:0.5;\" x=\"189.928125\" xlink:href=\"#m93b0483c22\" y=\"235.2390625\"/>\n",
       "      </g>\n",
       "     </g>\n",
       "     <g id=\"line2d_6\">\n",
       "      <g>\n",
       "       <use style=\"stroke:#000000;stroke-width:0.5;\" x=\"189.928125\" xlink:href=\"#m741efc42ff\" y=\"12.0390625\"/>\n",
       "      </g>\n",
       "     </g>\n",
       "     <g id=\"text_3\">\n",
       "      <!-- 10 -->\n",
       "      <defs>\n",
       "       <path d=\"\n",
       "M12.4062 8.29688\n",
       "L28.5156 8.29688\n",
       "L28.5156 63.9219\n",
       "L10.9844 60.4062\n",
       "L10.9844 69.3906\n",
       "L28.4219 72.9062\n",
       "L38.2812 72.9062\n",
       "L38.2812 8.29688\n",
       "L54.3906 8.29688\n",
       "L54.3906 0\n",
       "L12.4062 0\n",
       "z\n",
       "\" id=\"BitstreamVeraSans-Roman-31\"/>\n",
       "      </defs>\n",
       "      <g transform=\"translate(184.446875 246.8375)scale(0.1 -0.1)\">\n",
       "       <use xlink:href=\"#BitstreamVeraSans-Roman-31\"/>\n",
       "       <use x=\"63.623046875\" xlink:href=\"#BitstreamVeraSans-Roman-30\"/>\n",
       "      </g>\n",
       "     </g>\n",
       "    </g>\n",
       "    <g id=\"xtick_4\">\n",
       "     <g id=\"line2d_7\">\n",
       "      <g>\n",
       "       <use style=\"stroke:#000000;stroke-width:0.5;\" x=\"273.628125\" xlink:href=\"#m93b0483c22\" y=\"235.2390625\"/>\n",
       "      </g>\n",
       "     </g>\n",
       "     <g id=\"line2d_8\">\n",
       "      <g>\n",
       "       <use style=\"stroke:#000000;stroke-width:0.5;\" x=\"273.628125\" xlink:href=\"#m741efc42ff\" y=\"12.0390625\"/>\n",
       "      </g>\n",
       "     </g>\n",
       "     <g id=\"text_4\">\n",
       "      <!-- 15 -->\n",
       "      <g transform=\"translate(268.2515625 246.8375)scale(0.1 -0.1)\">\n",
       "       <use xlink:href=\"#BitstreamVeraSans-Roman-31\"/>\n",
       "       <use x=\"63.623046875\" xlink:href=\"#BitstreamVeraSans-Roman-35\"/>\n",
       "      </g>\n",
       "     </g>\n",
       "    </g>\n",
       "    <g id=\"xtick_5\">\n",
       "     <g id=\"line2d_9\">\n",
       "      <g>\n",
       "       <use style=\"stroke:#000000;stroke-width:0.5;\" x=\"357.328125\" xlink:href=\"#m93b0483c22\" y=\"235.2390625\"/>\n",
       "      </g>\n",
       "     </g>\n",
       "     <g id=\"line2d_10\">\n",
       "      <g>\n",
       "       <use style=\"stroke:#000000;stroke-width:0.5;\" x=\"357.328125\" xlink:href=\"#m741efc42ff\" y=\"12.0390625\"/>\n",
       "      </g>\n",
       "     </g>\n",
       "     <g id=\"text_5\">\n",
       "      <!-- 20 -->\n",
       "      <defs>\n",
       "       <path d=\"\n",
       "M19.1875 8.29688\n",
       "L53.6094 8.29688\n",
       "L53.6094 0\n",
       "L7.32812 0\n",
       "L7.32812 8.29688\n",
       "Q12.9375 14.1094 22.625 23.8906\n",
       "Q32.3281 33.6875 34.8125 36.5312\n",
       "Q39.5469 41.8438 41.4219 45.5312\n",
       "Q43.3125 49.2188 43.3125 52.7812\n",
       "Q43.3125 58.5938 39.2344 62.25\n",
       "Q35.1562 65.9219 28.6094 65.9219\n",
       "Q23.9688 65.9219 18.8125 64.3125\n",
       "Q13.6719 62.7031 7.8125 59.4219\n",
       "L7.8125 69.3906\n",
       "Q13.7656 71.7812 18.9375 73\n",
       "Q24.125 74.2188 28.4219 74.2188\n",
       "Q39.75 74.2188 46.4844 68.5469\n",
       "Q53.2188 62.8906 53.2188 53.4219\n",
       "Q53.2188 48.9219 51.5312 44.8906\n",
       "Q49.8594 40.875 45.4062 35.4062\n",
       "Q44.1875 33.9844 37.6406 27.2188\n",
       "Q31.1094 20.4531 19.1875 8.29688\" id=\"BitstreamVeraSans-Roman-32\"/>\n",
       "      </defs>\n",
       "      <g transform=\"translate(351.6640625 246.8375)scale(0.1 -0.1)\">\n",
       "       <use xlink:href=\"#BitstreamVeraSans-Roman-32\"/>\n",
       "       <use x=\"63.623046875\" xlink:href=\"#BitstreamVeraSans-Roman-30\"/>\n",
       "      </g>\n",
       "     </g>\n",
       "    </g>\n",
       "   </g>\n",
       "   <g id=\"matplotlib.axis_2\">\n",
       "    <g id=\"ytick_1\">\n",
       "     <g id=\"line2d_11\">\n",
       "      <defs>\n",
       "       <path d=\"\n",
       "M0 0\n",
       "L4 0\" id=\"m728421d6d4\" style=\"stroke:#000000;stroke-width:0.5;\"/>\n",
       "      </defs>\n",
       "      <g>\n",
       "       <use style=\"stroke:#000000;stroke-width:0.5;\" x=\"22.528125\" xlink:href=\"#m728421d6d4\" y=\"235.2390625\"/>\n",
       "      </g>\n",
       "     </g>\n",
       "     <g id=\"line2d_12\">\n",
       "      <defs>\n",
       "       <path d=\"\n",
       "M0 0\n",
       "L-4 0\" id=\"mcb0005524f\" style=\"stroke:#000000;stroke-width:0.5;\"/>\n",
       "      </defs>\n",
       "      <g>\n",
       "       <use style=\"stroke:#000000;stroke-width:0.5;\" x=\"357.328125\" xlink:href=\"#mcb0005524f\" y=\"235.2390625\"/>\n",
       "      </g>\n",
       "     </g>\n",
       "     <g id=\"text_6\">\n",
       "      <!-- 0 -->\n",
       "      <g transform=\"translate(13.4890625 237.9984375)scale(0.1 -0.1)\">\n",
       "       <use xlink:href=\"#BitstreamVeraSans-Roman-30\"/>\n",
       "      </g>\n",
       "     </g>\n",
       "    </g>\n",
       "    <g id=\"ytick_2\">\n",
       "     <g id=\"line2d_13\">\n",
       "      <g>\n",
       "       <use style=\"stroke:#000000;stroke-width:0.5;\" x=\"22.528125\" xlink:href=\"#m728421d6d4\" y=\"179.4390625\"/>\n",
       "      </g>\n",
       "     </g>\n",
       "     <g id=\"line2d_14\">\n",
       "      <g>\n",
       "       <use style=\"stroke:#000000;stroke-width:0.5;\" x=\"357.328125\" xlink:href=\"#mcb0005524f\" y=\"179.4390625\"/>\n",
       "      </g>\n",
       "     </g>\n",
       "     <g id=\"text_7\">\n",
       "      <!-- 5 -->\n",
       "      <g transform=\"translate(13.8109375 182.1984375)scale(0.1 -0.1)\">\n",
       "       <use xlink:href=\"#BitstreamVeraSans-Roman-35\"/>\n",
       "      </g>\n",
       "     </g>\n",
       "    </g>\n",
       "    <g id=\"ytick_3\">\n",
       "     <g id=\"line2d_15\">\n",
       "      <g>\n",
       "       <use style=\"stroke:#000000;stroke-width:0.5;\" x=\"22.528125\" xlink:href=\"#m728421d6d4\" y=\"123.6390625\"/>\n",
       "      </g>\n",
       "     </g>\n",
       "     <g id=\"line2d_16\">\n",
       "      <g>\n",
       "       <use style=\"stroke:#000000;stroke-width:0.5;\" x=\"357.328125\" xlink:href=\"#mcb0005524f\" y=\"123.6390625\"/>\n",
       "      </g>\n",
       "     </g>\n",
       "     <g id=\"text_8\">\n",
       "      <!-- 10 -->\n",
       "      <g transform=\"translate(7.565625 126.3984375)scale(0.1 -0.1)\">\n",
       "       <use xlink:href=\"#BitstreamVeraSans-Roman-31\"/>\n",
       "       <use x=\"63.623046875\" xlink:href=\"#BitstreamVeraSans-Roman-30\"/>\n",
       "      </g>\n",
       "     </g>\n",
       "    </g>\n",
       "    <g id=\"ytick_4\">\n",
       "     <g id=\"line2d_17\">\n",
       "      <g>\n",
       "       <use style=\"stroke:#000000;stroke-width:0.5;\" x=\"22.528125\" xlink:href=\"#m728421d6d4\" y=\"67.8390625\"/>\n",
       "      </g>\n",
       "     </g>\n",
       "     <g id=\"line2d_18\">\n",
       "      <g>\n",
       "       <use style=\"stroke:#000000;stroke-width:0.5;\" x=\"357.328125\" xlink:href=\"#mcb0005524f\" y=\"67.8390625\"/>\n",
       "      </g>\n",
       "     </g>\n",
       "     <g id=\"text_9\">\n",
       "      <!-- 15 -->\n",
       "      <g transform=\"translate(7.775 70.5984375)scale(0.1 -0.1)\">\n",
       "       <use xlink:href=\"#BitstreamVeraSans-Roman-31\"/>\n",
       "       <use x=\"63.623046875\" xlink:href=\"#BitstreamVeraSans-Roman-35\"/>\n",
       "      </g>\n",
       "     </g>\n",
       "    </g>\n",
       "    <g id=\"ytick_5\">\n",
       "     <g id=\"line2d_19\">\n",
       "      <g>\n",
       "       <use style=\"stroke:#000000;stroke-width:0.5;\" x=\"22.528125\" xlink:href=\"#m728421d6d4\" y=\"12.0390625\"/>\n",
       "      </g>\n",
       "     </g>\n",
       "     <g id=\"line2d_20\">\n",
       "      <g>\n",
       "       <use style=\"stroke:#000000;stroke-width:0.5;\" x=\"357.328125\" xlink:href=\"#mcb0005524f\" y=\"12.0390625\"/>\n",
       "      </g>\n",
       "     </g>\n",
       "     <g id=\"text_10\">\n",
       "      <!-- 20 -->\n",
       "      <g transform=\"translate(7.2 14.7984375)scale(0.1 -0.1)\">\n",
       "       <use xlink:href=\"#BitstreamVeraSans-Roman-32\"/>\n",
       "       <use x=\"63.623046875\" xlink:href=\"#BitstreamVeraSans-Roman-30\"/>\n",
       "      </g>\n",
       "     </g>\n",
       "    </g>\n",
       "   </g>\n",
       "  </g>\n",
       " </g>\n",
       " <defs>\n",
       "  <clipPath id=\"pc21bb65674\">\n",
       "   <rect height=\"223.2\" width=\"334.8\" x=\"22.528125\" y=\"12.0390625\"/>\n",
       "  </clipPath>\n",
       " </defs>\n",
       "</svg>\n"
      ],
      "text/plain": [
       "<matplotlib.figure.Figure at 0x10aa01610>"
      ]
     },
     "metadata": {},
     "output_type": "display_data"
    }
   ],
   "source": [
    "# import matplotlib.pyplot as plt\n",
    "plt.scatter(data[:,0], data[:,1])"
   ]
  },
  {
   "cell_type": "markdown",
   "metadata": {
    "slideshow": {
     "slide_type": "fragment"
    }
   },
   "source": [
    "↑だいたい3つくらいのかたまり（クラスタ）がありそうだ。  \n",
    "⇒ K=3！"
   ]
  },
  {
   "cell_type": "markdown",
   "metadata": {
    "slideshow": {
     "slide_type": "slide"
    }
   },
   "source": [
    "## 2. K個 の「クラスタ重心 (centroids)」を乱択する。"
   ]
  },
  {
   "cell_type": "markdown",
   "metadata": {
    "slideshow": {
     "slide_type": "fragment"
    }
   },
   "source": [
    "いくつか方法はありますが、一般的には、実データから（重複しないように）K個の点を乱択することが多い。"
   ]
  },
  {
   "cell_type": "markdown",
   "metadata": {
    "slideshow": {
     "slide_type": "subslide"
    }
   },
   "source": [
    "仮想コード（正しく動くように実装してください）："
   ]
  },
  {
   "cell_type": "code",
   "execution_count": null,
   "metadata": {
    "collapsed": true
   },
   "outputs": [],
   "source": [
    "def init_centroids(X, K):\n",
    "    centroids = [] # ← numpy.ndarray でもOK\n",
    "    # X から K個 のデータをランダムに選択する処理を適切に実装してください。\n",
    "    # ヒント：Python 標準の random モジュールを利用するか、numpy.random モジュールを利用します。\n",
    "    return centroids\n"
   ]
  },
  {
   "cell_type": "markdown",
   "metadata": {
    "slideshow": {
     "slide_type": "slide"
    }
   },
   "source": [
    "## 3. ループ"
   ]
  },
  {
   "cell_type": "markdown",
   "metadata": {
    "slideshow": {
     "slide_type": "subslide"
    }
   },
   "source": [
    "### 3-A. クラスタ割り付けステップ"
   ]
  },
  {
   "cell_type": "markdown",
   "metadata": {},
   "source": [
    "先ほどの説明の通り：\n",
    "\n",
    "「用意された K個 の『クラスタ重心 (centorids)』のうち、どれに一番『近いか』で判定」\n",
    "\n",
    "「近さ（＝**距離**）」は、2乗距離（ユークリッド距離の2乗）で判定すればOK。\n",
    "\n",
    "例：`x = np.array([12.94, 3.62])`, `c = np.array([11.11, 13.27])` なら、 `(12.94 - 11.11) ** 2 + (3.62 - 13.27) ** 2` を計算する。"
   ]
  },
  {
   "cell_type": "markdown",
   "metadata": {
    "slideshow": {
     "slide_type": "subslide"
    }
   },
   "source": [
    "仮想コード（正しく動くように実装してください）："
   ]
  },
  {
   "cell_type": "code",
   "execution_count": null,
   "metadata": {
    "collapsed": true
   },
   "outputs": [],
   "source": [
    "def find_closest_centroids(X, centroids):\n",
    "    K = len(centroids)\n",
    "    idxs = [] # ← numpy.ndarray でもOK、適当な値で初期化するのもOK\n",
    "    for i, x in enumerate(X):\n",
    "        pass\n",
    "        # ここを適切に実装してください。\n",
    "        # 方針：X の点 x が centroids のどれに『近いか』を判定し、idxs[i] にそのインデックスを格納する。\n",
    "        # 計算方法は先述の例を参照。\n",
    "    \n",
    "    return idxs\n"
   ]
  },
  {
   "cell_type": "markdown",
   "metadata": {
    "slideshow": {
     "slide_type": "subslide"
    }
   },
   "source": [
    "### 3-B. 重心移動ステップ"
   ]
  },
  {
   "cell_type": "markdown",
   "metadata": {},
   "source": [
    "先ほどの説明の通り：\n",
    "\n",
    "+ 各クラスタに属する点の集合から、その重心を算出する。\n",
    "+ 計算した重心を新しい「クラスタ重心 (centroids)」とする（置き換える）。"
   ]
  },
  {
   "cell_type": "markdown",
   "metadata": {
    "slideshow": {
     "slide_type": "subslide"
    }
   },
   "source": [
    "仮想コード（正しく動くように実装してください）："
   ]
  },
  {
   "cell_type": "code",
   "execution_count": null,
   "metadata": {
    "collapsed": true
   },
   "outputs": [],
   "source": [
    "def compute_centroids(X, idxs, K):\n",
    "    m, n = \"X の行数（＝データ数）\", \"X の列数（＝次元数、今回の場合 2）\" # 適切に実装してください。\n",
    "    centroids = [] # ← numpy.ndarray でもOK\n",
    "    # ここを適切に実装してください。\n",
    "    # ヒント1：numpy.ndarray を使用している場合、m, n の取得は `np.shape` 関数が利用できます。\n",
    "    # ヒント2：インデックス（0〜K-1）ごとにデータを抽出して、平均を取ればOK。\n",
    "\n",
    "    return centroids\n"
   ]
  },
  {
   "cell_type": "markdown",
   "metadata": {
    "slideshow": {
     "slide_type": "subslide"
    }
   },
   "source": [
    "### 3-C. ループ実施"
   ]
  },
  {
   "cell_type": "markdown",
   "metadata": {
    "slideshow": {
     "slide_type": "subslide"
    }
   },
   "source": [
    "コード例（最初の行の `m, n` だけ実装すれば、他は今までの関数が正しく実装されていればこのままでも動きます）："
   ]
  },
  {
   "cell_type": "code",
   "execution_count": null,
   "metadata": {
    "collapsed": true
   },
   "outputs": [],
   "source": [
    "def run_kmeans(X, initial_centroids, max_iters=10):\n",
    "    m, n = \"X の行数（＝データ数）\", \"X の列数（＝次元数、今回の場合 2）\" # 適切に実装してください。\n",
    "    K = len(initial_centroids)\n",
    "    centroids = initial_centroids\n",
    "    prev_centroids = centroids\n",
    "    idxs = []\n",
    "\n",
    "    for _ in range(max_iters):\n",
    "        idxs = find_closest_centroids(X, centroids)\n",
    "        centroids = compute_centroids(X, idxs, K)\n",
    "        # これだけでもOKですが、必要に応じて、ここに「終了条件」を入れてもOK。\n",
    "\n",
    "        prev_centroids = centroids\n",
    "\n",
    "    return centroids, idxs\n"
   ]
  },
  {
   "cell_type": "markdown",
   "metadata": {
    "slideshow": {
     "slide_type": "subslide"
    }
   },
   "source": [
    "#### 補足：「終了条件」について"
   ]
  },
  {
   "cell_type": "markdown",
   "metadata": {},
   "source": [
    "1. `prev_centroids` と `centroids` が一致した場合  \n",
    "… クラスタ分割が完全に安定した（＝移動が1つもない）ので、これ以上ループする必要は無い⇒終了してOK。  \n",
    "　（データ数が十分に少ないときは、この方法を使用してもOK）\n",
    "2. `prev_centroids` と `centroids` の差が十分に小さい場合  \n",
    "… クラスタ分割がある程度安定してきた（＝移動がほとんどない）⇒終了。  \n",
    "　（データ数がある程度多くてもOK、閾値を適切に設定する必要あり）"
   ]
  },
  {
   "cell_type": "markdown",
   "metadata": {
    "slideshow": {
     "slide_type": "subslide"
    }
   },
   "source": [
    "### 4. 結果表示"
   ]
  },
  {
   "cell_type": "markdown",
   "metadata": {
    "slideshow": {
     "slide_type": "subslide"
    }
   },
   "source": [
    "#### 4-1. matplotlib で結果プロット例1（numpy 利用）"
   ]
  },
  {
   "cell_type": "code",
   "execution_count": 11,
   "metadata": {
    "collapsed": true
   },
   "outputs": [],
   "source": [
    "def disp_result(X, idxs):\n",
    "    a_idxs = np.array(idxs)\n",
    "    data_0 = X[a_idxs == 0, :]\n",
    "    data_1 = X[a_idxs == 1, :]\n",
    "    data_2 = X[a_idxs == 2, :]\n",
    "    \n",
    "    plt.plot(data_0[:,0], data_0[:,1], \"c.\")\n",
    "    plt.plot(data_1[:,0], data_1[:,1], \"m.\")\n",
    "    plt.plot(data_2[:,0], data_2[:,1], \"y.\")\n",
    "    return plt.show()\n"
   ]
  },
  {
   "cell_type": "markdown",
   "metadata": {
    "slideshow": {
     "slide_type": "subslide"
    }
   },
   "source": [
    "※ 表示例："
   ]
  },
  {
   "cell_type": "code",
   "execution_count": 8,
   "metadata": {
    "collapsed": true,
    "slideshow": {
     "slide_type": "skip"
    }
   },
   "outputs": [],
   "source": [
    "sample_idxs = [0,1,2,0,0,1,0,0,1,2,1,2,1,1,0,0,2,0,1,2,0,0,2,1,2,1,1,1,2,2,1,2,2,0,0,0,0,0,1,2,0,1,0,2,1,1,0,2,0,2,1,2,1,0,0,1,0,2,1,2,0,0,1,2,2,1,0,0,2,0,2,0,1,0,2,1,0,1,2,2,2,2,2,1,1,1,0,1,0,0,2,1,1,0,2,1]"
   ]
  },
  {
   "cell_type": "code",
   "execution_count": 12,
   "metadata": {
    "collapsed": false
   },
   "outputs": [
    {
     "data": {
      "image/svg+xml": [
       "<?xml version=\"1.0\" encoding=\"utf-8\" standalone=\"no\"?>\n",
       "<!DOCTYPE svg PUBLIC \"-//W3C//DTD SVG 1.1//EN\"\n",
       "  \"http://www.w3.org/Graphics/SVG/1.1/DTD/svg11.dtd\">\n",
       "<!-- Created with matplotlib (http://matplotlib.org/) -->\n",
       "<svg height=\"256pt\" version=\"1.1\" viewBox=\"0 0 369 256\" width=\"369pt\" xmlns=\"http://www.w3.org/2000/svg\" xmlns:xlink=\"http://www.w3.org/1999/xlink\">\n",
       " <defs>\n",
       "  <style type=\"text/css\">\n",
       "*{stroke-linecap:butt;stroke-linejoin:round;}\n",
       "  </style>\n",
       " </defs>\n",
       " <g id=\"figure_1\">\n",
       "  <g id=\"patch_1\">\n",
       "   <path d=\"\n",
       "M0 256.117\n",
       "L369.93 256.117\n",
       "L369.93 0\n",
       "L0 0\n",
       "L0 256.117\" style=\"fill:none;\"/>\n",
       "  </g>\n",
       "  <g id=\"axes_1\">\n",
       "   <g id=\"patch_2\">\n",
       "    <path d=\"\n",
       "M22.2656 235.239\n",
       "L357.066 235.239\n",
       "L357.066 12.0391\n",
       "L22.2656 12.0391\n",
       "z\n",
       "\" style=\"fill:#ffffff;\"/>\n",
       "   </g>\n",
       "   <g id=\"line2d_1\">\n",
       "    <defs>\n",
       "     <path d=\"\n",
       "M0 1.5\n",
       "C0.397805 1.5 0.77937 1.34195 1.06066 1.06066\n",
       "C1.34195 0.77937 1.5 0.397805 1.5 0\n",
       "C1.5 -0.397805 1.34195 -0.77937 1.06066 -1.06066\n",
       "C0.77937 -1.34195 0.397805 -1.5 0 -1.5\n",
       "C-0.397805 -1.5 -0.77937 -1.34195 -1.06066 -1.06066\n",
       "C-1.34195 -0.77937 -1.5 -0.397805 -1.5 0\n",
       "C-1.5 0.397805 -1.34195 0.77937 -1.06066 1.06066\n",
       "C-0.77937 1.34195 -0.397805 1.5 0 1.5\n",
       "z\n",
       "\" id=\"m977c291b42\" style=\"stroke:#00bfbf;stroke-width:0.5;\"/>\n",
       "    </defs>\n",
       "    <g clip-path=\"url(#p0908c46a8e)\">\n",
       "     <use style=\"fill:#00bfbf;stroke:#00bfbf;stroke-width:0.5;\" x=\"238.881225\" xlink:href=\"#m977c291b42\" y=\"190.3510625\"/>\n",
       "     <use style=\"fill:#00bfbf;stroke:#00bfbf;stroke-width:0.5;\" x=\"131.577825\" xlink:href=\"#m977c291b42\" y=\"190.3510625\"/>\n",
       "     <use style=\"fill:#00bfbf;stroke:#00bfbf;stroke-width:0.5;\" x=\"193.850625\" xlink:href=\"#m977c291b42\" y=\"197.7910625\"/>\n",
       "     <use style=\"fill:#00bfbf;stroke:#00bfbf;stroke-width:0.5;\" x=\"155.850825\" xlink:href=\"#m977c291b42\" y=\"189.8550625\"/>\n",
       "     <use style=\"fill:#00bfbf;stroke:#00bfbf;stroke-width:0.5;\" x=\"204.229425\" xlink:href=\"#m977c291b42\" y=\"179.8110625\"/>\n",
       "     <use style=\"fill:#00bfbf;stroke:#00bfbf;stroke-width:0.5;\" x=\"227.498025\" xlink:href=\"#m977c291b42\" y=\"219.4910625\"/>\n",
       "     <use style=\"fill:#00bfbf;stroke:#00bfbf;stroke-width:0.5;\" x=\"171.251625\" xlink:href=\"#m977c291b42\" y=\"193.9470625\"/>\n",
       "     <use style=\"fill:#00bfbf;stroke:#00bfbf;stroke-width:0.5;\" x=\"207.410025\" xlink:href=\"#m977c291b42\" y=\"206.3470625\"/>\n",
       "     <use style=\"fill:#00bfbf;stroke:#00bfbf;stroke-width:0.5;\" x=\"182.969625\" xlink:href=\"#m977c291b42\" y=\"186.7550625\"/>\n",
       "     <use style=\"fill:#00bfbf;stroke:#00bfbf;stroke-width:0.5;\" x=\"218.793225\" xlink:href=\"#m977c291b42\" y=\"193.9470625\"/>\n",
       "     <use style=\"fill:#00bfbf;stroke:#00bfbf;stroke-width:0.5;\" x=\"205.233825\" xlink:href=\"#m977c291b42\" y=\"220.4830625\"/>\n",
       "     <use style=\"fill:#00bfbf;stroke:#00bfbf;stroke-width:0.5;\" x=\"156.185625\" xlink:href=\"#m977c291b42\" y=\"202.2550625\"/>\n",
       "     <use style=\"fill:#00bfbf;stroke:#00bfbf;stroke-width:0.5;\" x=\"205.233825\" xlink:href=\"#m977c291b42\" y=\"211.5550625\"/>\n",
       "     <use style=\"fill:#00bfbf;stroke:#00bfbf;stroke-width:0.5;\" x=\"174.767025\" xlink:href=\"#m977c291b42\" y=\"181.7950625\"/>\n",
       "     <use style=\"fill:#00bfbf;stroke:#00bfbf;stroke-width:0.5;\" x=\"201.216225\" xlink:href=\"#m977c291b42\" y=\"185.5150625\"/>\n",
       "     <use style=\"fill:#00bfbf;stroke:#00bfbf;stroke-width:0.5;\" x=\"149.154825\" xlink:href=\"#m977c291b42\" y=\"201.6350625\"/>\n",
       "     <use style=\"fill:#00bfbf;stroke:#00bfbf;stroke-width:0.5;\" x=\"147.815625\" xlink:href=\"#m977c291b42\" y=\"198.4110625\"/>\n",
       "     <use style=\"fill:#00bfbf;stroke:#00bfbf;stroke-width:0.5;\" x=\"182.132625\" xlink:href=\"#m977c291b42\" y=\"211.3070625\"/>\n",
       "     <use style=\"fill:#00bfbf;stroke:#00bfbf;stroke-width:0.5;\" x=\"191.004825\" xlink:href=\"#m977c291b42\" y=\"214.1590625\"/>\n",
       "     <use style=\"fill:#00bfbf;stroke:#00bfbf;stroke-width:0.5;\" x=\"160.872825\" xlink:href=\"#m977c291b42\" y=\"215.5230625\"/>\n",
       "     <use style=\"fill:#00bfbf;stroke:#00bfbf;stroke-width:0.5;\" x=\"193.515825\" xlink:href=\"#m977c291b42\" y=\"201.7590625\"/>\n",
       "     <use style=\"fill:#00bfbf;stroke:#00bfbf;stroke-width:0.5;\" x=\"202.555425\" xlink:href=\"#m977c291b42\" y=\"177.9510625\"/>\n",
       "     <use style=\"fill:#00bfbf;stroke:#00bfbf;stroke-width:0.5;\" x=\"177.947625\" xlink:href=\"#m977c291b42\" y=\"183.1590625\"/>\n",
       "     <use style=\"fill:#00bfbf;stroke:#00bfbf;stroke-width:0.5;\" x=\"167.401425\" xlink:href=\"#m977c291b42\" y=\"192.0870625\"/>\n",
       "     <use style=\"fill:#00bfbf;stroke:#00bfbf;stroke-width:0.5;\" x=\"211.427625\" xlink:href=\"#m977c291b42\" y=\"202.6270625\"/>\n",
       "     <use style=\"fill:#00bfbf;stroke:#00bfbf;stroke-width:0.5;\" x=\"192.678825\" xlink:href=\"#m977c291b42\" y=\"209.6950625\"/>\n",
       "     <use style=\"fill:#00bfbf;stroke:#00bfbf;stroke-width:0.5;\" x=\"173.930025\" xlink:href=\"#m977c291b42\" y=\"203.2470625\"/>\n",
       "     <use style=\"fill:#00bfbf;stroke:#00bfbf;stroke-width:0.5;\" x=\"196.361625\" xlink:href=\"#m977c291b42\" y=\"220.4830625\"/>\n",
       "     <use style=\"fill:#00bfbf;stroke:#00bfbf;stroke-width:0.5;\" x=\"213.269025\" xlink:href=\"#m977c291b42\" y=\"201.1390625\"/>\n",
       "     <use style=\"fill:#00bfbf;stroke:#00bfbf;stroke-width:0.5;\" x=\"237.876825\" xlink:href=\"#m977c291b42\" y=\"203.2470625\"/>\n",
       "     <use style=\"fill:#00bfbf;stroke:#00bfbf;stroke-width:0.5;\" x=\"179.286825\" xlink:href=\"#m977c291b42\" y=\"193.0790625\"/>\n",
       "     <use style=\"fill:#00bfbf;stroke:#00bfbf;stroke-width:0.5;\" x=\"205.568625\" xlink:href=\"#m977c291b42\" y=\"204.2390625\"/>\n",
       "     <use style=\"fill:#00bfbf;stroke:#00bfbf;stroke-width:0.5;\" x=\"232.352625\" xlink:href=\"#m977c291b42\" y=\"174.7270625\"/>\n",
       "     <use style=\"fill:#00bfbf;stroke:#00bfbf;stroke-width:0.5;\" x=\"215.947425\" xlink:href=\"#m977c291b42\" y=\"214.9030625\"/>\n",
       "    </g>\n",
       "   </g>\n",
       "   <g id=\"line2d_2\">\n",
       "    <defs>\n",
       "     <path d=\"\n",
       "M0 1.5\n",
       "C0.397805 1.5 0.77937 1.34195 1.06066 1.06066\n",
       "C1.34195 0.77937 1.5 0.397805 1.5 0\n",
       "C1.5 -0.397805 1.34195 -0.77937 1.06066 -1.06066\n",
       "C0.77937 -1.34195 0.397805 -1.5 0 -1.5\n",
       "C-0.397805 -1.5 -0.77937 -1.34195 -1.06066 -1.06066\n",
       "C-1.34195 -0.77937 -1.5 -0.397805 -1.5 0\n",
       "C-1.5 0.397805 -1.34195 0.77937 -1.06066 1.06066\n",
       "C-0.77937 1.34195 -0.397805 1.5 0 1.5\n",
       "z\n",
       "\" id=\"m56b4842580\" style=\"stroke:#bf00bf;stroke-width:0.5;\"/>\n",
       "    </defs>\n",
       "    <g clip-path=\"url(#p0908c46a8e)\">\n",
       "     <use style=\"fill:#bf00bf;stroke:#bf00bf;stroke-width:0.5;\" x=\"96.089025\" xlink:href=\"#m56b4842580\" y=\"129.0950625\"/>\n",
       "     <use style=\"fill:#bf00bf;stroke:#bf00bf;stroke-width:0.5;\" x=\"101.780625\" xlink:href=\"#m56b4842580\" y=\"70.9390625\"/>\n",
       "     <use style=\"fill:#bf00bf;stroke:#bf00bf;stroke-width:0.5;\" x=\"60.432825\" xlink:href=\"#m56b4842580\" y=\"91.1510625\"/>\n",
       "     <use style=\"fill:#bf00bf;stroke:#bf00bf;stroke-width:0.5;\" x=\"66.794025\" xlink:href=\"#m56b4842580\" y=\"60.2750625\"/>\n",
       "     <use style=\"fill:#bf00bf;stroke:#bf00bf;stroke-width:0.5;\" x=\"128.062425\" xlink:href=\"#m56b4842580\" y=\"99.5830625\"/>\n",
       "     <use style=\"fill:#bf00bf;stroke:#bf00bf;stroke-width:0.5;\" x=\"121.031625\" xlink:href=\"#m56b4842580\" y=\"103.3030625\"/>\n",
       "     <use style=\"fill:#bf00bf;stroke:#bf00bf;stroke-width:0.5;\" x=\"139.278225\" xlink:href=\"#m56b4842580\" y=\"43.6590625\"/>\n",
       "     <use style=\"fill:#bf00bf;stroke:#bf00bf;stroke-width:0.5;\" x=\"56.247825\" xlink:href=\"#m56b4842580\" y=\"123.8870625\"/>\n",
       "     <use style=\"fill:#bf00bf;stroke:#bf00bf;stroke-width:0.5;\" x=\"66.794025\" xlink:href=\"#m56b4842580\" y=\"134.7990625\"/>\n",
       "     <use style=\"fill:#bf00bf;stroke:#bf00bf;stroke-width:0.5;\" x=\"82.529625\" xlink:href=\"#m56b4842580\" y=\"92.6390625\"/>\n",
       "     <use style=\"fill:#bf00bf;stroke:#bf00bf;stroke-width:0.5;\" x=\"42.855825\" xlink:href=\"#m56b4842580\" y=\"102.9310625\"/>\n",
       "     <use style=\"fill:#bf00bf;stroke:#bf00bf;stroke-width:0.5;\" x=\"141.287025\" xlink:href=\"#m56b4842580\" y=\"56.4310625\"/>\n",
       "     <use style=\"fill:#bf00bf;stroke:#bf00bf;stroke-width:0.5;\" x=\"85.542825\" xlink:href=\"#m56b4842580\" y=\"95.6150625\"/>\n",
       "     <use style=\"fill:#bf00bf;stroke:#bf00bf;stroke-width:0.5;\" x=\"82.529625\" xlink:href=\"#m56b4842580\" y=\"89.7870625\"/>\n",
       "     <use style=\"fill:#bf00bf;stroke:#bf00bf;stroke-width:0.5;\" x=\"89.560425\" xlink:href=\"#m56b4842580\" y=\"79.9910625\"/>\n",
       "     <use style=\"fill:#bf00bf;stroke:#bf00bf;stroke-width:0.5;\" x=\"82.362225\" xlink:href=\"#m56b4842580\" y=\"84.2070625\"/>\n",
       "     <use style=\"fill:#bf00bf;stroke:#bf00bf;stroke-width:0.5;\" x=\"57.587025\" xlink:href=\"#m56b4842580\" y=\"136.9070625\"/>\n",
       "     <use style=\"fill:#bf00bf;stroke:#bf00bf;stroke-width:0.5;\" x=\"81.023025\" xlink:href=\"#m56b4842580\" y=\"96.6070625\"/>\n",
       "     <use style=\"fill:#bf00bf;stroke:#bf00bf;stroke-width:0.5;\" x=\"93.075825\" xlink:href=\"#m56b4842580\" y=\"120.2910625\"/>\n",
       "     <use style=\"fill:#bf00bf;stroke:#bf00bf;stroke-width:0.5;\" x=\"93.410625\" xlink:href=\"#m56b4842580\" y=\"134.0550625\"/>\n",
       "     <use style=\"fill:#bf00bf;stroke:#bf00bf;stroke-width:0.5;\" x=\"108.141825\" xlink:href=\"#m56b4842580\" y=\"113.4710625\"/>\n",
       "     <use style=\"fill:#bf00bf;stroke:#bf00bf;stroke-width:0.5;\" x=\"101.278425\" xlink:href=\"#m56b4842580\" y=\"84.8270625\"/>\n",
       "     <use style=\"fill:#bf00bf;stroke:#bf00bf;stroke-width:0.5;\" x=\"75.331425\" xlink:href=\"#m56b4842580\" y=\"100.4510625\"/>\n",
       "     <use style=\"fill:#bf00bf;stroke:#bf00bf;stroke-width:0.5;\" x=\"109.648425\" xlink:href=\"#m56b4842580\" y=\"100.3270625\"/>\n",
       "     <use style=\"fill:#bf00bf;stroke:#bf00bf;stroke-width:0.5;\" x=\"89.393025\" xlink:href=\"#m56b4842580\" y=\"115.3310625\"/>\n",
       "     <use style=\"fill:#bf00bf;stroke:#bf00bf;stroke-width:0.5;\" x=\"73.992225\" xlink:href=\"#m56b4842580\" y=\"113.4710625\"/>\n",
       "     <use style=\"fill:#bf00bf;stroke:#bf00bf;stroke-width:0.5;\" x=\"105.296025\" xlink:href=\"#m56b4842580\" y=\"101.1950625\"/>\n",
       "     <use style=\"fill:#bf00bf;stroke:#bf00bf;stroke-width:0.5;\" x=\"64.617825\" xlink:href=\"#m56b4842580\" y=\"78.5030625\"/>\n",
       "     <use style=\"fill:#bf00bf;stroke:#bf00bf;stroke-width:0.5;\" x=\"79.181625\" xlink:href=\"#m56b4842580\" y=\"110.6190625\"/>\n",
       "     <use style=\"fill:#bf00bf;stroke:#bf00bf;stroke-width:0.5;\" x=\"68.468025\" xlink:href=\"#m56b4842580\" y=\"83.8350625\"/>\n",
       "     <use style=\"fill:#bf00bf;stroke:#bf00bf;stroke-width:0.5;\" x=\"109.313625\" xlink:href=\"#m56b4842580\" y=\"103.6750625\"/>\n",
       "     <use style=\"fill:#bf00bf;stroke:#bf00bf;stroke-width:0.5;\" x=\"58.758825\" xlink:href=\"#m56b4842580\" y=\"53.2070625\"/>\n",
       "    </g>\n",
       "   </g>\n",
       "   <g id=\"line2d_3\">\n",
       "    <defs>\n",
       "     <path d=\"\n",
       "M0 1.5\n",
       "C0.397805 1.5 0.77937 1.34195 1.06066 1.06066\n",
       "C1.34195 0.77937 1.5 0.397805 1.5 0\n",
       "C1.5 -0.397805 1.34195 -0.77937 1.06066 -1.06066\n",
       "C0.77937 -1.34195 0.397805 -1.5 0 -1.5\n",
       "C-0.397805 -1.5 -0.77937 -1.34195 -1.06066 -1.06066\n",
       "C-1.34195 -0.77937 -1.5 -0.397805 -1.5 0\n",
       "C-1.5 0.397805 -1.34195 0.77937 -1.06066 1.06066\n",
       "C-0.77937 1.34195 -0.397805 1.5 0 1.5\n",
       "z\n",
       "\" id=\"m9163a0d364\" style=\"stroke:#bfbf00;stroke-width:0.5;\"/>\n",
       "    </defs>\n",
       "    <g clip-path=\"url(#p0908c46a8e)\">\n",
       "     <use style=\"fill:#bfbf00;stroke:#bfbf00;stroke-width:0.5;\" x=\"248.925225\" xlink:href=\"#m9163a0d364\" y=\"29.0270625\"/>\n",
       "     <use style=\"fill:#bfbf00;stroke:#bfbf00;stroke-width:0.5;\" x=\"275.876625\" xlink:href=\"#m9163a0d364\" y=\"28.7790625\"/>\n",
       "     <use style=\"fill:#bfbf00;stroke:#bfbf00;stroke-width:0.5;\" x=\"304.669425\" xlink:href=\"#m9163a0d364\" y=\"61.7630625\"/>\n",
       "     <use style=\"fill:#bfbf00;stroke:#bfbf00;stroke-width:0.5;\" x=\"208.247025\" xlink:href=\"#m9163a0d364\" y=\"70.6910625\"/>\n",
       "     <use style=\"fill:#bfbf00;stroke:#bfbf00;stroke-width:0.5;\" x=\"300.484425\" xlink:href=\"#m9163a0d364\" y=\"28.5310625\"/>\n",
       "     <use style=\"fill:#bfbf00;stroke:#bfbf00;stroke-width:0.5;\" x=\"337.647225\" xlink:href=\"#m9163a0d364\" y=\"30.6390625\"/>\n",
       "     <use style=\"fill:#bfbf00;stroke:#bfbf00;stroke-width:0.5;\" x=\"276.881025\" xlink:href=\"#m9163a0d364\" y=\"49.6110625\"/>\n",
       "     <use style=\"fill:#bfbf00;stroke:#bfbf00;stroke-width:0.5;\" x=\"263.154225\" xlink:href=\"#m9163a0d364\" y=\"66.8470625\"/>\n",
       "     <use style=\"fill:#bfbf00;stroke:#bfbf00;stroke-width:0.5;\" x=\"254.616825\" xlink:href=\"#m9163a0d364\" y=\"79.7430625\"/>\n",
       "     <use style=\"fill:#bfbf00;stroke:#bfbf00;stroke-width:0.5;\" x=\"242.564025\" xlink:href=\"#m9163a0d364\" y=\"95.8630625\"/>\n",
       "     <use style=\"fill:#bfbf00;stroke:#bfbf00;stroke-width:0.5;\" x=\"264.158625\" xlink:href=\"#m9163a0d364\" y=\"56.8030625\"/>\n",
       "     <use style=\"fill:#bfbf00;stroke:#bfbf00;stroke-width:0.5;\" x=\"225.656625\" xlink:href=\"#m9163a0d364\" y=\"69.2030625\"/>\n",
       "     <use style=\"fill:#bfbf00;stroke:#bfbf00;stroke-width:0.5;\" x=\"244.907625\" xlink:href=\"#m9163a0d364\" y=\"76.5190625\"/>\n",
       "     <use style=\"fill:#bfbf00;stroke:#bfbf00;stroke-width:0.5;\" x=\"282.572625\" xlink:href=\"#m9163a0d364\" y=\"85.5710625\"/>\n",
       "     <use style=\"fill:#bfbf00;stroke:#bfbf00;stroke-width:0.5;\" x=\"224.819625\" xlink:href=\"#m9163a0d364\" y=\"112.9750625\"/>\n",
       "     <use style=\"fill:#bfbf00;stroke:#bfbf00;stroke-width:0.5;\" x=\"271.691625\" xlink:href=\"#m9163a0d364\" y=\"21.5870625\"/>\n",
       "     <use style=\"fill:#bfbf00;stroke:#bfbf00;stroke-width:0.5;\" x=\"298.475625\" xlink:href=\"#m9163a0d364\" y=\"57.6710625\"/>\n",
       "     <use style=\"fill:#bfbf00;stroke:#bfbf00;stroke-width:0.5;\" x=\"254.616825\" xlink:href=\"#m9163a0d364\" y=\"90.0350625\"/>\n",
       "     <use style=\"fill:#bfbf00;stroke:#bfbf00;stroke-width:0.5;\" x=\"285.585825\" xlink:href=\"#m9163a0d364\" y=\"48.4950625\"/>\n",
       "     <use style=\"fill:#bfbf00;stroke:#bfbf00;stroke-width:0.5;\" x=\"225.991425\" xlink:href=\"#m9163a0d364\" y=\"67.9630625\"/>\n",
       "     <use style=\"fill:#bfbf00;stroke:#bfbf00;stroke-width:0.5;\" x=\"197.198625\" xlink:href=\"#m9163a0d364\" y=\"93.1350625\"/>\n",
       "     <use style=\"fill:#bfbf00;stroke:#bfbf00;stroke-width:0.5;\" x=\"214.943025\" xlink:href=\"#m9163a0d364\" y=\"55.0670625\"/>\n",
       "     <use style=\"fill:#bfbf00;stroke:#bfbf00;stroke-width:0.5;\" x=\"281.903025\" xlink:href=\"#m9163a0d364\" y=\"21.3390625\"/>\n",
       "     <use style=\"fill:#bfbf00;stroke:#bfbf00;stroke-width:0.5;\" x=\"287.594625\" xlink:href=\"#m9163a0d364\" y=\"25.6790625\"/>\n",
       "     <use style=\"fill:#bfbf00;stroke:#bfbf00;stroke-width:0.5;\" x=\"267.339225\" xlink:href=\"#m9163a0d364\" y=\"55.0670625\"/>\n",
       "     <use style=\"fill:#bfbf00;stroke:#bfbf00;stroke-width:0.5;\" x=\"241.894425\" xlink:href=\"#m9163a0d364\" y=\"75.5270625\"/>\n",
       "     <use style=\"fill:#bfbf00;stroke:#bfbf00;stroke-width:0.5;\" x=\"217.454025\" xlink:href=\"#m9163a0d364\" y=\"100.0790625\"/>\n",
       "     <use style=\"fill:#bfbf00;stroke:#bfbf00;stroke-width:0.5;\" x=\"282.907425\" xlink:href=\"#m9163a0d364\" y=\"78.1310625\"/>\n",
       "     <use style=\"fill:#bfbf00;stroke:#bfbf00;stroke-width:0.5;\" x=\"295.964625\" xlink:href=\"#m9163a0d364\" y=\"40.3110625\"/>\n",
       "     <use style=\"fill:#bfbf00;stroke:#bfbf00;stroke-width:0.5;\" x=\"225.489225\" xlink:href=\"#m9163a0d364\" y=\"102.4350625\"/>\n",
       "    </g>\n",
       "   </g>\n",
       "   <g id=\"patch_3\">\n",
       "    <path d=\"\n",
       "M22.2656 12.0391\n",
       "L357.066 12.0391\" style=\"fill:none;stroke:#000000;stroke-linecap:square;stroke-linejoin:miter;\"/>\n",
       "   </g>\n",
       "   <g id=\"patch_4\">\n",
       "    <path d=\"\n",
       "M357.066 235.239\n",
       "L357.066 12.0391\" style=\"fill:none;stroke:#000000;stroke-linecap:square;stroke-linejoin:miter;\"/>\n",
       "   </g>\n",
       "   <g id=\"patch_5\">\n",
       "    <path d=\"\n",
       "M22.2656 235.239\n",
       "L357.066 235.239\" style=\"fill:none;stroke:#000000;stroke-linecap:square;stroke-linejoin:miter;\"/>\n",
       "   </g>\n",
       "   <g id=\"patch_6\">\n",
       "    <path d=\"\n",
       "M22.2656 235.239\n",
       "L22.2656 12.0391\" style=\"fill:none;stroke:#000000;stroke-linecap:square;stroke-linejoin:miter;\"/>\n",
       "   </g>\n",
       "   <g id=\"matplotlib.axis_1\">\n",
       "    <g id=\"xtick_1\">\n",
       "     <g id=\"line2d_4\">\n",
       "      <defs>\n",
       "       <path d=\"\n",
       "M0 0\n",
       "L0 -4\" id=\"m93b0483c22\" style=\"stroke:#000000;stroke-width:0.5;\"/>\n",
       "      </defs>\n",
       "      <g>\n",
       "       <use style=\"stroke:#000000;stroke-width:0.5;\" x=\"22.265625\" xlink:href=\"#m93b0483c22\" y=\"235.2390625\"/>\n",
       "      </g>\n",
       "     </g>\n",
       "     <g id=\"line2d_5\">\n",
       "      <defs>\n",
       "       <path d=\"\n",
       "M0 0\n",
       "L0 4\" id=\"m741efc42ff\" style=\"stroke:#000000;stroke-width:0.5;\"/>\n",
       "      </defs>\n",
       "      <g>\n",
       "       <use style=\"stroke:#000000;stroke-width:0.5;\" x=\"22.265625\" xlink:href=\"#m741efc42ff\" y=\"12.0390625\"/>\n",
       "      </g>\n",
       "     </g>\n",
       "     <g id=\"text_1\">\n",
       "      <!-- 0 -->\n",
       "      <defs>\n",
       "       <path d=\"\n",
       "M31.7812 66.4062\n",
       "Q24.1719 66.4062 20.3281 58.9062\n",
       "Q16.5 51.4219 16.5 36.375\n",
       "Q16.5 21.3906 20.3281 13.8906\n",
       "Q24.1719 6.39062 31.7812 6.39062\n",
       "Q39.4531 6.39062 43.2812 13.8906\n",
       "Q47.125 21.3906 47.125 36.375\n",
       "Q47.125 51.4219 43.2812 58.9062\n",
       "Q39.4531 66.4062 31.7812 66.4062\n",
       "M31.7812 74.2188\n",
       "Q44.0469 74.2188 50.5156 64.5156\n",
       "Q56.9844 54.8281 56.9844 36.375\n",
       "Q56.9844 17.9688 50.5156 8.26562\n",
       "Q44.0469 -1.42188 31.7812 -1.42188\n",
       "Q19.5312 -1.42188 13.0625 8.26562\n",
       "Q6.59375 17.9688 6.59375 36.375\n",
       "Q6.59375 54.8281 13.0625 64.5156\n",
       "Q19.5312 74.2188 31.7812 74.2188\" id=\"BitstreamVeraSans-Roman-30\"/>\n",
       "      </defs>\n",
       "      <g transform=\"translate(19.74609375 246.8375)scale(0.1 -0.1)\">\n",
       "       <use xlink:href=\"#BitstreamVeraSans-Roman-30\"/>\n",
       "      </g>\n",
       "     </g>\n",
       "    </g>\n",
       "    <g id=\"xtick_2\">\n",
       "     <g id=\"line2d_6\">\n",
       "      <g>\n",
       "       <use style=\"stroke:#000000;stroke-width:0.5;\" x=\"105.965625\" xlink:href=\"#m93b0483c22\" y=\"235.2390625\"/>\n",
       "      </g>\n",
       "     </g>\n",
       "     <g id=\"line2d_7\">\n",
       "      <g>\n",
       "       <use style=\"stroke:#000000;stroke-width:0.5;\" x=\"105.965625\" xlink:href=\"#m741efc42ff\" y=\"12.0390625\"/>\n",
       "      </g>\n",
       "     </g>\n",
       "     <g id=\"text_2\">\n",
       "      <!-- 5 -->\n",
       "      <defs>\n",
       "       <path d=\"\n",
       "M10.7969 72.9062\n",
       "L49.5156 72.9062\n",
       "L49.5156 64.5938\n",
       "L19.8281 64.5938\n",
       "L19.8281 46.7344\n",
       "Q21.9688 47.4688 24.1094 47.8281\n",
       "Q26.2656 48.1875 28.4219 48.1875\n",
       "Q40.625 48.1875 47.75 41.5\n",
       "Q54.8906 34.8125 54.8906 23.3906\n",
       "Q54.8906 11.625 47.5625 5.09375\n",
       "Q40.2344 -1.42188 26.9062 -1.42188\n",
       "Q22.3125 -1.42188 17.5469 -0.640625\n",
       "Q12.7969 0.140625 7.71875 1.70312\n",
       "L7.71875 11.625\n",
       "Q12.1094 9.23438 16.7969 8.0625\n",
       "Q21.4844 6.89062 26.7031 6.89062\n",
       "Q35.1562 6.89062 40.0781 11.3281\n",
       "Q45.0156 15.7656 45.0156 23.3906\n",
       "Q45.0156 31 40.0781 35.4375\n",
       "Q35.1562 39.8906 26.7031 39.8906\n",
       "Q22.75 39.8906 18.8125 39.0156\n",
       "Q14.8906 38.1406 10.7969 36.2812\n",
       "z\n",
       "\" id=\"BitstreamVeraSans-Roman-35\"/>\n",
       "      </defs>\n",
       "      <g transform=\"translate(103.60703125 246.8375)scale(0.1 -0.1)\">\n",
       "       <use xlink:href=\"#BitstreamVeraSans-Roman-35\"/>\n",
       "      </g>\n",
       "     </g>\n",
       "    </g>\n",
       "    <g id=\"xtick_3\">\n",
       "     <g id=\"line2d_8\">\n",
       "      <g>\n",
       "       <use style=\"stroke:#000000;stroke-width:0.5;\" x=\"189.665625\" xlink:href=\"#m93b0483c22\" y=\"235.2390625\"/>\n",
       "      </g>\n",
       "     </g>\n",
       "     <g id=\"line2d_9\">\n",
       "      <g>\n",
       "       <use style=\"stroke:#000000;stroke-width:0.5;\" x=\"189.665625\" xlink:href=\"#m741efc42ff\" y=\"12.0390625\"/>\n",
       "      </g>\n",
       "     </g>\n",
       "     <g id=\"text_3\">\n",
       "      <!-- 10 -->\n",
       "      <defs>\n",
       "       <path d=\"\n",
       "M12.4062 8.29688\n",
       "L28.5156 8.29688\n",
       "L28.5156 63.9219\n",
       "L10.9844 60.4062\n",
       "L10.9844 69.3906\n",
       "L28.4219 72.9062\n",
       "L38.2812 72.9062\n",
       "L38.2812 8.29688\n",
       "L54.3906 8.29688\n",
       "L54.3906 0\n",
       "L12.4062 0\n",
       "z\n",
       "\" id=\"BitstreamVeraSans-Roman-31\"/>\n",
       "      </defs>\n",
       "      <g transform=\"translate(184.184375 246.8375)scale(0.1 -0.1)\">\n",
       "       <use xlink:href=\"#BitstreamVeraSans-Roman-31\"/>\n",
       "       <use x=\"63.623046875\" xlink:href=\"#BitstreamVeraSans-Roman-30\"/>\n",
       "      </g>\n",
       "     </g>\n",
       "    </g>\n",
       "    <g id=\"xtick_4\">\n",
       "     <g id=\"line2d_10\">\n",
       "      <g>\n",
       "       <use style=\"stroke:#000000;stroke-width:0.5;\" x=\"273.365625\" xlink:href=\"#m93b0483c22\" y=\"235.2390625\"/>\n",
       "      </g>\n",
       "     </g>\n",
       "     <g id=\"line2d_11\">\n",
       "      <g>\n",
       "       <use style=\"stroke:#000000;stroke-width:0.5;\" x=\"273.365625\" xlink:href=\"#m741efc42ff\" y=\"12.0390625\"/>\n",
       "      </g>\n",
       "     </g>\n",
       "     <g id=\"text_4\">\n",
       "      <!-- 15 -->\n",
       "      <g transform=\"translate(267.9890625 246.8375)scale(0.1 -0.1)\">\n",
       "       <use xlink:href=\"#BitstreamVeraSans-Roman-31\"/>\n",
       "       <use x=\"63.623046875\" xlink:href=\"#BitstreamVeraSans-Roman-35\"/>\n",
       "      </g>\n",
       "     </g>\n",
       "    </g>\n",
       "    <g id=\"xtick_5\">\n",
       "     <g id=\"line2d_12\">\n",
       "      <g>\n",
       "       <use style=\"stroke:#000000;stroke-width:0.5;\" x=\"357.065625\" xlink:href=\"#m93b0483c22\" y=\"235.2390625\"/>\n",
       "      </g>\n",
       "     </g>\n",
       "     <g id=\"line2d_13\">\n",
       "      <g>\n",
       "       <use style=\"stroke:#000000;stroke-width:0.5;\" x=\"357.065625\" xlink:href=\"#m741efc42ff\" y=\"12.0390625\"/>\n",
       "      </g>\n",
       "     </g>\n",
       "     <g id=\"text_5\">\n",
       "      <!-- 20 -->\n",
       "      <defs>\n",
       "       <path d=\"\n",
       "M19.1875 8.29688\n",
       "L53.6094 8.29688\n",
       "L53.6094 0\n",
       "L7.32812 0\n",
       "L7.32812 8.29688\n",
       "Q12.9375 14.1094 22.625 23.8906\n",
       "Q32.3281 33.6875 34.8125 36.5312\n",
       "Q39.5469 41.8438 41.4219 45.5312\n",
       "Q43.3125 49.2188 43.3125 52.7812\n",
       "Q43.3125 58.5938 39.2344 62.25\n",
       "Q35.1562 65.9219 28.6094 65.9219\n",
       "Q23.9688 65.9219 18.8125 64.3125\n",
       "Q13.6719 62.7031 7.8125 59.4219\n",
       "L7.8125 69.3906\n",
       "Q13.7656 71.7812 18.9375 73\n",
       "Q24.125 74.2188 28.4219 74.2188\n",
       "Q39.75 74.2188 46.4844 68.5469\n",
       "Q53.2188 62.8906 53.2188 53.4219\n",
       "Q53.2188 48.9219 51.5312 44.8906\n",
       "Q49.8594 40.875 45.4062 35.4062\n",
       "Q44.1875 33.9844 37.6406 27.2188\n",
       "Q31.1094 20.4531 19.1875 8.29688\" id=\"BitstreamVeraSans-Roman-32\"/>\n",
       "      </defs>\n",
       "      <g transform=\"translate(351.4015625 246.8375)scale(0.1 -0.1)\">\n",
       "       <use xlink:href=\"#BitstreamVeraSans-Roman-32\"/>\n",
       "       <use x=\"63.623046875\" xlink:href=\"#BitstreamVeraSans-Roman-30\"/>\n",
       "      </g>\n",
       "     </g>\n",
       "    </g>\n",
       "   </g>\n",
       "   <g id=\"matplotlib.axis_2\">\n",
       "    <g id=\"ytick_1\">\n",
       "     <g id=\"line2d_14\">\n",
       "      <defs>\n",
       "       <path d=\"\n",
       "M0 0\n",
       "L4 0\" id=\"m728421d6d4\" style=\"stroke:#000000;stroke-width:0.5;\"/>\n",
       "      </defs>\n",
       "      <g>\n",
       "       <use style=\"stroke:#000000;stroke-width:0.5;\" x=\"22.265625\" xlink:href=\"#m728421d6d4\" y=\"235.2390625\"/>\n",
       "      </g>\n",
       "     </g>\n",
       "     <g id=\"line2d_15\">\n",
       "      <defs>\n",
       "       <path d=\"\n",
       "M0 0\n",
       "L-4 0\" id=\"mcb0005524f\" style=\"stroke:#000000;stroke-width:0.5;\"/>\n",
       "      </defs>\n",
       "      <g>\n",
       "       <use style=\"stroke:#000000;stroke-width:0.5;\" x=\"357.065625\" xlink:href=\"#mcb0005524f\" y=\"235.2390625\"/>\n",
       "      </g>\n",
       "     </g>\n",
       "     <g id=\"text_6\">\n",
       "      <!-- 0 -->\n",
       "      <g transform=\"translate(13.2265625 237.9984375)scale(0.1 -0.1)\">\n",
       "       <use xlink:href=\"#BitstreamVeraSans-Roman-30\"/>\n",
       "      </g>\n",
       "     </g>\n",
       "    </g>\n",
       "    <g id=\"ytick_2\">\n",
       "     <g id=\"line2d_16\">\n",
       "      <g>\n",
       "       <use style=\"stroke:#000000;stroke-width:0.5;\" x=\"22.265625\" xlink:href=\"#m728421d6d4\" y=\"210.4390625\"/>\n",
       "      </g>\n",
       "     </g>\n",
       "     <g id=\"line2d_17\">\n",
       "      <g>\n",
       "       <use style=\"stroke:#000000;stroke-width:0.5;\" x=\"357.065625\" xlink:href=\"#mcb0005524f\" y=\"210.4390625\"/>\n",
       "      </g>\n",
       "     </g>\n",
       "     <g id=\"text_7\">\n",
       "      <!-- 2 -->\n",
       "      <g transform=\"translate(13.6375 213.1984375)scale(0.1 -0.1)\">\n",
       "       <use xlink:href=\"#BitstreamVeraSans-Roman-32\"/>\n",
       "      </g>\n",
       "     </g>\n",
       "    </g>\n",
       "    <g id=\"ytick_3\">\n",
       "     <g id=\"line2d_18\">\n",
       "      <g>\n",
       "       <use style=\"stroke:#000000;stroke-width:0.5;\" x=\"22.265625\" xlink:href=\"#m728421d6d4\" y=\"185.6390625\"/>\n",
       "      </g>\n",
       "     </g>\n",
       "     <g id=\"line2d_19\">\n",
       "      <g>\n",
       "       <use style=\"stroke:#000000;stroke-width:0.5;\" x=\"357.065625\" xlink:href=\"#mcb0005524f\" y=\"185.6390625\"/>\n",
       "      </g>\n",
       "     </g>\n",
       "     <g id=\"text_8\">\n",
       "      <!-- 4 -->\n",
       "      <defs>\n",
       "       <path d=\"\n",
       "M37.7969 64.3125\n",
       "L12.8906 25.3906\n",
       "L37.7969 25.3906\n",
       "z\n",
       "\n",
       "M35.2031 72.9062\n",
       "L47.6094 72.9062\n",
       "L47.6094 25.3906\n",
       "L58.0156 25.3906\n",
       "L58.0156 17.1875\n",
       "L47.6094 17.1875\n",
       "L47.6094 0\n",
       "L37.7969 0\n",
       "L37.7969 17.1875\n",
       "L4.89062 17.1875\n",
       "L4.89062 26.7031\n",
       "z\n",
       "\" id=\"BitstreamVeraSans-Roman-34\"/>\n",
       "      </defs>\n",
       "      <g transform=\"translate(12.953125 188.3984375)scale(0.1 -0.1)\">\n",
       "       <use xlink:href=\"#BitstreamVeraSans-Roman-34\"/>\n",
       "      </g>\n",
       "     </g>\n",
       "    </g>\n",
       "    <g id=\"ytick_4\">\n",
       "     <g id=\"line2d_20\">\n",
       "      <g>\n",
       "       <use style=\"stroke:#000000;stroke-width:0.5;\" x=\"22.265625\" xlink:href=\"#m728421d6d4\" y=\"160.8390625\"/>\n",
       "      </g>\n",
       "     </g>\n",
       "     <g id=\"line2d_21\">\n",
       "      <g>\n",
       "       <use style=\"stroke:#000000;stroke-width:0.5;\" x=\"357.065625\" xlink:href=\"#mcb0005524f\" y=\"160.8390625\"/>\n",
       "      </g>\n",
       "     </g>\n",
       "     <g id=\"text_9\">\n",
       "      <!-- 6 -->\n",
       "      <defs>\n",
       "       <path d=\"\n",
       "M33.0156 40.375\n",
       "Q26.375 40.375 22.4844 35.8281\n",
       "Q18.6094 31.2969 18.6094 23.3906\n",
       "Q18.6094 15.5312 22.4844 10.9531\n",
       "Q26.375 6.39062 33.0156 6.39062\n",
       "Q39.6562 6.39062 43.5312 10.9531\n",
       "Q47.4062 15.5312 47.4062 23.3906\n",
       "Q47.4062 31.2969 43.5312 35.8281\n",
       "Q39.6562 40.375 33.0156 40.375\n",
       "M52.5938 71.2969\n",
       "L52.5938 62.3125\n",
       "Q48.875 64.0625 45.0938 64.9844\n",
       "Q41.3125 65.9219 37.5938 65.9219\n",
       "Q27.8281 65.9219 22.6719 59.3281\n",
       "Q17.5312 52.7344 16.7969 39.4062\n",
       "Q19.6719 43.6562 24.0156 45.9219\n",
       "Q28.375 48.1875 33.5938 48.1875\n",
       "Q44.5781 48.1875 50.9531 41.5156\n",
       "Q57.3281 34.8594 57.3281 23.3906\n",
       "Q57.3281 12.1562 50.6875 5.35938\n",
       "Q44.0469 -1.42188 33.0156 -1.42188\n",
       "Q20.3594 -1.42188 13.6719 8.26562\n",
       "Q6.98438 17.9688 6.98438 36.375\n",
       "Q6.98438 53.6562 15.1875 63.9375\n",
       "Q23.3906 74.2188 37.2031 74.2188\n",
       "Q40.9219 74.2188 44.7031 73.4844\n",
       "Q48.4844 72.75 52.5938 71.2969\" id=\"BitstreamVeraSans-Roman-36\"/>\n",
       "      </defs>\n",
       "      <g transform=\"translate(13.23125 163.5984375)scale(0.1 -0.1)\">\n",
       "       <use xlink:href=\"#BitstreamVeraSans-Roman-36\"/>\n",
       "      </g>\n",
       "     </g>\n",
       "    </g>\n",
       "    <g id=\"ytick_5\">\n",
       "     <g id=\"line2d_22\">\n",
       "      <g>\n",
       "       <use style=\"stroke:#000000;stroke-width:0.5;\" x=\"22.265625\" xlink:href=\"#m728421d6d4\" y=\"136.0390625\"/>\n",
       "      </g>\n",
       "     </g>\n",
       "     <g id=\"line2d_23\">\n",
       "      <g>\n",
       "       <use style=\"stroke:#000000;stroke-width:0.5;\" x=\"357.065625\" xlink:href=\"#mcb0005524f\" y=\"136.0390625\"/>\n",
       "      </g>\n",
       "     </g>\n",
       "     <g id=\"text_10\">\n",
       "      <!-- 8 -->\n",
       "      <defs>\n",
       "       <path d=\"\n",
       "M31.7812 34.625\n",
       "Q24.75 34.625 20.7188 30.8594\n",
       "Q16.7031 27.0938 16.7031 20.5156\n",
       "Q16.7031 13.9219 20.7188 10.1562\n",
       "Q24.75 6.39062 31.7812 6.39062\n",
       "Q38.8125 6.39062 42.8594 10.1719\n",
       "Q46.9219 13.9688 46.9219 20.5156\n",
       "Q46.9219 27.0938 42.8906 30.8594\n",
       "Q38.875 34.625 31.7812 34.625\n",
       "M21.9219 38.8125\n",
       "Q15.5781 40.375 12.0312 44.7188\n",
       "Q8.5 49.0781 8.5 55.3281\n",
       "Q8.5 64.0625 14.7188 69.1406\n",
       "Q20.9531 74.2188 31.7812 74.2188\n",
       "Q42.6719 74.2188 48.875 69.1406\n",
       "Q55.0781 64.0625 55.0781 55.3281\n",
       "Q55.0781 49.0781 51.5312 44.7188\n",
       "Q48 40.375 41.7031 38.8125\n",
       "Q48.8281 37.1562 52.7969 32.3125\n",
       "Q56.7812 27.4844 56.7812 20.5156\n",
       "Q56.7812 9.90625 50.3125 4.23438\n",
       "Q43.8438 -1.42188 31.7812 -1.42188\n",
       "Q19.7344 -1.42188 13.25 4.23438\n",
       "Q6.78125 9.90625 6.78125 20.5156\n",
       "Q6.78125 27.4844 10.7812 32.3125\n",
       "Q14.7969 37.1562 21.9219 38.8125\n",
       "M18.3125 54.3906\n",
       "Q18.3125 48.7344 21.8438 45.5625\n",
       "Q25.3906 42.3906 31.7812 42.3906\n",
       "Q38.1406 42.3906 41.7188 45.5625\n",
       "Q45.3125 48.7344 45.3125 54.3906\n",
       "Q45.3125 60.0625 41.7188 63.2344\n",
       "Q38.1406 66.4062 31.7812 66.4062\n",
       "Q25.3906 66.4062 21.8438 63.2344\n",
       "Q18.3125 60.0625 18.3125 54.3906\" id=\"BitstreamVeraSans-Roman-38\"/>\n",
       "      </defs>\n",
       "      <g transform=\"translate(13.265625 138.7984375)scale(0.1 -0.1)\">\n",
       "       <use xlink:href=\"#BitstreamVeraSans-Roman-38\"/>\n",
       "      </g>\n",
       "     </g>\n",
       "    </g>\n",
       "    <g id=\"ytick_6\">\n",
       "     <g id=\"line2d_24\">\n",
       "      <g>\n",
       "       <use style=\"stroke:#000000;stroke-width:0.5;\" x=\"22.265625\" xlink:href=\"#m728421d6d4\" y=\"111.2390625\"/>\n",
       "      </g>\n",
       "     </g>\n",
       "     <g id=\"line2d_25\">\n",
       "      <g>\n",
       "       <use style=\"stroke:#000000;stroke-width:0.5;\" x=\"357.065625\" xlink:href=\"#mcb0005524f\" y=\"111.2390625\"/>\n",
       "      </g>\n",
       "     </g>\n",
       "     <g id=\"text_11\">\n",
       "      <!-- 10 -->\n",
       "      <g transform=\"translate(7.303125 113.9984375)scale(0.1 -0.1)\">\n",
       "       <use xlink:href=\"#BitstreamVeraSans-Roman-31\"/>\n",
       "       <use x=\"63.623046875\" xlink:href=\"#BitstreamVeraSans-Roman-30\"/>\n",
       "      </g>\n",
       "     </g>\n",
       "    </g>\n",
       "    <g id=\"ytick_7\">\n",
       "     <g id=\"line2d_26\">\n",
       "      <g>\n",
       "       <use style=\"stroke:#000000;stroke-width:0.5;\" x=\"22.265625\" xlink:href=\"#m728421d6d4\" y=\"86.4390625\"/>\n",
       "      </g>\n",
       "     </g>\n",
       "     <g id=\"line2d_27\">\n",
       "      <g>\n",
       "       <use style=\"stroke:#000000;stroke-width:0.5;\" x=\"357.065625\" xlink:href=\"#mcb0005524f\" y=\"86.4390625\"/>\n",
       "      </g>\n",
       "     </g>\n",
       "     <g id=\"text_12\">\n",
       "      <!-- 12 -->\n",
       "      <g transform=\"translate(7.640625 89.1984375)scale(0.1 -0.1)\">\n",
       "       <use xlink:href=\"#BitstreamVeraSans-Roman-31\"/>\n",
       "       <use x=\"63.623046875\" xlink:href=\"#BitstreamVeraSans-Roman-32\"/>\n",
       "      </g>\n",
       "     </g>\n",
       "    </g>\n",
       "    <g id=\"ytick_8\">\n",
       "     <g id=\"line2d_28\">\n",
       "      <g>\n",
       "       <use style=\"stroke:#000000;stroke-width:0.5;\" x=\"22.265625\" xlink:href=\"#m728421d6d4\" y=\"61.6390625\"/>\n",
       "      </g>\n",
       "     </g>\n",
       "     <g id=\"line2d_29\">\n",
       "      <g>\n",
       "       <use style=\"stroke:#000000;stroke-width:0.5;\" x=\"357.065625\" xlink:href=\"#mcb0005524f\" y=\"61.6390625\"/>\n",
       "      </g>\n",
       "     </g>\n",
       "     <g id=\"text_13\">\n",
       "      <!-- 14 -->\n",
       "      <g transform=\"translate(7.2 64.3984375)scale(0.1 -0.1)\">\n",
       "       <use xlink:href=\"#BitstreamVeraSans-Roman-31\"/>\n",
       "       <use x=\"63.623046875\" xlink:href=\"#BitstreamVeraSans-Roman-34\"/>\n",
       "      </g>\n",
       "     </g>\n",
       "    </g>\n",
       "    <g id=\"ytick_9\">\n",
       "     <g id=\"line2d_30\">\n",
       "      <g>\n",
       "       <use style=\"stroke:#000000;stroke-width:0.5;\" x=\"22.265625\" xlink:href=\"#m728421d6d4\" y=\"36.8390625\"/>\n",
       "      </g>\n",
       "     </g>\n",
       "     <g id=\"line2d_31\">\n",
       "      <g>\n",
       "       <use style=\"stroke:#000000;stroke-width:0.5;\" x=\"357.065625\" xlink:href=\"#mcb0005524f\" y=\"36.8390625\"/>\n",
       "      </g>\n",
       "     </g>\n",
       "     <g id=\"text_14\">\n",
       "      <!-- 16 -->\n",
       "      <g transform=\"translate(7.26875 39.5984375)scale(0.1 -0.1)\">\n",
       "       <use xlink:href=\"#BitstreamVeraSans-Roman-31\"/>\n",
       "       <use x=\"63.623046875\" xlink:href=\"#BitstreamVeraSans-Roman-36\"/>\n",
       "      </g>\n",
       "     </g>\n",
       "    </g>\n",
       "    <g id=\"ytick_10\">\n",
       "     <g id=\"line2d_32\">\n",
       "      <g>\n",
       "       <use style=\"stroke:#000000;stroke-width:0.5;\" x=\"22.265625\" xlink:href=\"#m728421d6d4\" y=\"12.0390625\"/>\n",
       "      </g>\n",
       "     </g>\n",
       "     <g id=\"line2d_33\">\n",
       "      <g>\n",
       "       <use style=\"stroke:#000000;stroke-width:0.5;\" x=\"357.065625\" xlink:href=\"#mcb0005524f\" y=\"12.0390625\"/>\n",
       "      </g>\n",
       "     </g>\n",
       "     <g id=\"text_15\">\n",
       "      <!-- 18 -->\n",
       "      <g transform=\"translate(7.3234375 14.7984375)scale(0.1 -0.1)\">\n",
       "       <use xlink:href=\"#BitstreamVeraSans-Roman-31\"/>\n",
       "       <use x=\"63.623046875\" xlink:href=\"#BitstreamVeraSans-Roman-38\"/>\n",
       "      </g>\n",
       "     </g>\n",
       "    </g>\n",
       "   </g>\n",
       "  </g>\n",
       " </g>\n",
       " <defs>\n",
       "  <clipPath id=\"p0908c46a8e\">\n",
       "   <rect height=\"223.2\" width=\"334.8\" x=\"22.265625\" y=\"12.0390625\"/>\n",
       "  </clipPath>\n",
       " </defs>\n",
       "</svg>\n"
      ],
      "text/plain": [
       "<matplotlib.figure.Figure at 0x10acc7350>"
      ]
     },
     "metadata": {},
     "output_type": "display_data"
    }
   ],
   "source": [
    "disp_result(data, sample_idxs)"
   ]
  },
  {
   "cell_type": "markdown",
   "metadata": {
    "slideshow": {
     "slide_type": "subslide"
    }
   },
   "source": [
    "#### 4-2. matplotlib で結果プロット例2（numpy 非利用）"
   ]
  },
  {
   "cell_type": "code",
   "execution_count": null,
   "metadata": {
    "collapsed": true
   },
   "outputs": [],
   "source": [
    "def disp_result(X, idxs):\n",
    "    data_0 = [v for i, v in enumerate(X) if idxs[i] == 0]\n",
    "    data_1 = [v for i, v in enumerate(X) if idxs[i] == 1]\n",
    "    data_2 = [v for i, v in enumerate(X) if idxs[i] == 2]\n",
    "    \n",
    "    data_0x, data_0y = map(list, zip(*data_0))\n",
    "    data_1x, data_1y = map(list, zip(*data_1))\n",
    "    data_2x, data_2y = map(list, zip(*data_2))\n",
    "\n",
    "    plt.plot(data_0x, data_0y, \"c.\")\n",
    "    plt.plot(data_1x, data_1y, \"m.\")\n",
    "    plt.plot(data_2x, data_2y, \"y.\")\n",
    "    return plot.show()\n"
   ]
  },
  {
   "cell_type": "markdown",
   "metadata": {
    "slideshow": {
     "slide_type": "notes"
    }
   },
   "source": [
    "※ 表示例は先ほどの例を参照。"
   ]
  },
  {
   "cell_type": "markdown",
   "metadata": {
    "slideshow": {
     "slide_type": "subslide"
    }
   },
   "source": [
    "#### 4-3. データをまとめて標準出力に出力例"
   ]
  },
  {
   "cell_type": "markdown",
   "metadata": {},
   "source": [
    "※ matplotlib が使用できない場合はこの方法で結果を出力。"
   ]
  },
  {
   "cell_type": "code",
   "execution_count": null,
   "metadata": {
    "collapsed": true
   },
   "outputs": [],
   "source": [
    "def disp_result(X, idxs):\n",
    "    for i, x in enumerate(X):\n",
    "        print(\"%.2f %.2f %d\" % (x[0], x[1], idxs[i]))\n"
   ]
  },
  {
   "cell_type": "markdown",
   "metadata": {
    "slideshow": {
     "slide_type": "subslide"
    }
   },
   "source": [
    "### 5. K-means 実行"
   ]
  },
  {
   "cell_type": "code",
   "execution_count": null,
   "metadata": {
    "collapsed": true
   },
   "outputs": [],
   "source": [
    "def run(X, K):\n",
    "    initial_centroids = init_centroids(X, K)\n",
    "    centroids, idxs = run_kmeans(X, initial_centroids)\n",
    "    disp_result(X, idxs)\n",
    "\n",
    "run(data, 3)"
   ]
  },
  {
   "cell_type": "markdown",
   "metadata": {
    "slideshow": {
     "slide_type": "fragment"
    }
   },
   "source": [
    "以上を1つのファイル（`kmeans.py`）にまとめて、コマンドラインから `python kmeans.py` を実行。"
   ]
  },
  {
   "cell_type": "markdown",
   "metadata": {
    "collapsed": true,
    "slideshow": {
     "slide_type": "slide"
    }
   },
   "source": [
    "## 目的関数と最適化"
   ]
  },
  {
   "cell_type": "markdown",
   "metadata": {},
   "source": [
    "※ここからはオプションです。時間に余裕がある場合はこの先に進んでください。"
   ]
  },
  {
   "cell_type": "markdown",
   "metadata": {
    "slideshow": {
     "slide_type": "subslide"
    }
   },
   "source": [
    "### 目的関数\n",
    "\n",
    "+ 最適化する対象となる関数。\n",
    "+ K-means では、目的関数は「各点と、その属するクラスタ重心との距離の二乗の平均を求める関数」、最適化は「目的関数の値が最小となるようにパラメータを選ぶこと」。"
   ]
  },
  {
   "cell_type": "markdown",
   "metadata": {
    "slideshow": {
     "slide_type": "notes"
    }
   },
   "source": [
    "$c^{(i)}$ … i番目 のデータの属するクラスタ番号（＝`idxs[i-1]`）  \n",
    "$\\mu_k$ … k番目 のクラスタ（1≦k≦K）のクラスタ重心（＝`centroids[k-1]`）  \n",
    "$\\mu_{c^{(i)}}$ … i番目 のデータの属するクラスタのクラスタ重心（＝`centroids[idxs[i-1]]`）\n",
    "\n",
    "$$\n",
    "J(c^{(1)},\\dots,c^{(m)},\\mu_1,\\dots,\\mu_K) = \\frac{1}{m} \\sum_{i=1}^m \\left\\| x^{(i)} - \\mu_{c^{(i)}} \\right\\|^2\\\\\n",
    "\\min_{c^{(1)},\\dots,c^{(m)},\\mu_1,\\dots,\\mu_K} J(c^{(1)},\\dots,c^{(m)},\\mu_1,\\dots,\\mu_K)\n",
    "$$\n",
    "\n",
    "↑のJ（目的関数）を、イテレーションごとに得られる idxs と centroids を利用して計算し、それを plot すると良い。"
   ]
  },
  {
   "cell_type": "code",
   "execution_count": 5,
   "metadata": {
    "collapsed": true,
    "slideshow": {
     "slide_type": "subslide"
    }
   },
   "outputs": [],
   "source": [
    "def cost(X, centroids, idxs):\n",
    "    # # 例1：numpy を使用していない場合（X や centroids が二次元の list の場合）\n",
    "    # m = len(X)\n",
    "    # n = len(X[0])\n",
    "    # return sum(sum((X[j][i] - centroids[idxs[j]][i]) ** 2 for i in range(n)) for j in range(m)) / m\n",
    "\n",
    "    # 例2：numpy を使用している場合（X や centroids が二次元の numpy.ndarray の場合）\n",
    "    return np.mean([sum(n**2 for n in (X[i] - centroids[idxs[i]])) for i in range(len(X))])\n"
   ]
  },
  {
   "cell_type": "markdown",
   "metadata": {
    "slideshow": {
     "slide_type": "subslide"
    }
   },
   "source": [
    "### 学習曲線\n",
    "\n",
    "+ イテレーションの回数を横軸、それぞれの目的関数の値を縦軸にとって、イテレーションごとにその値をプロットしたグラフ。"
   ]
  },
  {
   "cell_type": "code",
   "execution_count": 6,
   "metadata": {
    "collapsed": true,
    "slideshow": {
     "slide_type": "subslide"
    }
   },
   "outputs": [],
   "source": [
    "def run_stepwise(X, K):\n",
    "    m = len(X)\n",
    "    initial_centroids = init_centroids(X, K)\n",
    "    initial_idxs = [0 for _ in range(m)]\n",
    "    \n",
    "    centroids = initial_centroids\n",
    "    idxs = initial_idxs\n",
    "    costs = [cost(X, centroids, idxs)]\n",
    "\n",
    "    prev_centroids = centroids\n",
    "    for _ in range(10):\n",
    "        centroids, idxs = run_kmeans(X, centroids, max_iters=1)\n",
    "        costs.append(cost(X, centroids, idxs))\n",
    "\n",
    "        # if centroids == prev_centroids:\n",
    "        if (centroids == prev_centroids).all():\n",
    "            break\n",
    "\n",
    "        prev_centroids = centroids\n",
    "\n",
    "    plt.plot(range(len(costs)), costs, label='Learning Curve')\n",
    "    plt.xlabel(\"Iterations\")\n",
    "    plt.ylabel(\"Costs\")\n",
    "    return plt.show()\n"
   ]
  },
  {
   "cell_type": "markdown",
   "metadata": {
    "collapsed": true,
    "slideshow": {
     "slide_type": "subslide"
    }
   },
   "source": [
    "表示例：\n",
    "\n",
    "<img src=\"./LearningCurveSample.png\" width=\"800\">"
   ]
  },
  {
   "cell_type": "code",
   "execution_count": null,
   "metadata": {
    "collapsed": true,
    "slideshow": {
     "slide_type": "skip"
    }
   },
   "outputs": [],
   "source": []
  }
 ],
 "metadata": {
  "celltoolbar": "Slideshow",
  "kernelspec": {
   "display_name": "Python 2",
   "language": "python",
   "name": "python2"
  },
  "language_info": {
   "codemirror_mode": {
    "name": "ipython",
    "version": 2
   },
   "file_extension": ".py",
   "mimetype": "text/x-python",
   "name": "python",
   "nbconvert_exporter": "python",
   "pygments_lexer": "ipython2",
   "version": "2.7.9"
  }
 },
 "nbformat": 4,
 "nbformat_minor": 0
}
