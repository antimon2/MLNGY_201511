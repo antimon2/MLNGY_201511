{
 "cells": [
  {
   "cell_type": "markdown",
   "metadata": {
    "slideshow": {
     "slide_type": "slide"
    }
   },
   "source": [
    "# K-means 実習<br><small>ハンズオン資料</small>"
   ]
  },
  {
   "cell_type": "markdown",
   "metadata": {},
   "source": [
    "<p style=\"text-align:center;font-size:150%;line-height:150%\">2015/11/28 機械学習 名古屋 第2回勉強会</p>"
   ]
  },
  {
   "cell_type": "markdown",
   "metadata": {
    "slideshow": {
     "slide_type": "subslide"
    }
   },
   "source": [
    "## はじめに"
   ]
  },
  {
   "cell_type": "markdown",
   "metadata": {},
   "source": [
    "この資料は、K-means 法（以降、単に K-means と記述）を用いて、教師なし学習（クラスタリング）を実行するプログラムを作成・実行することを目的とするものです。"
   ]
  },
  {
   "cell_type": "markdown",
   "metadata": {
    "slideshow": {
     "slide_type": "subslide"
    }
   },
   "source": [
    "## 目標"
   ]
  },
  {
   "cell_type": "markdown",
   "metadata": {},
   "source": [
    "+ 簡単なサンプルデータを用いて、自力で K-means によるクラスタリングが実装出来るようになる。\n",
    "+ 自分の組んだ K-means が正しくクラスタリングを実施できているか確認できる（オプション）。\n",
    "+ K-means の使い道を考える（オプション、もしくは宿題）。"
   ]
  },
  {
   "cell_type": "markdown",
   "metadata": {
    "slideshow": {
     "slide_type": "subslide"
    }
   },
   "source": [
    "## 環境等"
   ]
  },
  {
   "cell_type": "markdown",
   "metadata": {},
   "source": [
    "以下の環境を前提とします。\n",
    "\n",
    "+ Python（必須）（2.7.x / 3.x どちらでもOK）\n",
    "+ numpy（任意、あると便利）\n",
    "+ matplotlib（任意ですが、データや学習結果を確認するのに必要）\n",
    "+ IPython（任意）"
   ]
  },
  {
   "cell_type": "markdown",
   "metadata": {
    "slideshow": {
     "slide_type": "slide"
    }
   },
   "source": [
    "## K-means"
   ]
  },
  {
   "cell_type": "markdown",
   "metadata": {
    "slideshow": {
     "slide_type": "subslide"
    }
   },
   "source": [
    "K-means は、以下の2つのステップを繰り返し行う：\n",
    "\n",
    "+ クラスタ割り付け\n",
    "+ 重心移動"
   ]
  },
  {
   "cell_type": "markdown",
   "metadata": {
    "slideshow": {
     "slide_type": "slide"
    }
   },
   "source": [
    "### クラスタ割り付け"
   ]
  },
  {
   "cell_type": "markdown",
   "metadata": {
    "slideshow": {
     "slide_type": "fragment"
    }
   },
   "source": [
    "+ データセットの各点を、どのクラスタに属するか判定して割り付けていく。\n",
    "+ 具体的には、用意された K個 の「クラスタ重心 (centorids)」のうち、どれに一番「近いか」で判定。"
   ]
  },
  {
   "cell_type": "markdown",
   "metadata": {
    "slideshow": {
     "slide_type": "slide"
    }
   },
   "source": [
    "### 重心移動"
   ]
  },
  {
   "cell_type": "markdown",
   "metadata": {
    "slideshow": {
     "slide_type": "fragment"
    }
   },
   "source": [
    "+ 各クラスタに属する点の集合から、その重心を算出する。\n",
    "+ 計算した重心を新しい「クラスタ重心 (centroids)」とする（置き換える）。"
   ]
  },
  {
   "cell_type": "markdown",
   "metadata": {
    "collapsed": true,
    "slideshow": {
     "slide_type": "slide"
    }
   },
   "source": [
    "## K-means のアルゴリズム"
   ]
  },
  {
   "cell_type": "markdown",
   "metadata": {
    "slideshow": {
     "slide_type": "subslide"
    }
   },
   "source": [
    "0. 前準備：\n",
    "  1. データを読み込む。\n",
    "  2. クラスタ数 K を与える。\n",
    "1. K個 の「クラスタ重心 (centroids)」を乱択する。\n",
    "2. 以下のループを実施：\n",
    "  1. クラスタ割り付けステップ\n",
    "  2. 重心移動ステップ\n",
    "3. 結果表示"
   ]
  },
  {
   "cell_type": "markdown",
   "metadata": {
    "collapsed": true,
    "slideshow": {
     "slide_type": "slide"
    }
   },
   "source": [
    "## 1. 前準備"
   ]
  },
  {
   "cell_type": "code",
   "execution_count": 1,
   "metadata": {
    "collapsed": true,
    "slideshow": {
     "slide_type": "notes"
    }
   },
   "outputs": [],
   "source": [
    "%matplotlib inline\n",
    "%config InlineBackend.figure_format = 'svg'\n",
    "import matplotlib.pyplot as plt\n",
    "import numpy as np"
   ]
  },
  {
   "cell_type": "markdown",
   "metadata": {
    "collapsed": true,
    "slideshow": {
     "slide_type": "subslide"
    }
   },
   "source": [
    "### 1-A. データを読み込む。"
   ]
  },
  {
   "cell_type": "markdown",
   "metadata": {},
   "source": [
    "※用意したサンプルデータは、1行に小数点付きの数値 (0.0〜20.0) が半角空白区切で2つ、それが100行くらい含まれています。"
   ]
  },
  {
   "cell_type": "markdown",
   "metadata": {
    "slideshow": {
     "slide_type": "subslide"
    }
   },
   "source": [
    "#### Python 標準関数のみを使用する方法"
   ]
  },
  {
   "cell_type": "markdown",
   "metadata": {},
   "source": [
    "※入力後のデータは、「リストのリスト」になります。"
   ]
  },
  {
   "cell_type": "code",
   "execution_count": null,
   "metadata": {
    "collapsed": true,
    "slideshow": {
     "slide_type": "fragment"
    }
   },
   "outputs": [],
   "source": [
    "data = []\n",
    "with open('CodeIQ_data.txt', 'r') as f:\n",
    "    data = [[float(n) for n in line.strip().split()] for line in f.readlines()]\n",
    "\n",
    "# i番目のデータ（i≧0）を取り出す方法：\n",
    "# data[i]\n",
    "# x成分（1列目）・y成分（2列目）をそれぞれ取り出す方法：\n",
    "# data_x, data_y = map(list, zip(*data))\n"
   ]
  },
  {
   "cell_type": "markdown",
   "metadata": {
    "slideshow": {
     "slide_type": "subslide"
    }
   },
   "source": [
    "#### numpy を利用する方法"
   ]
  },
  {
   "cell_type": "markdown",
   "metadata": {},
   "source": [
    "※入力後のデータは、`numpy.ndarray` になります。"
   ]
  },
  {
   "cell_type": "code",
   "execution_count": 2,
   "metadata": {
    "collapsed": false,
    "slideshow": {
     "slide_type": "fragment"
    }
   },
   "outputs": [],
   "source": [
    "import numpy as np\n",
    "data = np.loadtxt('CodeIQ_data.txt', delimiter=' ')\n",
    "\n",
    "# i番目のデータ（i≧0）を取り出す方法：\n",
    "# data[i] または data[i, :]\n",
    "# x成分（1列目）・y成分（2列目）をそれぞれ取り出す方法：\n",
    "# data_x = data[:, 0]\n",
    "# data_y = data[:, 1]\n"
   ]
  },
  {
   "cell_type": "markdown",
   "metadata": {
    "collapsed": true,
    "slideshow": {
     "slide_type": "subslide"
    }
   },
   "source": [
    "### 1-B. クラスタ数 K を与える。"
   ]
  },
  {
   "cell_type": "markdown",
   "metadata": {
    "slideshow": {
     "slide_type": "fragment"
    }
   },
   "source": [
    "<big style=\"display:block;font-size:300%;font-style:bold;line-height:150%;text-align:center\">目視で！</big>"
   ]
  },
  {
   "cell_type": "code",
   "execution_count": 4,
   "metadata": {
    "collapsed": false,
    "scrolled": false,
    "slideshow": {
     "slide_type": "subslide"
    }
   },
   "outputs": [
    {
     "data": {
      "text/plain": [
       "<matplotlib.collections.PathCollection at 0x10bb5f5d0>"
      ]
     },
     "execution_count": 4,
     "metadata": {},
     "output_type": "execute_result"
    },
    {
     "data": {
      "image/svg+xml": [
       "<?xml version=\"1.0\" encoding=\"utf-8\" standalone=\"no\"?>\n",
       "<!DOCTYPE svg PUBLIC \"-//W3C//DTD SVG 1.1//EN\"\n",
       "  \"http://www.w3.org/Graphics/SVG/1.1/DTD/svg11.dtd\">\n",
       "<!-- Created with matplotlib (http://matplotlib.org/) -->\n",
       "<svg height=\"256pt\" version=\"1.1\" viewBox=\"0 0 371 256\" width=\"371pt\" xmlns=\"http://www.w3.org/2000/svg\" xmlns:xlink=\"http://www.w3.org/1999/xlink\">\n",
       " <defs>\n",
       "  <style type=\"text/css\">\n",
       "*{stroke-linecap:butt;stroke-linejoin:round;}\n",
       "  </style>\n",
       " </defs>\n",
       " <g id=\"figure_1\">\n",
       "  <g id=\"patch_1\">\n",
       "   <path d=\"\n",
       "M3.55271e-15 256.15\n",
       "L371.32 256.15\n",
       "L371.32 0\n",
       "L3.55271e-15 0\n",
       "L3.55271e-15 256.15\" style=\"fill:none;\"/>\n",
       "  </g>\n",
       "  <g id=\"axes_1\">\n",
       "   <g id=\"patch_2\">\n",
       "    <path d=\"\n",
       "M23.2797 235.25\n",
       "L358.08 235.25\n",
       "L358.08 12.05\n",
       "L23.2797 12.05\n",
       "z\n",
       "\" style=\"fill:#ffffff;\"/>\n",
       "   </g>\n",
       "   <g id=\"PathCollection_1\">\n",
       "    <defs>\n",
       "     <path d=\"\n",
       "M0 2.23607\n",
       "C0.593012 2.23607 1.16182 2.00046 1.58114 1.58114\n",
       "C2.00046 1.16182 2.23607 0.593012 2.23607 0\n",
       "C2.23607 -0.593012 2.00046 -1.16182 1.58114 -1.58114\n",
       "C1.16182 -2.00046 0.593012 -2.23607 0 -2.23607\n",
       "C-0.593012 -2.23607 -1.16182 -2.00046 -1.58114 -1.58114\n",
       "C-2.00046 -1.16182 -2.23607 -0.593012 -2.23607 0\n",
       "C-2.23607 0.593012 -2.00046 1.16182 -1.58114 1.58114\n",
       "C-1.16182 2.00046 -0.593012 2.23607 0 2.23607\n",
       "z\n",
       "\" id=\"m892ea4c8d5\" style=\"stroke:#000000;\"/>\n",
       "    </defs>\n",
       "    <g clip-path=\"url(#p5aaa0ce1e1)\">\n",
       "     <use style=\"fill:#0000ff;stroke:#000000;\" x=\"239.8952875\" xlink:href=\"#m892ea4c8d5\" y=\"194.8508\"/>\n",
       "     <use style=\"fill:#0000ff;stroke:#000000;\" x=\"97.1030875\" xlink:href=\"#m892ea4c8d5\" y=\"139.7204\"/>\n",
       "     <use style=\"fill:#0000ff;stroke:#000000;\" x=\"249.9392875\" xlink:href=\"#m892ea4c8d5\" y=\"49.6592\"/>\n",
       "     <use style=\"fill:#0000ff;stroke:#000000;\" x=\"132.5918875\" xlink:href=\"#m892ea4c8d5\" y=\"194.8508\"/>\n",
       "     <use style=\"fill:#0000ff;stroke:#000000;\" x=\"194.8646875\" xlink:href=\"#m892ea4c8d5\" y=\"201.5468\"/>\n",
       "     <use style=\"fill:#0000ff;stroke:#000000;\" x=\"102.7946875\" xlink:href=\"#m892ea4c8d5\" y=\"87.38\"/>\n",
       "     <use style=\"fill:#0000ff;stroke:#000000;\" x=\"156.8648875\" xlink:href=\"#m892ea4c8d5\" y=\"194.4044\"/>\n",
       "     <use style=\"fill:#0000ff;stroke:#000000;\" x=\"205.2434875\" xlink:href=\"#m892ea4c8d5\" y=\"185.3648\"/>\n",
       "     <use style=\"fill:#0000ff;stroke:#000000;\" x=\"61.4468875\" xlink:href=\"#m892ea4c8d5\" y=\"105.5708\"/>\n",
       "     <use style=\"fill:#0000ff;stroke:#000000;\" x=\"276.8906875\" xlink:href=\"#m892ea4c8d5\" y=\"49.436\"/>\n",
       "     <use style=\"fill:#0000ff;stroke:#000000;\" x=\"67.8080875\" xlink:href=\"#m892ea4c8d5\" y=\"77.7824\"/>\n",
       "     <use style=\"fill:#0000ff;stroke:#000000;\" x=\"305.6834875\" xlink:href=\"#m892ea4c8d5\" y=\"79.1216\"/>\n",
       "     <use style=\"fill:#0000ff;stroke:#000000;\" x=\"129.0764875\" xlink:href=\"#m892ea4c8d5\" y=\"113.1596\"/>\n",
       "     <use style=\"fill:#0000ff;stroke:#000000;\" x=\"122.0456875\" xlink:href=\"#m892ea4c8d5\" y=\"116.5076\"/>\n",
       "     <use style=\"fill:#0000ff;stroke:#000000;\" x=\"228.5120875\" xlink:href=\"#m892ea4c8d5\" y=\"221.0768\"/>\n",
       "     <use style=\"fill:#0000ff;stroke:#000000;\" x=\"172.2656875\" xlink:href=\"#m892ea4c8d5\" y=\"198.0872\"/>\n",
       "     <use style=\"fill:#0000ff;stroke:#000000;\" x=\"209.2610875\" xlink:href=\"#m892ea4c8d5\" y=\"87.1568\"/>\n",
       "     <use style=\"fill:#0000ff;stroke:#000000;\" x=\"208.4240875\" xlink:href=\"#m892ea4c8d5\" y=\"209.2472\"/>\n",
       "     <use style=\"fill:#0000ff;stroke:#000000;\" x=\"140.2922875\" xlink:href=\"#m892ea4c8d5\" y=\"62.828\"/>\n",
       "     <use style=\"fill:#0000ff;stroke:#000000;\" x=\"301.4984875\" xlink:href=\"#m892ea4c8d5\" y=\"49.2128\"/>\n",
       "     <use style=\"fill:#0000ff;stroke:#000000;\" x=\"183.9836875\" xlink:href=\"#m892ea4c8d5\" y=\"191.6144\"/>\n",
       "     <use style=\"fill:#0000ff;stroke:#000000;\" x=\"219.8072875\" xlink:href=\"#m892ea4c8d5\" y=\"198.0872\"/>\n",
       "     <use style=\"fill:#0000ff;stroke:#000000;\" x=\"338.6612875\" xlink:href=\"#m892ea4c8d5\" y=\"51.11\"/>\n",
       "     <use style=\"fill:#0000ff;stroke:#000000;\" x=\"57.2618875\" xlink:href=\"#m892ea4c8d5\" y=\"135.0332\"/>\n",
       "     <use style=\"fill:#0000ff;stroke:#000000;\" x=\"277.8950875\" xlink:href=\"#m892ea4c8d5\" y=\"68.1848\"/>\n",
       "     <use style=\"fill:#0000ff;stroke:#000000;\" x=\"67.8080875\" xlink:href=\"#m892ea4c8d5\" y=\"144.854\"/>\n",
       "     <use style=\"fill:#0000ff;stroke:#000000;\" x=\"83.5436875\" xlink:href=\"#m892ea4c8d5\" y=\"106.91\"/>\n",
       "     <use style=\"fill:#0000ff;stroke:#000000;\" x=\"43.8698875\" xlink:href=\"#m892ea4c8d5\" y=\"116.1728\"/>\n",
       "     <use style=\"fill:#0000ff;stroke:#000000;\" x=\"264.1682875\" xlink:href=\"#m892ea4c8d5\" y=\"83.6972\"/>\n",
       "     <use style=\"fill:#0000ff;stroke:#000000;\" x=\"255.6308875\" xlink:href=\"#m892ea4c8d5\" y=\"95.3036\"/>\n",
       "     <use style=\"fill:#0000ff;stroke:#000000;\" x=\"142.3010875\" xlink:href=\"#m892ea4c8d5\" y=\"74.3228\"/>\n",
       "     <use style=\"fill:#0000ff;stroke:#000000;\" x=\"243.5780875\" xlink:href=\"#m892ea4c8d5\" y=\"109.8116\"/>\n",
       "     <use style=\"fill:#0000ff;stroke:#000000;\" x=\"265.1726875\" xlink:href=\"#m892ea4c8d5\" y=\"74.6576\"/>\n",
       "     <use style=\"fill:#0000ff;stroke:#000000;\" x=\"206.2478875\" xlink:href=\"#m892ea4c8d5\" y=\"221.9696\"/>\n",
       "     <use style=\"fill:#0000ff;stroke:#000000;\" x=\"157.1996875\" xlink:href=\"#m892ea4c8d5\" y=\"205.5644\"/>\n",
       "     <use style=\"fill:#0000ff;stroke:#000000;\" x=\"206.2478875\" xlink:href=\"#m892ea4c8d5\" y=\"213.9344\"/>\n",
       "     <use style=\"fill:#0000ff;stroke:#000000;\" x=\"175.7810875\" xlink:href=\"#m892ea4c8d5\" y=\"187.1504\"/>\n",
       "     <use style=\"fill:#0000ff;stroke:#000000;\" x=\"202.2302875\" xlink:href=\"#m892ea4c8d5\" y=\"190.4984\"/>\n",
       "     <use style=\"fill:#0000ff;stroke:#000000;\" x=\"86.5568875\" xlink:href=\"#m892ea4c8d5\" y=\"109.5884\"/>\n",
       "     <use style=\"fill:#0000ff;stroke:#000000;\" x=\"226.6706875\" xlink:href=\"#m892ea4c8d5\" y=\"85.8176\"/>\n",
       "     <use style=\"fill:#0000ff;stroke:#000000;\" x=\"150.1688875\" xlink:href=\"#m892ea4c8d5\" y=\"205.0064\"/>\n",
       "     <use style=\"fill:#0000ff;stroke:#000000;\" x=\"83.5436875\" xlink:href=\"#m892ea4c8d5\" y=\"104.3432\"/>\n",
       "     <use style=\"fill:#0000ff;stroke:#000000;\" x=\"148.8296875\" xlink:href=\"#m892ea4c8d5\" y=\"202.1048\"/>\n",
       "     <use style=\"fill:#0000ff;stroke:#000000;\" x=\"245.9216875\" xlink:href=\"#m892ea4c8d5\" y=\"92.402\"/>\n",
       "     <use style=\"fill:#0000ff;stroke:#000000;\" x=\"90.5744875\" xlink:href=\"#m892ea4c8d5\" y=\"95.5268\"/>\n",
       "     <use style=\"fill:#0000ff;stroke:#000000;\" x=\"83.3762875\" xlink:href=\"#m892ea4c8d5\" y=\"99.3212\"/>\n",
       "     <use style=\"fill:#0000ff;stroke:#000000;\" x=\"183.1466875\" xlink:href=\"#m892ea4c8d5\" y=\"213.7112\"/>\n",
       "     <use style=\"fill:#0000ff;stroke:#000000;\" x=\"283.5866875\" xlink:href=\"#m892ea4c8d5\" y=\"100.5488\"/>\n",
       "     <use style=\"fill:#0000ff;stroke:#000000;\" x=\"192.0188875\" xlink:href=\"#m892ea4c8d5\" y=\"216.278\"/>\n",
       "     <use style=\"fill:#0000ff;stroke:#000000;\" x=\"225.8336875\" xlink:href=\"#m892ea4c8d5\" y=\"125.2124\"/>\n",
       "     <use style=\"fill:#0000ff;stroke:#000000;\" x=\"58.6010875\" xlink:href=\"#m892ea4c8d5\" y=\"146.7512\"/>\n",
       "     <use style=\"fill:#0000ff;stroke:#000000;\" x=\"272.7056875\" xlink:href=\"#m892ea4c8d5\" y=\"42.9632\"/>\n",
       "     <use style=\"fill:#0000ff;stroke:#000000;\" x=\"82.0370875\" xlink:href=\"#m892ea4c8d5\" y=\"110.4812\"/>\n",
       "     <use style=\"fill:#0000ff;stroke:#000000;\" x=\"161.8868875\" xlink:href=\"#m892ea4c8d5\" y=\"217.5056\"/>\n",
       "     <use style=\"fill:#0000ff;stroke:#000000;\" x=\"194.5298875\" xlink:href=\"#m892ea4c8d5\" y=\"205.118\"/>\n",
       "     <use style=\"fill:#0000ff;stroke:#000000;\" x=\"94.0898875\" xlink:href=\"#m892ea4c8d5\" y=\"131.7968\"/>\n",
       "     <use style=\"fill:#0000ff;stroke:#000000;\" x=\"203.5694875\" xlink:href=\"#m892ea4c8d5\" y=\"183.6908\"/>\n",
       "     <use style=\"fill:#0000ff;stroke:#000000;\" x=\"299.4896875\" xlink:href=\"#m892ea4c8d5\" y=\"75.4388\"/>\n",
       "     <use style=\"fill:#0000ff;stroke:#000000;\" x=\"94.4246875\" xlink:href=\"#m892ea4c8d5\" y=\"144.1844\"/>\n",
       "     <use style=\"fill:#0000ff;stroke:#000000;\" x=\"255.6308875\" xlink:href=\"#m892ea4c8d5\" y=\"104.5664\"/>\n",
       "     <use style=\"fill:#0000ff;stroke:#000000;\" x=\"178.9616875\" xlink:href=\"#m892ea4c8d5\" y=\"188.378\"/>\n",
       "     <use style=\"fill:#0000ff;stroke:#000000;\" x=\"168.4154875\" xlink:href=\"#m892ea4c8d5\" y=\"196.4132\"/>\n",
       "     <use style=\"fill:#0000ff;stroke:#000000;\" x=\"109.1558875\" xlink:href=\"#m892ea4c8d5\" y=\"125.6588\"/>\n",
       "     <use style=\"fill:#0000ff;stroke:#000000;\" x=\"286.5998875\" xlink:href=\"#m892ea4c8d5\" y=\"67.1804\"/>\n",
       "     <use style=\"fill:#0000ff;stroke:#000000;\" x=\"227.0054875\" xlink:href=\"#m892ea4c8d5\" y=\"84.7016\"/>\n",
       "     <use style=\"fill:#0000ff;stroke:#000000;\" x=\"102.2924875\" xlink:href=\"#m892ea4c8d5\" y=\"99.8792\"/>\n",
       "     <use style=\"fill:#0000ff;stroke:#000000;\" x=\"212.4416875\" xlink:href=\"#m892ea4c8d5\" y=\"205.8992\"/>\n",
       "     <use style=\"fill:#0000ff;stroke:#000000;\" x=\"193.6928875\" xlink:href=\"#m892ea4c8d5\" y=\"212.2604\"/>\n",
       "     <use style=\"fill:#0000ff;stroke:#000000;\" x=\"198.2126875\" xlink:href=\"#m892ea4c8d5\" y=\"107.3564\"/>\n",
       "     <use style=\"fill:#0000ff;stroke:#000000;\" x=\"174.9440875\" xlink:href=\"#m892ea4c8d5\" y=\"206.4572\"/>\n",
       "     <use style=\"fill:#0000ff;stroke:#000000;\" x=\"215.9570875\" xlink:href=\"#m892ea4c8d5\" y=\"73.0952\"/>\n",
       "     <use style=\"fill:#0000ff;stroke:#000000;\" x=\"197.3756875\" xlink:href=\"#m892ea4c8d5\" y=\"221.9696\"/>\n",
       "     <use style=\"fill:#0000ff;stroke:#000000;\" x=\"76.3454875\" xlink:href=\"#m892ea4c8d5\" y=\"113.9408\"/>\n",
       "     <use style=\"fill:#0000ff;stroke:#000000;\" x=\"214.2830875\" xlink:href=\"#m892ea4c8d5\" y=\"204.56\"/>\n",
       "     <use style=\"fill:#0000ff;stroke:#000000;\" x=\"282.9170875\" xlink:href=\"#m892ea4c8d5\" y=\"42.74\"/>\n",
       "     <use style=\"fill:#0000ff;stroke:#000000;\" x=\"110.6624875\" xlink:href=\"#m892ea4c8d5\" y=\"113.8292\"/>\n",
       "     <use style=\"fill:#0000ff;stroke:#000000;\" x=\"238.8908875\" xlink:href=\"#m892ea4c8d5\" y=\"206.4572\"/>\n",
       "     <use style=\"fill:#0000ff;stroke:#000000;\" x=\"90.4070875\" xlink:href=\"#m892ea4c8d5\" y=\"127.3328\"/>\n",
       "     <use style=\"fill:#0000ff;stroke:#000000;\" x=\"288.6086875\" xlink:href=\"#m892ea4c8d5\" y=\"46.646\"/>\n",
       "     <use style=\"fill:#0000ff;stroke:#000000;\" x=\"268.3532875\" xlink:href=\"#m892ea4c8d5\" y=\"73.0952\"/>\n",
       "     <use style=\"fill:#0000ff;stroke:#000000;\" x=\"242.9084875\" xlink:href=\"#m892ea4c8d5\" y=\"91.5092\"/>\n",
       "     <use style=\"fill:#0000ff;stroke:#000000;\" x=\"218.4680875\" xlink:href=\"#m892ea4c8d5\" y=\"113.606\"/>\n",
       "     <use style=\"fill:#0000ff;stroke:#000000;\" x=\"283.9214875\" xlink:href=\"#m892ea4c8d5\" y=\"93.8528\"/>\n",
       "     <use style=\"fill:#0000ff;stroke:#000000;\" x=\"75.0062875\" xlink:href=\"#m892ea4c8d5\" y=\"125.6588\"/>\n",
       "     <use style=\"fill:#0000ff;stroke:#000000;\" x=\"106.3100875\" xlink:href=\"#m892ea4c8d5\" y=\"114.6104\"/>\n",
       "     <use style=\"fill:#0000ff;stroke:#000000;\" x=\"65.6318875\" xlink:href=\"#m892ea4c8d5\" y=\"94.1876\"/>\n",
       "     <use style=\"fill:#0000ff;stroke:#000000;\" x=\"180.3008875\" xlink:href=\"#m892ea4c8d5\" y=\"197.306\"/>\n",
       "     <use style=\"fill:#0000ff;stroke:#000000;\" x=\"80.1956875\" xlink:href=\"#m892ea4c8d5\" y=\"123.092\"/>\n",
       "     <use style=\"fill:#0000ff;stroke:#000000;\" x=\"206.5826875\" xlink:href=\"#m892ea4c8d5\" y=\"207.35\"/>\n",
       "     <use style=\"fill:#0000ff;stroke:#000000;\" x=\"233.3666875\" xlink:href=\"#m892ea4c8d5\" y=\"180.7892\"/>\n",
       "     <use style=\"fill:#0000ff;stroke:#000000;\" x=\"296.9786875\" xlink:href=\"#m892ea4c8d5\" y=\"59.8148\"/>\n",
       "     <use style=\"fill:#0000ff;stroke:#000000;\" x=\"69.4820875\" xlink:href=\"#m892ea4c8d5\" y=\"98.9864\"/>\n",
       "     <use style=\"fill:#0000ff;stroke:#000000;\" x=\"110.3276875\" xlink:href=\"#m892ea4c8d5\" y=\"116.8424\"/>\n",
       "     <use style=\"fill:#0000ff;stroke:#000000;\" x=\"216.9614875\" xlink:href=\"#m892ea4c8d5\" y=\"216.9476\"/>\n",
       "     <use style=\"fill:#0000ff;stroke:#000000;\" x=\"226.5032875\" xlink:href=\"#m892ea4c8d5\" y=\"115.7264\"/>\n",
       "     <use style=\"fill:#0000ff;stroke:#000000;\" x=\"59.7728875\" xlink:href=\"#m892ea4c8d5\" y=\"71.4212\"/>\n",
       "    </g>\n",
       "   </g>\n",
       "   <g id=\"patch_3\">\n",
       "    <path d=\"\n",
       "M23.2797 12.05\n",
       "L358.08 12.05\" style=\"fill:none;stroke:#000000;stroke-linecap:square;stroke-linejoin:miter;\"/>\n",
       "   </g>\n",
       "   <g id=\"patch_4\">\n",
       "    <path d=\"\n",
       "M358.08 235.25\n",
       "L358.08 12.05\" style=\"fill:none;stroke:#000000;stroke-linecap:square;stroke-linejoin:miter;\"/>\n",
       "   </g>\n",
       "   <g id=\"patch_5\">\n",
       "    <path d=\"\n",
       "M23.2797 235.25\n",
       "L358.08 235.25\" style=\"fill:none;stroke:#000000;stroke-linecap:square;stroke-linejoin:miter;\"/>\n",
       "   </g>\n",
       "   <g id=\"patch_6\">\n",
       "    <path d=\"\n",
       "M23.2797 235.25\n",
       "L23.2797 12.05\" style=\"fill:none;stroke:#000000;stroke-linecap:square;stroke-linejoin:miter;\"/>\n",
       "   </g>\n",
       "   <g id=\"matplotlib.axis_1\">\n",
       "    <g id=\"xtick_1\">\n",
       "     <g id=\"line2d_1\">\n",
       "      <defs>\n",
       "       <path d=\"\n",
       "M0 0\n",
       "L0 -4\" id=\"m93b0483c22\" style=\"stroke:#000000;stroke-width:0.5;\"/>\n",
       "      </defs>\n",
       "      <g>\n",
       "       <use style=\"stroke:#000000;stroke-width:0.5;\" x=\"23.2796875\" xlink:href=\"#m93b0483c22\" y=\"235.25\"/>\n",
       "      </g>\n",
       "     </g>\n",
       "     <g id=\"line2d_2\">\n",
       "      <defs>\n",
       "       <path d=\"\n",
       "M0 0\n",
       "L0 4\" id=\"m741efc42ff\" style=\"stroke:#000000;stroke-width:0.5;\"/>\n",
       "      </defs>\n",
       "      <g>\n",
       "       <use style=\"stroke:#000000;stroke-width:0.5;\" x=\"23.2796875\" xlink:href=\"#m741efc42ff\" y=\"12.05\"/>\n",
       "      </g>\n",
       "     </g>\n",
       "     <g id=\"text_1\">\n",
       "      <!-- 0 -->\n",
       "      <defs>\n",
       "       <path d=\"\n",
       "M32.7969 -0.90625\n",
       "C42 -0.90625 49 2.59375 54 9.59375\n",
       "C58.4062 15.7031 61 26.4062 61 38.5\n",
       "C61 46.7969 59.7031 54.7969 57.2031 61.7031\n",
       "C56 65 54 68.0938 51.2031 70.9062\n",
       "C46.7031 75.5938 40.2969 78 32.9062 78\n",
       "C23 78 15.2969 73.7969 10.5 65.7031\n",
       "C7 59.9062 4.70312 49.0938 4.70312 38.5\n",
       "C4.70312 30.2969 6 22.4062 8.5 15.4062\n",
       "C9.70312 12 11.7969 8.90625 14.5 6.20312\n",
       "C19.2031 1.5 25.4062 -0.90625 32.7969 -0.90625\n",
       "M32.7969 71.0938\n",
       "C39.7969 71.0938 45.2031 68 48.5 62\n",
       "C51.0938 57.2969 53 47.4062 53 38.7031\n",
       "C53 31.2969 52 24.7031 49.9062 18.5\n",
       "C49 15.5938 47.4062 13 45.2031 10.7031\n",
       "C42.2031 7.59375 37.9062 6 32.9062 6\n",
       "C26.0938 6 20.9062 8.90625 17.4062 14.7031\n",
       "C14.7031 19.4062 12.7031 29.2031 12.7031 38.5\n",
       "C12.7031 45.7969 13.7031 52.5938 15.7969 58.7031\n",
       "C16.5938 61.2031 18.2031 63.7031 20.2969 66\n",
       "C23.5 69.4062 27.5938 71.0938 32.7969 71.0938\" id=\"HiraKakuProN-W3-30\"/>\n",
       "      </defs>\n",
       "      <g transform=\"translate(20.46484375 246.909375)scale(0.1 -0.1)\">\n",
       "       <use xlink:href=\"#HiraKakuProN-W3-30\"/>\n",
       "      </g>\n",
       "     </g>\n",
       "    </g>\n",
       "    <g id=\"xtick_2\">\n",
       "     <g id=\"line2d_3\">\n",
       "      <g>\n",
       "       <use style=\"stroke:#000000;stroke-width:0.5;\" x=\"106.9796875\" xlink:href=\"#m93b0483c22\" y=\"235.25\"/>\n",
       "      </g>\n",
       "     </g>\n",
       "     <g id=\"line2d_4\">\n",
       "      <g>\n",
       "       <use style=\"stroke:#000000;stroke-width:0.5;\" x=\"106.9796875\" xlink:href=\"#m741efc42ff\" y=\"12.05\"/>\n",
       "      </g>\n",
       "     </g>\n",
       "     <g id=\"text_2\">\n",
       "      <!-- 5 -->\n",
       "      <defs>\n",
       "       <path d=\"\n",
       "M19.7031 69.7031\n",
       "L43.2031 69.7031\n",
       "C47.9062 69.7031 51.0938 69.5 54.9062 68.9062\n",
       "L54.9062 77.4062\n",
       "C50.9062 76.7969 48.5938 76.5938 43.2031 76.5938\n",
       "L22.5938 76.5938\n",
       "C16.7031 76.5938 15.0938 76.7031 12 77.0938\n",
       "C12.2031 74.5938 12.2031 74.2031 12.2031 72.7969\n",
       "C12.2031 70.9062 12.0938 69.7031 11.9062 66.7969\n",
       "L9.70312 44.2031\n",
       "C9.29688 39.9062 9 37.7969 8.20312 33.9062\n",
       "L15.7031 33.2031\n",
       "C16.7969 35.9062 17.9062 37.2969 20.2969 39.2031\n",
       "C23.9062 42 28.2969 43.4062 33.4062 43.4062\n",
       "C44 43.4062 50.9062 36.2031 50.9062 25.2031\n",
       "C50.9062 13.7031 43.4062 6.09375 32.2031 6.09375\n",
       "C26.4062 6.09375 21.4062 8.20312 18 12\n",
       "C16.5 13.7031 15.7969 15 14.7969 17.7969\n",
       "L6.59375 15.4062\n",
       "C9 10.5938 10.4062 8.5 12.9062 6\n",
       "C17.7031 1.5 24.2031 -0.796875 32 -0.796875\n",
       "C48.5 -0.796875 59 9.5 59 25.5938\n",
       "C59 33 56.7969 38.9062 52.2969 43.2031\n",
       "C47.7969 47.5938 41.5938 50 34.2969 50\n",
       "C27.4062 50 21.5938 47.7031 16.7969 43.0938\n",
       "C17.4062 45.7969 17.4062 45.7969 17.5938 47.5938\n",
       "z\n",
       "\" id=\"HiraKakuProN-W3-35\"/>\n",
       "      </defs>\n",
       "      <g transform=\"translate(104.359375 246.909375)scale(0.1 -0.1)\">\n",
       "       <use xlink:href=\"#HiraKakuProN-W3-35\"/>\n",
       "      </g>\n",
       "     </g>\n",
       "    </g>\n",
       "    <g id=\"xtick_3\">\n",
       "     <g id=\"line2d_5\">\n",
       "      <g>\n",
       "       <use style=\"stroke:#000000;stroke-width:0.5;\" x=\"190.6796875\" xlink:href=\"#m93b0483c22\" y=\"235.25\"/>\n",
       "      </g>\n",
       "     </g>\n",
       "     <g id=\"line2d_6\">\n",
       "      <g>\n",
       "       <use style=\"stroke:#000000;stroke-width:0.5;\" x=\"190.6796875\" xlink:href=\"#m741efc42ff\" y=\"12.05\"/>\n",
       "      </g>\n",
       "     </g>\n",
       "     <g id=\"text_3\">\n",
       "      <!-- 10 -->\n",
       "      <defs>\n",
       "       <path d=\"\n",
       "M16.0938 69.2031\n",
       "C19 69.5938 21.5938 69.7969 24.7969 69.7969\n",
       "L30.2031 69.7969\n",
       "L30.2031 11.9062\n",
       "C30.2031 7.29688 30 4.09375 29.4062 0.59375\n",
       "L38.9062 0.59375\n",
       "C38.2969 4.29688 38.0938 7.20312 38.0938 11.9062\n",
       "L38.0938 60.5\n",
       "C38.0938 65.9062 38.4062 71 39 77.0938\n",
       "C35.7031 76.7031 34.0938 76.5938 30.7031 76.5938\n",
       "L24.4062 76.5938\n",
       "C20.5938 76.5938 18.7031 76.7031 16.0938 77.0938\n",
       "z\n",
       "\" id=\"HiraKakuProN-W3-31\"/>\n",
       "      </defs>\n",
       "      <g transform=\"translate(185.14921875 246.909375)scale(0.1 -0.1)\">\n",
       "       <use xlink:href=\"#HiraKakuProN-W3-31\"/>\n",
       "       <use x=\"65.6999969482\" xlink:href=\"#HiraKakuProN-W3-30\"/>\n",
       "      </g>\n",
       "     </g>\n",
       "    </g>\n",
       "    <g id=\"xtick_4\">\n",
       "     <g id=\"line2d_7\">\n",
       "      <g>\n",
       "       <use style=\"stroke:#000000;stroke-width:0.5;\" x=\"274.3796875\" xlink:href=\"#m93b0483c22\" y=\"235.25\"/>\n",
       "      </g>\n",
       "     </g>\n",
       "     <g id=\"line2d_8\">\n",
       "      <g>\n",
       "       <use style=\"stroke:#000000;stroke-width:0.5;\" x=\"274.3796875\" xlink:href=\"#m741efc42ff\" y=\"12.05\"/>\n",
       "      </g>\n",
       "     </g>\n",
       "     <g id=\"text_4\">\n",
       "      <!-- 15 -->\n",
       "      <g transform=\"translate(268.94921875 246.909375)scale(0.1 -0.1)\">\n",
       "       <use xlink:href=\"#HiraKakuProN-W3-31\"/>\n",
       "       <use x=\"65.6999969482\" xlink:href=\"#HiraKakuProN-W3-35\"/>\n",
       "      </g>\n",
       "     </g>\n",
       "    </g>\n",
       "    <g id=\"xtick_5\">\n",
       "     <g id=\"line2d_9\">\n",
       "      <g>\n",
       "       <use style=\"stroke:#000000;stroke-width:0.5;\" x=\"358.0796875\" xlink:href=\"#m93b0483c22\" y=\"235.25\"/>\n",
       "      </g>\n",
       "     </g>\n",
       "     <g id=\"line2d_10\">\n",
       "      <g>\n",
       "       <use style=\"stroke:#000000;stroke-width:0.5;\" x=\"358.0796875\" xlink:href=\"#m741efc42ff\" y=\"12.05\"/>\n",
       "      </g>\n",
       "     </g>\n",
       "     <g id=\"text_5\">\n",
       "      <!-- 20 -->\n",
       "      <defs>\n",
       "       <path d=\"\n",
       "M47.2969 0.59375\n",
       "C52.2969 0.59375 55.5938 0.40625 59.5938 0\n",
       "L59.5938 8.40625\n",
       "C55.7969 7.90625 52.4062 7.70312 47.4062 7.70312\n",
       "L15.5 7.70312\n",
       "C16.7031 12.5 18.0938 15.2031 21.2031 19.2969\n",
       "C24.5 23.5 27.7031 26.2969 35.5938 31.5938\n",
       "C47 39.2031 49.5938 41.0938 52.5938 44.5\n",
       "C56.5 48.7969 58.5 53.5938 58.5 58.7031\n",
       "C58.5 70.5 48.7969 78.0938 33.7031 78.0938\n",
       "C24.9062 78.0938 18.0938 75.5 13.5938 70.4062\n",
       "C10.2969 66.7031 8.79688 63.2031 7.29688 56\n",
       "L15.7031 54.5938\n",
       "C16.4062 59.5938 17.2969 62 19.2031 64.7031\n",
       "C22.2031 69 27.0938 71.2031 33.7031 71.2031\n",
       "C43.9062 71.2031 50.2969 66.2969 50.2969 58.7031\n",
       "C50.2969 52.5938 47 48.2031 37.0938 41.5\n",
       "C25.5 33.5938 25.2969 33.5 21.7969 30.5\n",
       "C15.5 25.0938 11.2969 19.5938 8.79688 13.2969\n",
       "C7.29688 9.5 7 8 5.90625 0.09375\n",
       "C9.09375 0.5 10.5938 0.59375 16.9062 0.59375\n",
       "z\n",
       "\" id=\"HiraKakuProN-W3-32\"/>\n",
       "      </defs>\n",
       "      <g transform=\"translate(352.03984375 246.909375)scale(0.1 -0.1)\">\n",
       "       <use xlink:href=\"#HiraKakuProN-W3-32\"/>\n",
       "       <use x=\"65.6999969482\" xlink:href=\"#HiraKakuProN-W3-30\"/>\n",
       "      </g>\n",
       "     </g>\n",
       "    </g>\n",
       "   </g>\n",
       "   <g id=\"matplotlib.axis_2\">\n",
       "    <g id=\"ytick_1\">\n",
       "     <g id=\"line2d_11\">\n",
       "      <defs>\n",
       "       <path d=\"\n",
       "M0 0\n",
       "L4 0\" id=\"m728421d6d4\" style=\"stroke:#000000;stroke-width:0.5;\"/>\n",
       "      </defs>\n",
       "      <g>\n",
       "       <use style=\"stroke:#000000;stroke-width:0.5;\" x=\"23.2796875\" xlink:href=\"#m728421d6d4\" y=\"235.25\"/>\n",
       "      </g>\n",
       "     </g>\n",
       "     <g id=\"line2d_12\">\n",
       "      <defs>\n",
       "       <path d=\"\n",
       "M0 0\n",
       "L-4 0\" id=\"mcb0005524f\" style=\"stroke:#000000;stroke-width:0.5;\"/>\n",
       "      </defs>\n",
       "      <g>\n",
       "       <use style=\"stroke:#000000;stroke-width:0.5;\" x=\"358.0796875\" xlink:href=\"#mcb0005524f\" y=\"235.25\"/>\n",
       "      </g>\n",
       "     </g>\n",
       "     <g id=\"text_6\">\n",
       "      <!-- 0 -->\n",
       "      <g transform=\"translate(13.65 238.059375)scale(0.1 -0.1)\">\n",
       "       <use xlink:href=\"#HiraKakuProN-W3-30\"/>\n",
       "      </g>\n",
       "     </g>\n",
       "    </g>\n",
       "    <g id=\"ytick_2\">\n",
       "     <g id=\"line2d_13\">\n",
       "      <g>\n",
       "       <use style=\"stroke:#000000;stroke-width:0.5;\" x=\"23.2796875\" xlink:href=\"#m728421d6d4\" y=\"179.45\"/>\n",
       "      </g>\n",
       "     </g>\n",
       "     <g id=\"line2d_14\">\n",
       "      <g>\n",
       "       <use style=\"stroke:#000000;stroke-width:0.5;\" x=\"358.0796875\" xlink:href=\"#mcb0005524f\" y=\"179.45\"/>\n",
       "      </g>\n",
       "     </g>\n",
       "     <g id=\"text_7\">\n",
       "      <!-- 5 -->\n",
       "      <g transform=\"translate(14.0390625 182.259375)scale(0.1 -0.1)\">\n",
       "       <use xlink:href=\"#HiraKakuProN-W3-35\"/>\n",
       "      </g>\n",
       "     </g>\n",
       "    </g>\n",
       "    <g id=\"ytick_3\">\n",
       "     <g id=\"line2d_15\">\n",
       "      <g>\n",
       "       <use style=\"stroke:#000000;stroke-width:0.5;\" x=\"23.2796875\" xlink:href=\"#m728421d6d4\" y=\"123.65\"/>\n",
       "      </g>\n",
       "     </g>\n",
       "     <g id=\"line2d_16\">\n",
       "      <g>\n",
       "       <use style=\"stroke:#000000;stroke-width:0.5;\" x=\"358.0796875\" xlink:href=\"#mcb0005524f\" y=\"123.65\"/>\n",
       "      </g>\n",
       "     </g>\n",
       "     <g id=\"text_8\">\n",
       "      <!-- 10 -->\n",
       "      <g transform=\"translate(8.21875 126.459375)scale(0.1 -0.1)\">\n",
       "       <use xlink:href=\"#HiraKakuProN-W3-31\"/>\n",
       "       <use x=\"65.6999969482\" xlink:href=\"#HiraKakuProN-W3-30\"/>\n",
       "      </g>\n",
       "     </g>\n",
       "    </g>\n",
       "    <g id=\"ytick_4\">\n",
       "     <g id=\"line2d_17\">\n",
       "      <g>\n",
       "       <use style=\"stroke:#000000;stroke-width:0.5;\" x=\"23.2796875\" xlink:href=\"#m728421d6d4\" y=\"67.85\"/>\n",
       "      </g>\n",
       "     </g>\n",
       "     <g id=\"line2d_18\">\n",
       "      <g>\n",
       "       <use style=\"stroke:#000000;stroke-width:0.5;\" x=\"358.0796875\" xlink:href=\"#mcb0005524f\" y=\"67.85\"/>\n",
       "      </g>\n",
       "     </g>\n",
       "     <g id=\"text_9\">\n",
       "      <!-- 15 -->\n",
       "      <g transform=\"translate(8.41875 70.659375)scale(0.1 -0.1)\">\n",
       "       <use xlink:href=\"#HiraKakuProN-W3-31\"/>\n",
       "       <use x=\"65.6999969482\" xlink:href=\"#HiraKakuProN-W3-35\"/>\n",
       "      </g>\n",
       "     </g>\n",
       "    </g>\n",
       "    <g id=\"ytick_5\">\n",
       "     <g id=\"line2d_19\">\n",
       "      <g>\n",
       "       <use style=\"stroke:#000000;stroke-width:0.5;\" x=\"23.2796875\" xlink:href=\"#m728421d6d4\" y=\"12.05\"/>\n",
       "      </g>\n",
       "     </g>\n",
       "     <g id=\"line2d_20\">\n",
       "      <g>\n",
       "       <use style=\"stroke:#000000;stroke-width:0.5;\" x=\"358.0796875\" xlink:href=\"#mcb0005524f\" y=\"12.05\"/>\n",
       "      </g>\n",
       "     </g>\n",
       "     <g id=\"text_10\">\n",
       "      <!-- 20 -->\n",
       "      <g transform=\"translate(7.2 14.859375)scale(0.1 -0.1)\">\n",
       "       <use xlink:href=\"#HiraKakuProN-W3-32\"/>\n",
       "       <use x=\"65.6999969482\" xlink:href=\"#HiraKakuProN-W3-30\"/>\n",
       "      </g>\n",
       "     </g>\n",
       "    </g>\n",
       "   </g>\n",
       "  </g>\n",
       " </g>\n",
       " <defs>\n",
       "  <clipPath id=\"p5aaa0ce1e1\">\n",
       "   <rect height=\"223.2\" width=\"334.8\" x=\"23.2796875\" y=\"12.05\"/>\n",
       "  </clipPath>\n",
       " </defs>\n",
       "</svg>\n"
      ],
      "text/plain": [
       "<matplotlib.figure.Figure at 0x10a0de490>"
      ]
     },
     "metadata": {},
     "output_type": "display_data"
    }
   ],
   "source": [
    "# import matplotlib.pyplot as plt\n",
    "plt.scatter(data[:,0], data[:,1])"
   ]
  },
  {
   "cell_type": "markdown",
   "metadata": {
    "slideshow": {
     "slide_type": "fragment"
    }
   },
   "source": [
    "↑だいたい3つくらいのかたまり（クラスタ）がありそうだ。  \n",
    "⇒ K=3！"
   ]
  },
  {
   "cell_type": "markdown",
   "metadata": {
    "slideshow": {
     "slide_type": "slide"
    }
   },
   "source": [
    "## 2. K個 の「クラスタ重心 (centroids)」を乱択する。"
   ]
  },
  {
   "cell_type": "markdown",
   "metadata": {
    "slideshow": {
     "slide_type": "fragment"
    }
   },
   "source": [
    "いくつか方法はありますが、一般的には、実データから（重複しないように）K個の点を乱択することが多い。"
   ]
  },
  {
   "cell_type": "markdown",
   "metadata": {
    "slideshow": {
     "slide_type": "subslide"
    }
   },
   "source": [
    "仮想コード（正しく動くように実装してください）："
   ]
  },
  {
   "cell_type": "code",
   "execution_count": null,
   "metadata": {
    "collapsed": true
   },
   "outputs": [],
   "source": [
    "def init_centroids(X, K):\n",
    "    centroids = [] # ← numpy.ndarray でもOK\n",
    "    # X から K個 のデータをランダムに選択する処理を適切に実装してください。\n",
    "    # ヒント：Python 標準の random モジュールを利用するか、numpy.random モジュールを利用します。\n",
    "    return centroids\n"
   ]
  },
  {
   "cell_type": "markdown",
   "metadata": {
    "slideshow": {
     "slide_type": "slide"
    }
   },
   "source": [
    "## 3. ループ"
   ]
  },
  {
   "cell_type": "markdown",
   "metadata": {
    "slideshow": {
     "slide_type": "subslide"
    }
   },
   "source": [
    "### 3-A. クラスタ割り付けステップ"
   ]
  },
  {
   "cell_type": "markdown",
   "metadata": {},
   "source": [
    "先ほどの説明の通り：\n",
    "\n",
    "「用意された K個 の『クラスタ重心 (centorids)』のうち、どれに一番『近いか』で判定」\n",
    "\n",
    "「近さ（＝**距離**）」は、2乗距離（ユークリッド距離の2乗）で判定すればOK。\n",
    "\n",
    "例：`x = np.array([12.94, 3.62])`, `c = np.array([11.11, 13.27])` なら、 `(12.94 - 11.11) ** 2 + (3.62 - 13.27) ** 2` を計算する。"
   ]
  },
  {
   "cell_type": "markdown",
   "metadata": {
    "slideshow": {
     "slide_type": "subslide"
    }
   },
   "source": [
    "仮想コード（正しく動くように実装してください）："
   ]
  },
  {
   "cell_type": "code",
   "execution_count": null,
   "metadata": {
    "collapsed": true
   },
   "outputs": [],
   "source": [
    "def find_closest_centroids(X, centroids):\n",
    "    K = len(centroids)\n",
    "    idxs = [] # ← numpy.ndarray でもOK、適当な値で初期化するのもOK\n",
    "    for i, x in enumerate(X):\n",
    "        pass\n",
    "        # ここを適切に実装してください。\n",
    "        # 方針：X の点 x が centroids のどれに『近いか』を判定し、idxs[i] にそのインデックスを格納する。\n",
    "        # 計算方法は先述の例を参照。\n",
    "    \n",
    "    return idxs\n"
   ]
  },
  {
   "cell_type": "markdown",
   "metadata": {
    "slideshow": {
     "slide_type": "subslide"
    }
   },
   "source": [
    "### 3-B. 重心移動ステップ"
   ]
  },
  {
   "cell_type": "markdown",
   "metadata": {},
   "source": [
    "先ほどの説明の通り：\n",
    "\n",
    "+ 各クラスタに属する点の集合から、その重心を算出する。\n",
    "+ 計算した重心を新しい「クラスタ重心 (centroids)」とする（置き換える）。"
   ]
  },
  {
   "cell_type": "markdown",
   "metadata": {
    "slideshow": {
     "slide_type": "subslide"
    }
   },
   "source": [
    "仮想コード（正しく動くように実装してください）："
   ]
  },
  {
   "cell_type": "code",
   "execution_count": null,
   "metadata": {
    "collapsed": true
   },
   "outputs": [],
   "source": [
    "def compute_centroids(X, idxs, K):\n",
    "    m, n = \"X の行数（＝データ数）\", \"X の列数（＝次元数、今回の場合 2）\" # 適切に実装してください。\n",
    "    centroids = [] # ← numpy.ndarray でもOK\n",
    "    # ここを適切に実装してください。\n",
    "    # ヒント1：numpy.ndarray を使用している場合、m, n の取得は `np.shape` 関数が利用できます。\n",
    "    # ヒント2：インデックス（0〜K-1）ごとにデータを抽出して、平均を取ればOK。\n",
    "\n",
    "    return centroids\n"
   ]
  },
  {
   "cell_type": "markdown",
   "metadata": {
    "slideshow": {
     "slide_type": "subslide"
    }
   },
   "source": [
    "### 3-C. ループ実施"
   ]
  },
  {
   "cell_type": "markdown",
   "metadata": {
    "slideshow": {
     "slide_type": "subslide"
    }
   },
   "source": [
    "コード例（最初の行の `m, n` だけ実装すれば、他は今までの関数が正しく実装されていればこのままでも動きます）："
   ]
  },
  {
   "cell_type": "code",
   "execution_count": null,
   "metadata": {
    "collapsed": true
   },
   "outputs": [],
   "source": [
    "def run_kmeans(X, initial_centroids, max_iters=10):\n",
    "    m, n = \"X の行数（＝データ数）\", \"X の列数（＝次元数、今回の場合 2）\" # 適切に実装してください。\n",
    "    K = len(initial_centroids)\n",
    "    centroids = initial_centroids\n",
    "    prev_centroids = centroids\n",
    "    idxs = []\n",
    "\n",
    "    for _ in range(max_iters):\n",
    "        idxs = find_closest_centroids(X, centroids)\n",
    "        centroids = compute_centroids(X, idxs, K)\n",
    "        # これだけでもOKですが、必要に応じて、ここに「終了条件」を入れてもOK。\n",
    "\n",
    "        prev_centroids = centroids\n",
    "\n",
    "    return centroids, idxs\n"
   ]
  },
  {
   "cell_type": "markdown",
   "metadata": {
    "slideshow": {
     "slide_type": "subslide"
    }
   },
   "source": [
    "#### 補足：「終了条件」について"
   ]
  },
  {
   "cell_type": "markdown",
   "metadata": {},
   "source": [
    "1. `prev_centroids` と `centroids` が一致した場合  \n",
    "… クラスタ分割が完全に安定した（＝移動が1つもない）ので、これ以上ループする必要は無い⇒終了してOK。  \n",
    "　（データ数が十分に少ないときは、この方法を使用してもOK）\n",
    "2. `prev_centroids` と `centroids` の差が十分に小さい場合  \n",
    "… クラスタ分割がある程度安定してきた（＝移動がほとんどない）⇒終了。  \n",
    "　（データ数がある程度多くてもOK、閾値を適切に設定する必要あり）"
   ]
  },
  {
   "cell_type": "markdown",
   "metadata": {
    "slideshow": {
     "slide_type": "subslide"
    }
   },
   "source": [
    "### 4. 結果表示"
   ]
  },
  {
   "cell_type": "markdown",
   "metadata": {
    "slideshow": {
     "slide_type": "subslide"
    }
   },
   "source": [
    "#### 4-1. matplotlib で結果プロット例1（numpy 利用）"
   ]
  },
  {
   "cell_type": "code",
   "execution_count": 5,
   "metadata": {
    "collapsed": true
   },
   "outputs": [],
   "source": [
    "def disp_result(X, idxs):\n",
    "    a_idxs = np.array(idxs)\n",
    "    data_0 = X[a_idxs == 0, :]\n",
    "    data_1 = X[a_idxs == 1, :]\n",
    "    data_2 = X[a_idxs == 2, :]\n",
    "    \n",
    "    plt.plot(data_0[:,0], data_0[:,1], \"c.\")\n",
    "    plt.plot(data_1[:,0], data_1[:,1], \"m.\")\n",
    "    plt.plot(data_2[:,0], data_2[:,1], \"y.\")\n",
    "    return plt.show()\n"
   ]
  },
  {
   "cell_type": "markdown",
   "metadata": {
    "slideshow": {
     "slide_type": "subslide"
    }
   },
   "source": [
    "※ 表示例："
   ]
  },
  {
   "cell_type": "code",
   "execution_count": 6,
   "metadata": {
    "collapsed": true,
    "slideshow": {
     "slide_type": "skip"
    }
   },
   "outputs": [],
   "source": [
    "sample_idxs = [0,1,2,0,0,1,0,0,1,2,1,2,1,1,0,0,2,0,1,2,0,0,2,1,2,1,1,1,2,2,1,2,2,0,0,0,0,0,1,2,0,1,0,2,1,1,0,2,0,2,1,2,1,0,0,1,0,2,1,2,0,0,1,2,2,1,0,0,2,0,2,0,1,0,2,1,0,1,2,2,2,2,2,1,1,1,0,1,0,0,2,1,1,0,2,1]"
   ]
  },
  {
   "cell_type": "code",
   "execution_count": 7,
   "metadata": {
    "collapsed": false
   },
   "outputs": [
    {
     "data": {
      "image/svg+xml": [
       "<?xml version=\"1.0\" encoding=\"utf-8\" standalone=\"no\"?>\n",
       "<!DOCTYPE svg PUBLIC \"-//W3C//DTD SVG 1.1//EN\"\n",
       "  \"http://www.w3.org/Graphics/SVG/1.1/DTD/svg11.dtd\">\n",
       "<!-- Created with matplotlib (http://matplotlib.org/) -->\n",
       "<svg height=\"256pt\" version=\"1.1\" viewBox=\"0 0 370 256\" width=\"370pt\" xmlns=\"http://www.w3.org/2000/svg\" xmlns:xlink=\"http://www.w3.org/1999/xlink\">\n",
       " <defs>\n",
       "  <style type=\"text/css\">\n",
       "*{stroke-linecap:butt;stroke-linejoin:round;}\n",
       "  </style>\n",
       " </defs>\n",
       " <g id=\"figure_1\">\n",
       "  <g id=\"patch_1\">\n",
       "   <path d=\"\n",
       "M0 256.15\n",
       "L370.551 256.15\n",
       "L370.551 0\n",
       "L0 0\n",
       "L0 256.15\" style=\"fill:none;\"/>\n",
       "  </g>\n",
       "  <g id=\"axes_1\">\n",
       "   <g id=\"patch_2\">\n",
       "    <path d=\"\n",
       "M22.5109 235.25\n",
       "L357.311 235.25\n",
       "L357.311 12.05\n",
       "L22.5109 12.05\n",
       "z\n",
       "\" style=\"fill:#ffffff;\"/>\n",
       "   </g>\n",
       "   <g id=\"line2d_1\">\n",
       "    <defs>\n",
       "     <path d=\"\n",
       "M0 1.5\n",
       "C0.397805 1.5 0.77937 1.34195 1.06066 1.06066\n",
       "C1.34195 0.77937 1.5 0.397805 1.5 0\n",
       "C1.5 -0.397805 1.34195 -0.77937 1.06066 -1.06066\n",
       "C0.77937 -1.34195 0.397805 -1.5 0 -1.5\n",
       "C-0.397805 -1.5 -0.77937 -1.34195 -1.06066 -1.06066\n",
       "C-1.34195 -0.77937 -1.5 -0.397805 -1.5 0\n",
       "C-1.5 0.397805 -1.34195 0.77937 -1.06066 1.06066\n",
       "C-0.77937 1.34195 -0.397805 1.5 0 1.5\n",
       "z\n",
       "\" id=\"m977c291b42\" style=\"stroke:#00bfbf;stroke-width:0.5;\"/>\n",
       "    </defs>\n",
       "    <g clip-path=\"url(#p27e44c14a9)\">\n",
       "     <use style=\"fill:#00bfbf;stroke:#00bfbf;stroke-width:0.5;\" x=\"239.1265375\" xlink:href=\"#m977c291b42\" y=\"190.362\"/>\n",
       "     <use style=\"fill:#00bfbf;stroke:#00bfbf;stroke-width:0.5;\" x=\"131.8231375\" xlink:href=\"#m977c291b42\" y=\"190.362\"/>\n",
       "     <use style=\"fill:#00bfbf;stroke:#00bfbf;stroke-width:0.5;\" x=\"194.0959375\" xlink:href=\"#m977c291b42\" y=\"197.802\"/>\n",
       "     <use style=\"fill:#00bfbf;stroke:#00bfbf;stroke-width:0.5;\" x=\"156.0961375\" xlink:href=\"#m977c291b42\" y=\"189.866\"/>\n",
       "     <use style=\"fill:#00bfbf;stroke:#00bfbf;stroke-width:0.5;\" x=\"204.4747375\" xlink:href=\"#m977c291b42\" y=\"179.822\"/>\n",
       "     <use style=\"fill:#00bfbf;stroke:#00bfbf;stroke-width:0.5;\" x=\"227.7433375\" xlink:href=\"#m977c291b42\" y=\"219.502\"/>\n",
       "     <use style=\"fill:#00bfbf;stroke:#00bfbf;stroke-width:0.5;\" x=\"171.4969375\" xlink:href=\"#m977c291b42\" y=\"193.958\"/>\n",
       "     <use style=\"fill:#00bfbf;stroke:#00bfbf;stroke-width:0.5;\" x=\"207.6553375\" xlink:href=\"#m977c291b42\" y=\"206.358\"/>\n",
       "     <use style=\"fill:#00bfbf;stroke:#00bfbf;stroke-width:0.5;\" x=\"183.2149375\" xlink:href=\"#m977c291b42\" y=\"186.766\"/>\n",
       "     <use style=\"fill:#00bfbf;stroke:#00bfbf;stroke-width:0.5;\" x=\"219.0385375\" xlink:href=\"#m977c291b42\" y=\"193.958\"/>\n",
       "     <use style=\"fill:#00bfbf;stroke:#00bfbf;stroke-width:0.5;\" x=\"205.4791375\" xlink:href=\"#m977c291b42\" y=\"220.494\"/>\n",
       "     <use style=\"fill:#00bfbf;stroke:#00bfbf;stroke-width:0.5;\" x=\"156.4309375\" xlink:href=\"#m977c291b42\" y=\"202.266\"/>\n",
       "     <use style=\"fill:#00bfbf;stroke:#00bfbf;stroke-width:0.5;\" x=\"205.4791375\" xlink:href=\"#m977c291b42\" y=\"211.566\"/>\n",
       "     <use style=\"fill:#00bfbf;stroke:#00bfbf;stroke-width:0.5;\" x=\"175.0123375\" xlink:href=\"#m977c291b42\" y=\"181.806\"/>\n",
       "     <use style=\"fill:#00bfbf;stroke:#00bfbf;stroke-width:0.5;\" x=\"201.4615375\" xlink:href=\"#m977c291b42\" y=\"185.526\"/>\n",
       "     <use style=\"fill:#00bfbf;stroke:#00bfbf;stroke-width:0.5;\" x=\"149.4001375\" xlink:href=\"#m977c291b42\" y=\"201.646\"/>\n",
       "     <use style=\"fill:#00bfbf;stroke:#00bfbf;stroke-width:0.5;\" x=\"148.0609375\" xlink:href=\"#m977c291b42\" y=\"198.422\"/>\n",
       "     <use style=\"fill:#00bfbf;stroke:#00bfbf;stroke-width:0.5;\" x=\"182.3779375\" xlink:href=\"#m977c291b42\" y=\"211.318\"/>\n",
       "     <use style=\"fill:#00bfbf;stroke:#00bfbf;stroke-width:0.5;\" x=\"191.2501375\" xlink:href=\"#m977c291b42\" y=\"214.17\"/>\n",
       "     <use style=\"fill:#00bfbf;stroke:#00bfbf;stroke-width:0.5;\" x=\"161.1181375\" xlink:href=\"#m977c291b42\" y=\"215.534\"/>\n",
       "     <use style=\"fill:#00bfbf;stroke:#00bfbf;stroke-width:0.5;\" x=\"193.7611375\" xlink:href=\"#m977c291b42\" y=\"201.77\"/>\n",
       "     <use style=\"fill:#00bfbf;stroke:#00bfbf;stroke-width:0.5;\" x=\"202.8007375\" xlink:href=\"#m977c291b42\" y=\"177.962\"/>\n",
       "     <use style=\"fill:#00bfbf;stroke:#00bfbf;stroke-width:0.5;\" x=\"178.1929375\" xlink:href=\"#m977c291b42\" y=\"183.17\"/>\n",
       "     <use style=\"fill:#00bfbf;stroke:#00bfbf;stroke-width:0.5;\" x=\"167.6467375\" xlink:href=\"#m977c291b42\" y=\"192.098\"/>\n",
       "     <use style=\"fill:#00bfbf;stroke:#00bfbf;stroke-width:0.5;\" x=\"211.6729375\" xlink:href=\"#m977c291b42\" y=\"202.638\"/>\n",
       "     <use style=\"fill:#00bfbf;stroke:#00bfbf;stroke-width:0.5;\" x=\"192.9241375\" xlink:href=\"#m977c291b42\" y=\"209.706\"/>\n",
       "     <use style=\"fill:#00bfbf;stroke:#00bfbf;stroke-width:0.5;\" x=\"174.1753375\" xlink:href=\"#m977c291b42\" y=\"203.258\"/>\n",
       "     <use style=\"fill:#00bfbf;stroke:#00bfbf;stroke-width:0.5;\" x=\"196.6069375\" xlink:href=\"#m977c291b42\" y=\"220.494\"/>\n",
       "     <use style=\"fill:#00bfbf;stroke:#00bfbf;stroke-width:0.5;\" x=\"213.5143375\" xlink:href=\"#m977c291b42\" y=\"201.15\"/>\n",
       "     <use style=\"fill:#00bfbf;stroke:#00bfbf;stroke-width:0.5;\" x=\"238.1221375\" xlink:href=\"#m977c291b42\" y=\"203.258\"/>\n",
       "     <use style=\"fill:#00bfbf;stroke:#00bfbf;stroke-width:0.5;\" x=\"179.5321375\" xlink:href=\"#m977c291b42\" y=\"193.09\"/>\n",
       "     <use style=\"fill:#00bfbf;stroke:#00bfbf;stroke-width:0.5;\" x=\"205.8139375\" xlink:href=\"#m977c291b42\" y=\"204.25\"/>\n",
       "     <use style=\"fill:#00bfbf;stroke:#00bfbf;stroke-width:0.5;\" x=\"232.5979375\" xlink:href=\"#m977c291b42\" y=\"174.738\"/>\n",
       "     <use style=\"fill:#00bfbf;stroke:#00bfbf;stroke-width:0.5;\" x=\"216.1927375\" xlink:href=\"#m977c291b42\" y=\"214.914\"/>\n",
       "    </g>\n",
       "   </g>\n",
       "   <g id=\"line2d_2\">\n",
       "    <defs>\n",
       "     <path d=\"\n",
       "M0 1.5\n",
       "C0.397805 1.5 0.77937 1.34195 1.06066 1.06066\n",
       "C1.34195 0.77937 1.5 0.397805 1.5 0\n",
       "C1.5 -0.397805 1.34195 -0.77937 1.06066 -1.06066\n",
       "C0.77937 -1.34195 0.397805 -1.5 0 -1.5\n",
       "C-0.397805 -1.5 -0.77937 -1.34195 -1.06066 -1.06066\n",
       "C-1.34195 -0.77937 -1.5 -0.397805 -1.5 0\n",
       "C-1.5 0.397805 -1.34195 0.77937 -1.06066 1.06066\n",
       "C-0.77937 1.34195 -0.397805 1.5 0 1.5\n",
       "z\n",
       "\" id=\"m56b4842580\" style=\"stroke:#bf00bf;stroke-width:0.5;\"/>\n",
       "    </defs>\n",
       "    <g clip-path=\"url(#p27e44c14a9)\">\n",
       "     <use style=\"fill:#bf00bf;stroke:#bf00bf;stroke-width:0.5;\" x=\"96.3343375\" xlink:href=\"#m56b4842580\" y=\"129.106\"/>\n",
       "     <use style=\"fill:#bf00bf;stroke:#bf00bf;stroke-width:0.5;\" x=\"102.0259375\" xlink:href=\"#m56b4842580\" y=\"70.95\"/>\n",
       "     <use style=\"fill:#bf00bf;stroke:#bf00bf;stroke-width:0.5;\" x=\"60.6781375\" xlink:href=\"#m56b4842580\" y=\"91.162\"/>\n",
       "     <use style=\"fill:#bf00bf;stroke:#bf00bf;stroke-width:0.5;\" x=\"67.0393375\" xlink:href=\"#m56b4842580\" y=\"60.286\"/>\n",
       "     <use style=\"fill:#bf00bf;stroke:#bf00bf;stroke-width:0.5;\" x=\"128.3077375\" xlink:href=\"#m56b4842580\" y=\"99.594\"/>\n",
       "     <use style=\"fill:#bf00bf;stroke:#bf00bf;stroke-width:0.5;\" x=\"121.2769375\" xlink:href=\"#m56b4842580\" y=\"103.314\"/>\n",
       "     <use style=\"fill:#bf00bf;stroke:#bf00bf;stroke-width:0.5;\" x=\"139.5235375\" xlink:href=\"#m56b4842580\" y=\"43.67\"/>\n",
       "     <use style=\"fill:#bf00bf;stroke:#bf00bf;stroke-width:0.5;\" x=\"56.4931375\" xlink:href=\"#m56b4842580\" y=\"123.898\"/>\n",
       "     <use style=\"fill:#bf00bf;stroke:#bf00bf;stroke-width:0.5;\" x=\"67.0393375\" xlink:href=\"#m56b4842580\" y=\"134.81\"/>\n",
       "     <use style=\"fill:#bf00bf;stroke:#bf00bf;stroke-width:0.5;\" x=\"82.7749375\" xlink:href=\"#m56b4842580\" y=\"92.65\"/>\n",
       "     <use style=\"fill:#bf00bf;stroke:#bf00bf;stroke-width:0.5;\" x=\"43.1011375\" xlink:href=\"#m56b4842580\" y=\"102.942\"/>\n",
       "     <use style=\"fill:#bf00bf;stroke:#bf00bf;stroke-width:0.5;\" x=\"141.5323375\" xlink:href=\"#m56b4842580\" y=\"56.442\"/>\n",
       "     <use style=\"fill:#bf00bf;stroke:#bf00bf;stroke-width:0.5;\" x=\"85.7881375\" xlink:href=\"#m56b4842580\" y=\"95.626\"/>\n",
       "     <use style=\"fill:#bf00bf;stroke:#bf00bf;stroke-width:0.5;\" x=\"82.7749375\" xlink:href=\"#m56b4842580\" y=\"89.798\"/>\n",
       "     <use style=\"fill:#bf00bf;stroke:#bf00bf;stroke-width:0.5;\" x=\"89.8057375\" xlink:href=\"#m56b4842580\" y=\"80.002\"/>\n",
       "     <use style=\"fill:#bf00bf;stroke:#bf00bf;stroke-width:0.5;\" x=\"82.6075375\" xlink:href=\"#m56b4842580\" y=\"84.218\"/>\n",
       "     <use style=\"fill:#bf00bf;stroke:#bf00bf;stroke-width:0.5;\" x=\"57.8323375\" xlink:href=\"#m56b4842580\" y=\"136.918\"/>\n",
       "     <use style=\"fill:#bf00bf;stroke:#bf00bf;stroke-width:0.5;\" x=\"81.2683375\" xlink:href=\"#m56b4842580\" y=\"96.618\"/>\n",
       "     <use style=\"fill:#bf00bf;stroke:#bf00bf;stroke-width:0.5;\" x=\"93.3211375\" xlink:href=\"#m56b4842580\" y=\"120.302\"/>\n",
       "     <use style=\"fill:#bf00bf;stroke:#bf00bf;stroke-width:0.5;\" x=\"93.6559375\" xlink:href=\"#m56b4842580\" y=\"134.066\"/>\n",
       "     <use style=\"fill:#bf00bf;stroke:#bf00bf;stroke-width:0.5;\" x=\"108.3871375\" xlink:href=\"#m56b4842580\" y=\"113.482\"/>\n",
       "     <use style=\"fill:#bf00bf;stroke:#bf00bf;stroke-width:0.5;\" x=\"101.5237375\" xlink:href=\"#m56b4842580\" y=\"84.838\"/>\n",
       "     <use style=\"fill:#bf00bf;stroke:#bf00bf;stroke-width:0.5;\" x=\"75.5767375\" xlink:href=\"#m56b4842580\" y=\"100.462\"/>\n",
       "     <use style=\"fill:#bf00bf;stroke:#bf00bf;stroke-width:0.5;\" x=\"109.8937375\" xlink:href=\"#m56b4842580\" y=\"100.338\"/>\n",
       "     <use style=\"fill:#bf00bf;stroke:#bf00bf;stroke-width:0.5;\" x=\"89.6383375\" xlink:href=\"#m56b4842580\" y=\"115.342\"/>\n",
       "     <use style=\"fill:#bf00bf;stroke:#bf00bf;stroke-width:0.5;\" x=\"74.2375375\" xlink:href=\"#m56b4842580\" y=\"113.482\"/>\n",
       "     <use style=\"fill:#bf00bf;stroke:#bf00bf;stroke-width:0.5;\" x=\"105.5413375\" xlink:href=\"#m56b4842580\" y=\"101.206\"/>\n",
       "     <use style=\"fill:#bf00bf;stroke:#bf00bf;stroke-width:0.5;\" x=\"64.8631375\" xlink:href=\"#m56b4842580\" y=\"78.514\"/>\n",
       "     <use style=\"fill:#bf00bf;stroke:#bf00bf;stroke-width:0.5;\" x=\"79.4269375\" xlink:href=\"#m56b4842580\" y=\"110.63\"/>\n",
       "     <use style=\"fill:#bf00bf;stroke:#bf00bf;stroke-width:0.5;\" x=\"68.7133375\" xlink:href=\"#m56b4842580\" y=\"83.846\"/>\n",
       "     <use style=\"fill:#bf00bf;stroke:#bf00bf;stroke-width:0.5;\" x=\"109.5589375\" xlink:href=\"#m56b4842580\" y=\"103.686\"/>\n",
       "     <use style=\"fill:#bf00bf;stroke:#bf00bf;stroke-width:0.5;\" x=\"59.0041375\" xlink:href=\"#m56b4842580\" y=\"53.218\"/>\n",
       "    </g>\n",
       "   </g>\n",
       "   <g id=\"line2d_3\">\n",
       "    <defs>\n",
       "     <path d=\"\n",
       "M0 1.5\n",
       "C0.397805 1.5 0.77937 1.34195 1.06066 1.06066\n",
       "C1.34195 0.77937 1.5 0.397805 1.5 0\n",
       "C1.5 -0.397805 1.34195 -0.77937 1.06066 -1.06066\n",
       "C0.77937 -1.34195 0.397805 -1.5 0 -1.5\n",
       "C-0.397805 -1.5 -0.77937 -1.34195 -1.06066 -1.06066\n",
       "C-1.34195 -0.77937 -1.5 -0.397805 -1.5 0\n",
       "C-1.5 0.397805 -1.34195 0.77937 -1.06066 1.06066\n",
       "C-0.77937 1.34195 -0.397805 1.5 0 1.5\n",
       "z\n",
       "\" id=\"m9163a0d364\" style=\"stroke:#bfbf00;stroke-width:0.5;\"/>\n",
       "    </defs>\n",
       "    <g clip-path=\"url(#p27e44c14a9)\">\n",
       "     <use style=\"fill:#bfbf00;stroke:#bfbf00;stroke-width:0.5;\" x=\"249.1705375\" xlink:href=\"#m9163a0d364\" y=\"29.038\"/>\n",
       "     <use style=\"fill:#bfbf00;stroke:#bfbf00;stroke-width:0.5;\" x=\"276.1219375\" xlink:href=\"#m9163a0d364\" y=\"28.79\"/>\n",
       "     <use style=\"fill:#bfbf00;stroke:#bfbf00;stroke-width:0.5;\" x=\"304.9147375\" xlink:href=\"#m9163a0d364\" y=\"61.774\"/>\n",
       "     <use style=\"fill:#bfbf00;stroke:#bfbf00;stroke-width:0.5;\" x=\"208.4923375\" xlink:href=\"#m9163a0d364\" y=\"70.702\"/>\n",
       "     <use style=\"fill:#bfbf00;stroke:#bfbf00;stroke-width:0.5;\" x=\"300.7297375\" xlink:href=\"#m9163a0d364\" y=\"28.542\"/>\n",
       "     <use style=\"fill:#bfbf00;stroke:#bfbf00;stroke-width:0.5;\" x=\"337.8925375\" xlink:href=\"#m9163a0d364\" y=\"30.65\"/>\n",
       "     <use style=\"fill:#bfbf00;stroke:#bfbf00;stroke-width:0.5;\" x=\"277.1263375\" xlink:href=\"#m9163a0d364\" y=\"49.622\"/>\n",
       "     <use style=\"fill:#bfbf00;stroke:#bfbf00;stroke-width:0.5;\" x=\"263.3995375\" xlink:href=\"#m9163a0d364\" y=\"66.858\"/>\n",
       "     <use style=\"fill:#bfbf00;stroke:#bfbf00;stroke-width:0.5;\" x=\"254.8621375\" xlink:href=\"#m9163a0d364\" y=\"79.754\"/>\n",
       "     <use style=\"fill:#bfbf00;stroke:#bfbf00;stroke-width:0.5;\" x=\"242.8093375\" xlink:href=\"#m9163a0d364\" y=\"95.874\"/>\n",
       "     <use style=\"fill:#bfbf00;stroke:#bfbf00;stroke-width:0.5;\" x=\"264.4039375\" xlink:href=\"#m9163a0d364\" y=\"56.814\"/>\n",
       "     <use style=\"fill:#bfbf00;stroke:#bfbf00;stroke-width:0.5;\" x=\"225.9019375\" xlink:href=\"#m9163a0d364\" y=\"69.214\"/>\n",
       "     <use style=\"fill:#bfbf00;stroke:#bfbf00;stroke-width:0.5;\" x=\"245.1529375\" xlink:href=\"#m9163a0d364\" y=\"76.53\"/>\n",
       "     <use style=\"fill:#bfbf00;stroke:#bfbf00;stroke-width:0.5;\" x=\"282.8179375\" xlink:href=\"#m9163a0d364\" y=\"85.582\"/>\n",
       "     <use style=\"fill:#bfbf00;stroke:#bfbf00;stroke-width:0.5;\" x=\"225.0649375\" xlink:href=\"#m9163a0d364\" y=\"112.986\"/>\n",
       "     <use style=\"fill:#bfbf00;stroke:#bfbf00;stroke-width:0.5;\" x=\"271.9369375\" xlink:href=\"#m9163a0d364\" y=\"21.598\"/>\n",
       "     <use style=\"fill:#bfbf00;stroke:#bfbf00;stroke-width:0.5;\" x=\"298.7209375\" xlink:href=\"#m9163a0d364\" y=\"57.682\"/>\n",
       "     <use style=\"fill:#bfbf00;stroke:#bfbf00;stroke-width:0.5;\" x=\"254.8621375\" xlink:href=\"#m9163a0d364\" y=\"90.046\"/>\n",
       "     <use style=\"fill:#bfbf00;stroke:#bfbf00;stroke-width:0.5;\" x=\"285.8311375\" xlink:href=\"#m9163a0d364\" y=\"48.506\"/>\n",
       "     <use style=\"fill:#bfbf00;stroke:#bfbf00;stroke-width:0.5;\" x=\"226.2367375\" xlink:href=\"#m9163a0d364\" y=\"67.974\"/>\n",
       "     <use style=\"fill:#bfbf00;stroke:#bfbf00;stroke-width:0.5;\" x=\"197.4439375\" xlink:href=\"#m9163a0d364\" y=\"93.146\"/>\n",
       "     <use style=\"fill:#bfbf00;stroke:#bfbf00;stroke-width:0.5;\" x=\"215.1883375\" xlink:href=\"#m9163a0d364\" y=\"55.078\"/>\n",
       "     <use style=\"fill:#bfbf00;stroke:#bfbf00;stroke-width:0.5;\" x=\"282.1483375\" xlink:href=\"#m9163a0d364\" y=\"21.35\"/>\n",
       "     <use style=\"fill:#bfbf00;stroke:#bfbf00;stroke-width:0.5;\" x=\"287.8399375\" xlink:href=\"#m9163a0d364\" y=\"25.69\"/>\n",
       "     <use style=\"fill:#bfbf00;stroke:#bfbf00;stroke-width:0.5;\" x=\"267.5845375\" xlink:href=\"#m9163a0d364\" y=\"55.078\"/>\n",
       "     <use style=\"fill:#bfbf00;stroke:#bfbf00;stroke-width:0.5;\" x=\"242.1397375\" xlink:href=\"#m9163a0d364\" y=\"75.538\"/>\n",
       "     <use style=\"fill:#bfbf00;stroke:#bfbf00;stroke-width:0.5;\" x=\"217.6993375\" xlink:href=\"#m9163a0d364\" y=\"100.09\"/>\n",
       "     <use style=\"fill:#bfbf00;stroke:#bfbf00;stroke-width:0.5;\" x=\"283.1527375\" xlink:href=\"#m9163a0d364\" y=\"78.142\"/>\n",
       "     <use style=\"fill:#bfbf00;stroke:#bfbf00;stroke-width:0.5;\" x=\"296.2099375\" xlink:href=\"#m9163a0d364\" y=\"40.322\"/>\n",
       "     <use style=\"fill:#bfbf00;stroke:#bfbf00;stroke-width:0.5;\" x=\"225.7345375\" xlink:href=\"#m9163a0d364\" y=\"102.446\"/>\n",
       "    </g>\n",
       "   </g>\n",
       "   <g id=\"patch_3\">\n",
       "    <path d=\"\n",
       "M22.5109 12.05\n",
       "L357.311 12.05\" style=\"fill:none;stroke:#000000;stroke-linecap:square;stroke-linejoin:miter;\"/>\n",
       "   </g>\n",
       "   <g id=\"patch_4\">\n",
       "    <path d=\"\n",
       "M357.311 235.25\n",
       "L357.311 12.05\" style=\"fill:none;stroke:#000000;stroke-linecap:square;stroke-linejoin:miter;\"/>\n",
       "   </g>\n",
       "   <g id=\"patch_5\">\n",
       "    <path d=\"\n",
       "M22.5109 235.25\n",
       "L357.311 235.25\" style=\"fill:none;stroke:#000000;stroke-linecap:square;stroke-linejoin:miter;\"/>\n",
       "   </g>\n",
       "   <g id=\"patch_6\">\n",
       "    <path d=\"\n",
       "M22.5109 235.25\n",
       "L22.5109 12.05\" style=\"fill:none;stroke:#000000;stroke-linecap:square;stroke-linejoin:miter;\"/>\n",
       "   </g>\n",
       "   <g id=\"matplotlib.axis_1\">\n",
       "    <g id=\"xtick_1\">\n",
       "     <g id=\"line2d_4\">\n",
       "      <defs>\n",
       "       <path d=\"\n",
       "M0 0\n",
       "L0 -4\" id=\"m93b0483c22\" style=\"stroke:#000000;stroke-width:0.5;\"/>\n",
       "      </defs>\n",
       "      <g>\n",
       "       <use style=\"stroke:#000000;stroke-width:0.5;\" x=\"22.5109375\" xlink:href=\"#m93b0483c22\" y=\"235.25\"/>\n",
       "      </g>\n",
       "     </g>\n",
       "     <g id=\"line2d_5\">\n",
       "      <defs>\n",
       "       <path d=\"\n",
       "M0 0\n",
       "L0 4\" id=\"m741efc42ff\" style=\"stroke:#000000;stroke-width:0.5;\"/>\n",
       "      </defs>\n",
       "      <g>\n",
       "       <use style=\"stroke:#000000;stroke-width:0.5;\" x=\"22.5109375\" xlink:href=\"#m741efc42ff\" y=\"12.05\"/>\n",
       "      </g>\n",
       "     </g>\n",
       "     <g id=\"text_1\">\n",
       "      <!-- 0 -->\n",
       "      <defs>\n",
       "       <path d=\"\n",
       "M32.7969 -0.90625\n",
       "C42 -0.90625 49 2.59375 54 9.59375\n",
       "C58.4062 15.7031 61 26.4062 61 38.5\n",
       "C61 46.7969 59.7031 54.7969 57.2031 61.7031\n",
       "C56 65 54 68.0938 51.2031 70.9062\n",
       "C46.7031 75.5938 40.2969 78 32.9062 78\n",
       "C23 78 15.2969 73.7969 10.5 65.7031\n",
       "C7 59.9062 4.70312 49.0938 4.70312 38.5\n",
       "C4.70312 30.2969 6 22.4062 8.5 15.4062\n",
       "C9.70312 12 11.7969 8.90625 14.5 6.20312\n",
       "C19.2031 1.5 25.4062 -0.90625 32.7969 -0.90625\n",
       "M32.7969 71.0938\n",
       "C39.7969 71.0938 45.2031 68 48.5 62\n",
       "C51.0938 57.2969 53 47.4062 53 38.7031\n",
       "C53 31.2969 52 24.7031 49.9062 18.5\n",
       "C49 15.5938 47.4062 13 45.2031 10.7031\n",
       "C42.2031 7.59375 37.9062 6 32.9062 6\n",
       "C26.0938 6 20.9062 8.90625 17.4062 14.7031\n",
       "C14.7031 19.4062 12.7031 29.2031 12.7031 38.5\n",
       "C12.7031 45.7969 13.7031 52.5938 15.7969 58.7031\n",
       "C16.5938 61.2031 18.2031 63.7031 20.2969 66\n",
       "C23.5 69.4062 27.5938 71.0938 32.7969 71.0938\" id=\"HiraKakuProN-W3-30\"/>\n",
       "      </defs>\n",
       "      <g transform=\"translate(19.69609375 246.909375)scale(0.1 -0.1)\">\n",
       "       <use xlink:href=\"#HiraKakuProN-W3-30\"/>\n",
       "      </g>\n",
       "     </g>\n",
       "    </g>\n",
       "    <g id=\"xtick_2\">\n",
       "     <g id=\"line2d_6\">\n",
       "      <g>\n",
       "       <use style=\"stroke:#000000;stroke-width:0.5;\" x=\"106.2109375\" xlink:href=\"#m93b0483c22\" y=\"235.25\"/>\n",
       "      </g>\n",
       "     </g>\n",
       "     <g id=\"line2d_7\">\n",
       "      <g>\n",
       "       <use style=\"stroke:#000000;stroke-width:0.5;\" x=\"106.2109375\" xlink:href=\"#m741efc42ff\" y=\"12.05\"/>\n",
       "      </g>\n",
       "     </g>\n",
       "     <g id=\"text_2\">\n",
       "      <!-- 5 -->\n",
       "      <defs>\n",
       "       <path d=\"\n",
       "M19.7031 69.7031\n",
       "L43.2031 69.7031\n",
       "C47.9062 69.7031 51.0938 69.5 54.9062 68.9062\n",
       "L54.9062 77.4062\n",
       "C50.9062 76.7969 48.5938 76.5938 43.2031 76.5938\n",
       "L22.5938 76.5938\n",
       "C16.7031 76.5938 15.0938 76.7031 12 77.0938\n",
       "C12.2031 74.5938 12.2031 74.2031 12.2031 72.7969\n",
       "C12.2031 70.9062 12.0938 69.7031 11.9062 66.7969\n",
       "L9.70312 44.2031\n",
       "C9.29688 39.9062 9 37.7969 8.20312 33.9062\n",
       "L15.7031 33.2031\n",
       "C16.7969 35.9062 17.9062 37.2969 20.2969 39.2031\n",
       "C23.9062 42 28.2969 43.4062 33.4062 43.4062\n",
       "C44 43.4062 50.9062 36.2031 50.9062 25.2031\n",
       "C50.9062 13.7031 43.4062 6.09375 32.2031 6.09375\n",
       "C26.4062 6.09375 21.4062 8.20312 18 12\n",
       "C16.5 13.7031 15.7969 15 14.7969 17.7969\n",
       "L6.59375 15.4062\n",
       "C9 10.5938 10.4062 8.5 12.9062 6\n",
       "C17.7031 1.5 24.2031 -0.796875 32 -0.796875\n",
       "C48.5 -0.796875 59 9.5 59 25.5938\n",
       "C59 33 56.7969 38.9062 52.2969 43.2031\n",
       "C47.7969 47.5938 41.5938 50 34.2969 50\n",
       "C27.4062 50 21.5938 47.7031 16.7969 43.0938\n",
       "C17.4062 45.7969 17.4062 45.7969 17.5938 47.5938\n",
       "z\n",
       "\" id=\"HiraKakuProN-W3-35\"/>\n",
       "      </defs>\n",
       "      <g transform=\"translate(103.590625 246.909375)scale(0.1 -0.1)\">\n",
       "       <use xlink:href=\"#HiraKakuProN-W3-35\"/>\n",
       "      </g>\n",
       "     </g>\n",
       "    </g>\n",
       "    <g id=\"xtick_3\">\n",
       "     <g id=\"line2d_8\">\n",
       "      <g>\n",
       "       <use style=\"stroke:#000000;stroke-width:0.5;\" x=\"189.9109375\" xlink:href=\"#m93b0483c22\" y=\"235.25\"/>\n",
       "      </g>\n",
       "     </g>\n",
       "     <g id=\"line2d_9\">\n",
       "      <g>\n",
       "       <use style=\"stroke:#000000;stroke-width:0.5;\" x=\"189.9109375\" xlink:href=\"#m741efc42ff\" y=\"12.05\"/>\n",
       "      </g>\n",
       "     </g>\n",
       "     <g id=\"text_3\">\n",
       "      <!-- 10 -->\n",
       "      <defs>\n",
       "       <path d=\"\n",
       "M16.0938 69.2031\n",
       "C19 69.5938 21.5938 69.7969 24.7969 69.7969\n",
       "L30.2031 69.7969\n",
       "L30.2031 11.9062\n",
       "C30.2031 7.29688 30 4.09375 29.4062 0.59375\n",
       "L38.9062 0.59375\n",
       "C38.2969 4.29688 38.0938 7.20312 38.0938 11.9062\n",
       "L38.0938 60.5\n",
       "C38.0938 65.9062 38.4062 71 39 77.0938\n",
       "C35.7031 76.7031 34.0938 76.5938 30.7031 76.5938\n",
       "L24.4062 76.5938\n",
       "C20.5938 76.5938 18.7031 76.7031 16.0938 77.0938\n",
       "z\n",
       "\" id=\"HiraKakuProN-W3-31\"/>\n",
       "      </defs>\n",
       "      <g transform=\"translate(184.38046875 246.909375)scale(0.1 -0.1)\">\n",
       "       <use xlink:href=\"#HiraKakuProN-W3-31\"/>\n",
       "       <use x=\"65.6999969482\" xlink:href=\"#HiraKakuProN-W3-30\"/>\n",
       "      </g>\n",
       "     </g>\n",
       "    </g>\n",
       "    <g id=\"xtick_4\">\n",
       "     <g id=\"line2d_10\">\n",
       "      <g>\n",
       "       <use style=\"stroke:#000000;stroke-width:0.5;\" x=\"273.6109375\" xlink:href=\"#m93b0483c22\" y=\"235.25\"/>\n",
       "      </g>\n",
       "     </g>\n",
       "     <g id=\"line2d_11\">\n",
       "      <g>\n",
       "       <use style=\"stroke:#000000;stroke-width:0.5;\" x=\"273.6109375\" xlink:href=\"#m741efc42ff\" y=\"12.05\"/>\n",
       "      </g>\n",
       "     </g>\n",
       "     <g id=\"text_4\">\n",
       "      <!-- 15 -->\n",
       "      <g transform=\"translate(268.18046875 246.909375)scale(0.1 -0.1)\">\n",
       "       <use xlink:href=\"#HiraKakuProN-W3-31\"/>\n",
       "       <use x=\"65.6999969482\" xlink:href=\"#HiraKakuProN-W3-35\"/>\n",
       "      </g>\n",
       "     </g>\n",
       "    </g>\n",
       "    <g id=\"xtick_5\">\n",
       "     <g id=\"line2d_12\">\n",
       "      <g>\n",
       "       <use style=\"stroke:#000000;stroke-width:0.5;\" x=\"357.3109375\" xlink:href=\"#m93b0483c22\" y=\"235.25\"/>\n",
       "      </g>\n",
       "     </g>\n",
       "     <g id=\"line2d_13\">\n",
       "      <g>\n",
       "       <use style=\"stroke:#000000;stroke-width:0.5;\" x=\"357.3109375\" xlink:href=\"#m741efc42ff\" y=\"12.05\"/>\n",
       "      </g>\n",
       "     </g>\n",
       "     <g id=\"text_5\">\n",
       "      <!-- 20 -->\n",
       "      <defs>\n",
       "       <path d=\"\n",
       "M47.2969 0.59375\n",
       "C52.2969 0.59375 55.5938 0.40625 59.5938 0\n",
       "L59.5938 8.40625\n",
       "C55.7969 7.90625 52.4062 7.70312 47.4062 7.70312\n",
       "L15.5 7.70312\n",
       "C16.7031 12.5 18.0938 15.2031 21.2031 19.2969\n",
       "C24.5 23.5 27.7031 26.2969 35.5938 31.5938\n",
       "C47 39.2031 49.5938 41.0938 52.5938 44.5\n",
       "C56.5 48.7969 58.5 53.5938 58.5 58.7031\n",
       "C58.5 70.5 48.7969 78.0938 33.7031 78.0938\n",
       "C24.9062 78.0938 18.0938 75.5 13.5938 70.4062\n",
       "C10.2969 66.7031 8.79688 63.2031 7.29688 56\n",
       "L15.7031 54.5938\n",
       "C16.4062 59.5938 17.2969 62 19.2031 64.7031\n",
       "C22.2031 69 27.0938 71.2031 33.7031 71.2031\n",
       "C43.9062 71.2031 50.2969 66.2969 50.2969 58.7031\n",
       "C50.2969 52.5938 47 48.2031 37.0938 41.5\n",
       "C25.5 33.5938 25.2969 33.5 21.7969 30.5\n",
       "C15.5 25.0938 11.2969 19.5938 8.79688 13.2969\n",
       "C7.29688 9.5 7 8 5.90625 0.09375\n",
       "C9.09375 0.5 10.5938 0.59375 16.9062 0.59375\n",
       "z\n",
       "\" id=\"HiraKakuProN-W3-32\"/>\n",
       "      </defs>\n",
       "      <g transform=\"translate(351.27109375 246.909375)scale(0.1 -0.1)\">\n",
       "       <use xlink:href=\"#HiraKakuProN-W3-32\"/>\n",
       "       <use x=\"65.6999969482\" xlink:href=\"#HiraKakuProN-W3-30\"/>\n",
       "      </g>\n",
       "     </g>\n",
       "    </g>\n",
       "   </g>\n",
       "   <g id=\"matplotlib.axis_2\">\n",
       "    <g id=\"ytick_1\">\n",
       "     <g id=\"line2d_14\">\n",
       "      <defs>\n",
       "       <path d=\"\n",
       "M0 0\n",
       "L4 0\" id=\"m728421d6d4\" style=\"stroke:#000000;stroke-width:0.5;\"/>\n",
       "      </defs>\n",
       "      <g>\n",
       "       <use style=\"stroke:#000000;stroke-width:0.5;\" x=\"22.5109375\" xlink:href=\"#m728421d6d4\" y=\"235.25\"/>\n",
       "      </g>\n",
       "     </g>\n",
       "     <g id=\"line2d_15\">\n",
       "      <defs>\n",
       "       <path d=\"\n",
       "M0 0\n",
       "L-4 0\" id=\"mcb0005524f\" style=\"stroke:#000000;stroke-width:0.5;\"/>\n",
       "      </defs>\n",
       "      <g>\n",
       "       <use style=\"stroke:#000000;stroke-width:0.5;\" x=\"357.3109375\" xlink:href=\"#mcb0005524f\" y=\"235.25\"/>\n",
       "      </g>\n",
       "     </g>\n",
       "     <g id=\"text_6\">\n",
       "      <!-- 0 -->\n",
       "      <g transform=\"translate(12.88125 238.059375)scale(0.1 -0.1)\">\n",
       "       <use xlink:href=\"#HiraKakuProN-W3-30\"/>\n",
       "      </g>\n",
       "     </g>\n",
       "    </g>\n",
       "    <g id=\"ytick_2\">\n",
       "     <g id=\"line2d_16\">\n",
       "      <g>\n",
       "       <use style=\"stroke:#000000;stroke-width:0.5;\" x=\"22.5109375\" xlink:href=\"#m728421d6d4\" y=\"210.45\"/>\n",
       "      </g>\n",
       "     </g>\n",
       "     <g id=\"line2d_17\">\n",
       "      <g>\n",
       "       <use style=\"stroke:#000000;stroke-width:0.5;\" x=\"357.3109375\" xlink:href=\"#mcb0005524f\" y=\"210.45\"/>\n",
       "      </g>\n",
       "     </g>\n",
       "     <g id=\"text_7\">\n",
       "      <!-- 2 -->\n",
       "      <g transform=\"translate(13.1421875 213.259375)scale(0.1 -0.1)\">\n",
       "       <use xlink:href=\"#HiraKakuProN-W3-32\"/>\n",
       "      </g>\n",
       "     </g>\n",
       "    </g>\n",
       "    <g id=\"ytick_3\">\n",
       "     <g id=\"line2d_18\">\n",
       "      <g>\n",
       "       <use style=\"stroke:#000000;stroke-width:0.5;\" x=\"22.5109375\" xlink:href=\"#m728421d6d4\" y=\"185.65\"/>\n",
       "      </g>\n",
       "     </g>\n",
       "     <g id=\"line2d_19\">\n",
       "      <g>\n",
       "       <use style=\"stroke:#000000;stroke-width:0.5;\" x=\"357.3109375\" xlink:href=\"#mcb0005524f\" y=\"185.65\"/>\n",
       "      </g>\n",
       "     </g>\n",
       "     <g id=\"text_8\">\n",
       "      <!-- 4 -->\n",
       "      <defs>\n",
       "       <path d=\"\n",
       "M3.09375 19.5938\n",
       "C6.40625 19.9062 9.40625 20 15 20\n",
       "L41.7969 20\n",
       "L41.7969 11.4062\n",
       "C41.7969 6.90625 41.5938 4.09375 41 0.59375\n",
       "L50.0938 0.59375\n",
       "C49.5 4.29688 49.2969 6.59375 49.2969 11.4062\n",
       "L49.2969 20\n",
       "L53 20\n",
       "C57.2969 20 59.7969 19.7969 63.5 19.2969\n",
       "L63.5 27.5938\n",
       "C59.9062 27.0938 57.2969 26.9062 53.0938 26.9062\n",
       "L49.2969 26.9062\n",
       "L49.2969 59.7031\n",
       "C49.2969 67.5938 49.4062 70.7031 49.9062 76.5938\n",
       "L42.4062 76.5938\n",
       "C40.0938 73.0938 38.2969 70.5938 34.9062 66.4062\n",
       "L9.59375 34.7969\n",
       "C7.5 32.2969 5.20312 29.5 3.09375 27.0938\n",
       "z\n",
       "\n",
       "M41.9062 26.7969\n",
       "L12 26.7969\n",
       "L35 55.7969\n",
       "C37.9062 59.5 40.4062 62.7969 42.5 65.7969\n",
       "C42 60.7031 41.9062 57.5 41.9062 52.2031\n",
       "z\n",
       "\" id=\"HiraKakuProN-W3-34\"/>\n",
       "      </defs>\n",
       "      <g transform=\"translate(12.4703125 188.459375)scale(0.1 -0.1)\">\n",
       "       <use xlink:href=\"#HiraKakuProN-W3-34\"/>\n",
       "      </g>\n",
       "     </g>\n",
       "    </g>\n",
       "    <g id=\"ytick_4\">\n",
       "     <g id=\"line2d_20\">\n",
       "      <g>\n",
       "       <use style=\"stroke:#000000;stroke-width:0.5;\" x=\"22.5109375\" xlink:href=\"#m728421d6d4\" y=\"160.85\"/>\n",
       "      </g>\n",
       "     </g>\n",
       "     <g id=\"line2d_21\">\n",
       "      <g>\n",
       "       <use style=\"stroke:#000000;stroke-width:0.5;\" x=\"357.3109375\" xlink:href=\"#mcb0005524f\" y=\"160.85\"/>\n",
       "      </g>\n",
       "     </g>\n",
       "     <g id=\"text_9\">\n",
       "      <!-- 6 -->\n",
       "      <defs>\n",
       "       <path d=\"\n",
       "M58.2031 62.5938\n",
       "C55.2969 68.5938 53.2969 71.2969 49.7969 73.7969\n",
       "C46 76.5 40.5938 78 34.5938 78\n",
       "C25.9062 78 18.7969 74.2969 13.5 67.0938\n",
       "C8.70312 60.5938 5.90625 49.4062 5.90625 36.9062\n",
       "C5.90625 22.7031 9.5 11.5 16 5.5\n",
       "C20.2969 1.5 27 -0.796875 34.0938 -0.796875\n",
       "C49.9062 -0.796875 60.2969 9.40625 60.2969 24.9062\n",
       "C60.2969 40.2969 50.7031 49.9062 35.2031 49.9062\n",
       "C28.2969 49.9062 23 48 18.2969 43.7969\n",
       "C16.0938 41.9062 15.0938 40.5 13.2969 37.4062\n",
       "C14 48.2969 14.9062 52.9062 17.5 58.9062\n",
       "C21.0938 67.0938 27 71.2969 34.7969 71.2969\n",
       "C39.7969 71.2969 43.7031 69.5938 46.7031 66.2969\n",
       "C48.2031 64.5938 48.9062 63.2031 50.2031 60\n",
       "z\n",
       "\n",
       "M52.4062 24.7031\n",
       "C52.4062 20.7969 51.4062 16.7031 49.7969 14.0938\n",
       "C46.7031 9.09375 40.7031 6 34.2031 6\n",
       "C23.4062 6 15.2969 14 15.2969 24.7969\n",
       "C15.2969 29.7969 17 34.2031 20.2969 37.5\n",
       "C23.7969 41 29.0938 43.2031 34.0938 43.2031\n",
       "C45.7969 43.2031 52.4062 36.5 52.4062 24.7031\" id=\"HiraKakuProN-W3-36\"/>\n",
       "      </defs>\n",
       "      <g transform=\"translate(13.071875 163.659375)scale(0.1 -0.1)\">\n",
       "       <use xlink:href=\"#HiraKakuProN-W3-36\"/>\n",
       "      </g>\n",
       "     </g>\n",
       "    </g>\n",
       "    <g id=\"ytick_5\">\n",
       "     <g id=\"line2d_22\">\n",
       "      <g>\n",
       "       <use style=\"stroke:#000000;stroke-width:0.5;\" x=\"22.5109375\" xlink:href=\"#m728421d6d4\" y=\"136.05\"/>\n",
       "      </g>\n",
       "     </g>\n",
       "     <g id=\"line2d_23\">\n",
       "      <g>\n",
       "       <use style=\"stroke:#000000;stroke-width:0.5;\" x=\"357.3109375\" xlink:href=\"#mcb0005524f\" y=\"136.05\"/>\n",
       "      </g>\n",
       "     </g>\n",
       "     <g id=\"text_10\">\n",
       "      <!-- 8 -->\n",
       "      <defs>\n",
       "       <path d=\"\n",
       "M43 40.4062\n",
       "C51.9062 42.0938 57.5 49.0938 57.5 58.4062\n",
       "C57.5 70.7031 48.0938 78.2031 32.7969 78.2031\n",
       "C17.7031 78.2031 8.20312 70.5 8.20312 58.4062\n",
       "C8.20312 49.0938 13.9062 42 22.7031 40.4062\n",
       "C19 39.7969 16.7969 39 13.7031 37\n",
       "C7.70312 33.0938 4.79688 27.5938 4.79688 20.4062\n",
       "C4.79688 6.59375 14.9062 -1 33.2031 -1\n",
       "C50.7969 -1 60.7969 6.70312 60.7969 20.4062\n",
       "C60.7969 27.0938 58.2969 32.4062 53.2969 36.0938\n",
       "C50 38.5938 47.2031 39.7969 43 40.4062\n",
       "M32.7969 71.5\n",
       "C43.0938 71.5 49.7031 66.2031 49.7031 57.7969\n",
       "C49.7031 48.9062 43.4062 43.5 32.9062 43.5\n",
       "C22.4062 43.5 16 48.9062 16 57.7969\n",
       "C16 66.0938 22.5938 71.5 32.7969 71.5\n",
       "M32.7969 36.5938\n",
       "C45.0938 36.5938 52.5938 30.7031 52.5938 20.9062\n",
       "C52.5938 16.7969 51.2969 13.2969 48.7969 11\n",
       "C45.4062 7.59375 39.7031 5.79688 32.7031 5.79688\n",
       "C20.2969 5.79688 13 11.4062 13 20.9062\n",
       "C13 30.5938 20.5 36.5938 32.7969 36.5938\" id=\"HiraKakuProN-W3-38\"/>\n",
       "      </defs>\n",
       "      <g transform=\"translate(12.9109375 138.859375)scale(0.1 -0.1)\">\n",
       "       <use xlink:href=\"#HiraKakuProN-W3-38\"/>\n",
       "      </g>\n",
       "     </g>\n",
       "    </g>\n",
       "    <g id=\"ytick_6\">\n",
       "     <g id=\"line2d_24\">\n",
       "      <g>\n",
       "       <use style=\"stroke:#000000;stroke-width:0.5;\" x=\"22.5109375\" xlink:href=\"#m728421d6d4\" y=\"111.25\"/>\n",
       "      </g>\n",
       "     </g>\n",
       "     <g id=\"line2d_25\">\n",
       "      <g>\n",
       "       <use style=\"stroke:#000000;stroke-width:0.5;\" x=\"357.3109375\" xlink:href=\"#mcb0005524f\" y=\"111.25\"/>\n",
       "      </g>\n",
       "     </g>\n",
       "     <g id=\"text_11\">\n",
       "      <!-- 10 -->\n",
       "      <g transform=\"translate(7.45 114.059375)scale(0.1 -0.1)\">\n",
       "       <use xlink:href=\"#HiraKakuProN-W3-31\"/>\n",
       "       <use x=\"65.6999969482\" xlink:href=\"#HiraKakuProN-W3-30\"/>\n",
       "      </g>\n",
       "     </g>\n",
       "    </g>\n",
       "    <g id=\"ytick_7\">\n",
       "     <g id=\"line2d_26\">\n",
       "      <g>\n",
       "       <use style=\"stroke:#000000;stroke-width:0.5;\" x=\"22.5109375\" xlink:href=\"#m728421d6d4\" y=\"86.45\"/>\n",
       "      </g>\n",
       "     </g>\n",
       "     <g id=\"line2d_27\">\n",
       "      <g>\n",
       "       <use style=\"stroke:#000000;stroke-width:0.5;\" x=\"357.3109375\" xlink:href=\"#mcb0005524f\" y=\"86.45\"/>\n",
       "      </g>\n",
       "     </g>\n",
       "     <g id=\"text_12\">\n",
       "      <!-- 12 -->\n",
       "      <g transform=\"translate(7.590625 89.259375)scale(0.1 -0.1)\">\n",
       "       <use xlink:href=\"#HiraKakuProN-W3-31\"/>\n",
       "       <use x=\"65.6999969482\" xlink:href=\"#HiraKakuProN-W3-32\"/>\n",
       "      </g>\n",
       "     </g>\n",
       "    </g>\n",
       "    <g id=\"ytick_8\">\n",
       "     <g id=\"line2d_28\">\n",
       "      <g>\n",
       "       <use style=\"stroke:#000000;stroke-width:0.5;\" x=\"22.5109375\" xlink:href=\"#m728421d6d4\" y=\"61.65\"/>\n",
       "      </g>\n",
       "     </g>\n",
       "     <g id=\"line2d_29\">\n",
       "      <g>\n",
       "       <use style=\"stroke:#000000;stroke-width:0.5;\" x=\"357.3109375\" xlink:href=\"#mcb0005524f\" y=\"61.65\"/>\n",
       "      </g>\n",
       "     </g>\n",
       "     <g id=\"text_13\">\n",
       "      <!-- 14 -->\n",
       "      <g transform=\"translate(7.2 64.459375)scale(0.1 -0.1)\">\n",
       "       <use xlink:href=\"#HiraKakuProN-W3-31\"/>\n",
       "       <use x=\"65.6999969482\" xlink:href=\"#HiraKakuProN-W3-34\"/>\n",
       "      </g>\n",
       "     </g>\n",
       "    </g>\n",
       "    <g id=\"ytick_9\">\n",
       "     <g id=\"line2d_30\">\n",
       "      <g>\n",
       "       <use style=\"stroke:#000000;stroke-width:0.5;\" x=\"22.5109375\" xlink:href=\"#m728421d6d4\" y=\"36.85\"/>\n",
       "      </g>\n",
       "     </g>\n",
       "     <g id=\"line2d_31\">\n",
       "      <g>\n",
       "       <use style=\"stroke:#000000;stroke-width:0.5;\" x=\"357.3109375\" xlink:href=\"#mcb0005524f\" y=\"36.85\"/>\n",
       "      </g>\n",
       "     </g>\n",
       "     <g id=\"text_14\">\n",
       "      <!-- 16 -->\n",
       "      <g transform=\"translate(7.5203125 39.659375)scale(0.1 -0.1)\">\n",
       "       <use xlink:href=\"#HiraKakuProN-W3-31\"/>\n",
       "       <use x=\"65.6999969482\" xlink:href=\"#HiraKakuProN-W3-36\"/>\n",
       "      </g>\n",
       "     </g>\n",
       "    </g>\n",
       "    <g id=\"ytick_10\">\n",
       "     <g id=\"line2d_32\">\n",
       "      <g>\n",
       "       <use style=\"stroke:#000000;stroke-width:0.5;\" x=\"22.5109375\" xlink:href=\"#m728421d6d4\" y=\"12.05\"/>\n",
       "      </g>\n",
       "     </g>\n",
       "     <g id=\"line2d_33\">\n",
       "      <g>\n",
       "       <use style=\"stroke:#000000;stroke-width:0.5;\" x=\"357.3109375\" xlink:href=\"#mcb0005524f\" y=\"12.05\"/>\n",
       "      </g>\n",
       "     </g>\n",
       "     <g id=\"text_15\">\n",
       "      <!-- 18 -->\n",
       "      <g transform=\"translate(7.4703125 14.859375)scale(0.1 -0.1)\">\n",
       "       <use xlink:href=\"#HiraKakuProN-W3-31\"/>\n",
       "       <use x=\"65.6999969482\" xlink:href=\"#HiraKakuProN-W3-38\"/>\n",
       "      </g>\n",
       "     </g>\n",
       "    </g>\n",
       "   </g>\n",
       "  </g>\n",
       " </g>\n",
       " <defs>\n",
       "  <clipPath id=\"p27e44c14a9\">\n",
       "   <rect height=\"223.2\" width=\"334.8\" x=\"22.5109375\" y=\"12.05\"/>\n",
       "  </clipPath>\n",
       " </defs>\n",
       "</svg>\n"
      ],
      "text/plain": [
       "<matplotlib.figure.Figure at 0x10bb98610>"
      ]
     },
     "metadata": {},
     "output_type": "display_data"
    }
   ],
   "source": [
    "disp_result(data, sample_idxs)"
   ]
  },
  {
   "cell_type": "markdown",
   "metadata": {
    "slideshow": {
     "slide_type": "subslide"
    }
   },
   "source": [
    "#### 4-2. matplotlib で結果プロット例2（numpy 非利用）"
   ]
  },
  {
   "cell_type": "code",
   "execution_count": null,
   "metadata": {
    "collapsed": true
   },
   "outputs": [],
   "source": [
    "def disp_result(X, idxs):\n",
    "    data_0 = [v for i, v in enumerate(X) if idxs[i] == 0]\n",
    "    data_1 = [v for i, v in enumerate(X) if idxs[i] == 1]\n",
    "    data_2 = [v for i, v in enumerate(X) if idxs[i] == 2]\n",
    "    \n",
    "    data_0x, data_0y = map(list, zip(*data_0))\n",
    "    data_1x, data_1y = map(list, zip(*data_1))\n",
    "    data_2x, data_2y = map(list, zip(*data_2))\n",
    "\n",
    "    plt.plot(data_0x, data_0y, \"c.\")\n",
    "    plt.plot(data_1x, data_1y, \"m.\")\n",
    "    plt.plot(data_2x, data_2y, \"y.\")\n",
    "    return plot.show()\n"
   ]
  },
  {
   "cell_type": "markdown",
   "metadata": {
    "slideshow": {
     "slide_type": "notes"
    }
   },
   "source": [
    "※ 表示例は先ほどの例を参照。"
   ]
  },
  {
   "cell_type": "markdown",
   "metadata": {
    "slideshow": {
     "slide_type": "subslide"
    }
   },
   "source": [
    "#### 4-3. データをまとめて標準出力に出力例"
   ]
  },
  {
   "cell_type": "markdown",
   "metadata": {},
   "source": [
    "※ matplotlib が使用できない場合はこの方法で結果を出力。"
   ]
  },
  {
   "cell_type": "code",
   "execution_count": null,
   "metadata": {
    "collapsed": true
   },
   "outputs": [],
   "source": [
    "def disp_result(X, idxs):\n",
    "    for i, x in enumerate(X):\n",
    "        print(\"%.2f %.2f %d\" % (x[0], x[1], idxs[i]))\n"
   ]
  },
  {
   "cell_type": "markdown",
   "metadata": {
    "slideshow": {
     "slide_type": "subslide"
    }
   },
   "source": [
    "### 5. K-means 実行"
   ]
  },
  {
   "cell_type": "code",
   "execution_count": null,
   "metadata": {
    "collapsed": true
   },
   "outputs": [],
   "source": [
    "def run(X, K):\n",
    "    initial_centroids = init_centroids(X, K)\n",
    "    centroids, idxs = run_kmeans(X, initial_centroids)\n",
    "    disp_result(X, idxs)\n",
    "\n",
    "run(data, 3)"
   ]
  },
  {
   "cell_type": "markdown",
   "metadata": {
    "slideshow": {
     "slide_type": "fragment"
    }
   },
   "source": [
    "以上を1つのファイル（`kmeans.py`）にまとめて、コマンドラインから `python kmeans.py` を実行。"
   ]
  },
  {
   "cell_type": "markdown",
   "metadata": {
    "collapsed": true,
    "slideshow": {
     "slide_type": "slide"
    }
   },
   "source": [
    "## 目的関数と最適化"
   ]
  },
  {
   "cell_type": "markdown",
   "metadata": {},
   "source": [
    "※ここからはオプションです。時間に余裕がある場合はこの先に進んでください。"
   ]
  },
  {
   "cell_type": "markdown",
   "metadata": {
    "slideshow": {
     "slide_type": "subslide"
    }
   },
   "source": [
    "### 目的関数\n",
    "\n",
    "+ 最適化する対象となる関数。\n",
    "+ K-means では、目的関数は「各点と、その属するクラスタ重心との距離の二乗の平均を求める関数」、最適化は「目的関数の値が最小となるようにパラメータを選ぶこと」。"
   ]
  },
  {
   "cell_type": "markdown",
   "metadata": {
    "slideshow": {
     "slide_type": "notes"
    }
   },
   "source": [
    "$c^{(i)}$ … i番目 のデータの属するクラスタ番号（＝`idxs[i-1]`）  \n",
    "$\\mu_k$ … k番目 のクラスタ（1≦k≦K）のクラスタ重心（＝`centroids[k-1]`）  \n",
    "$\\mu_{c^{(i)}}$ … i番目 のデータの属するクラスタのクラスタ重心（＝`centroids[idxs[i-1]]`）\n",
    "\n",
    "$$\n",
    "J(c^{(1)},\\dots,c^{(m)},\\mu_1,\\dots,\\mu_K) = \\frac{1}{m} \\sum_{i=1}^m \\left\\| x^{(i)} - \\mu_{c^{(i)}} \\right\\|^2\\\\\n",
    "\\min_{c^{(1)},\\dots,c^{(m)},\\mu_1,\\dots,\\mu_K} J(c^{(1)},\\dots,c^{(m)},\\mu_1,\\dots,\\mu_K)\n",
    "$$\n",
    "\n",
    "↑のJ（目的関数）を、イテレーションごとに得られる idxs と centroids を利用して計算し、それを plot すると良い。"
   ]
  },
  {
   "cell_type": "code",
   "execution_count": 8,
   "metadata": {
    "collapsed": true,
    "slideshow": {
     "slide_type": "subslide"
    }
   },
   "outputs": [],
   "source": [
    "def cost(X, centroids, idxs):\n",
    "    # # 例1：numpy を使用していない場合（X や centroids が二次元の list の場合）\n",
    "    # m = len(X)\n",
    "    # n = len(X[0])\n",
    "    # return sum(sum((X[j][i] - centroids[idxs[j]][i]) ** 2 for i in range(n)) for j in range(m)) / m\n",
    "\n",
    "    # 例2：numpy を使用している場合（X や centroids が二次元の numpy.ndarray の場合）\n",
    "    return np.mean([sum(n**2 for n in (X[i] - centroids[idxs[i]])) for i in range(len(X))])\n"
   ]
  },
  {
   "cell_type": "markdown",
   "metadata": {
    "slideshow": {
     "slide_type": "subslide"
    }
   },
   "source": [
    "### 学習曲線\n",
    "\n",
    "+ イテレーションの回数を横軸、それぞれの目的関数の値を縦軸にとって、イテレーションごとにその値をプロットしたグラフ。"
   ]
  },
  {
   "cell_type": "code",
   "execution_count": null,
   "metadata": {
    "collapsed": true,
    "slideshow": {
     "slide_type": "subslide"
    }
   },
   "outputs": [],
   "source": [
    "def run_stepwise(X, K):\n",
    "    m = len(X)\n",
    "    initial_centroids = init_centroids(X, K)\n",
    "    initial_idxs = [0 for _ in range(m)]\n",
    "    \n",
    "    centroids = initial_centroids\n",
    "    idxs = initial_idxs\n",
    "    costs = [cost(X, centroids, idxs)]\n",
    "\n",
    "    prev_centroids = centroids\n",
    "    for _ in range(10):\n",
    "        centroids, idxs = run_kmeans(X, centroids, max_iters=1)\n",
    "        costs.append(cost(X, centroids, idxs))\n",
    "\n",
    "        # if centroids == prev_centroids:\n",
    "        if (centroids == prev_centroids).all():\n",
    "            break\n",
    "\n",
    "        prev_centroids = centroids\n",
    "\n",
    "    plt.plot(range(len(costs)), costs, label='Learning Curve')\n",
    "    plt.xlabel(\"Iterations\")\n",
    "    plt.ylabel(\"Costs\")\n",
    "    return plt.show()\n"
   ]
  },
  {
   "cell_type": "markdown",
   "metadata": {
    "collapsed": true,
    "slideshow": {
     "slide_type": "subslide"
    }
   },
   "source": [
    "表示例：\n",
    "\n",
    "<img src=\"./LearningCurveSample.png\" width=\"800\">"
   ]
  },
  {
   "cell_type": "code",
   "execution_count": null,
   "metadata": {
    "collapsed": true,
    "slideshow": {
     "slide_type": "skip"
    }
   },
   "outputs": [],
   "source": []
  }
 ],
 "metadata": {
  "celltoolbar": "Slideshow",
  "kernelspec": {
   "display_name": "Python 2",
   "language": "python",
   "name": "python2"
  },
  "language_info": {
   "codemirror_mode": {
    "name": "ipython",
    "version": 2
   },
   "file_extension": ".py",
   "mimetype": "text/x-python",
   "name": "python",
   "nbconvert_exporter": "python",
   "pygments_lexer": "ipython2",
   "version": "2.7.9"
  }
 },
 "nbformat": 4,
 "nbformat_minor": 0
}
